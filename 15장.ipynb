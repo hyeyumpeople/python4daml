{
  "nbformat": 4,
  "nbformat_minor": 0,
  "metadata": {
    "colab": {
      "provenance": [],
      "authorship_tag": "ABX9TyO8Z8AbKN9k39F9Q/98PMAR"
    },
    "kernelspec": {
      "name": "python3",
      "display_name": "Python 3"
    },
    "language_info": {
      "name": "python"
    }
  },
  "cells": [
    {
      "cell_type": "markdown",
      "source": [
        "# 15장 동적 계획법"
      ],
      "metadata": {
        "id": "duwpRtdcHaee"
      }
    },
    {
      "cell_type": "markdown",
      "source": [
        "<table align=\"left\"><tr><td>\n",
        "<a href=\"https://colab.research.google.com/github/rickiepark/python4daml/blob/main/15장.ipynb\" target=\"_parent\"><img src=\"https://colab.research.google.com/assets/colab-badge.svg\" alt=\"코랩에서 실행하기\"/></a>\n",
        "</td></tr></table>"
      ],
      "metadata": {
        "id": "GCdh4-5yHkzJ"
      }
    },
    {
      "cell_type": "markdown",
      "source": [
        "## 15.1 피보나치 수열 다시 살펴 보기"
      ],
      "metadata": {
        "id": "Vqi1KR1OAA6u"
      }
    },
    {
      "cell_type": "code",
      "source": [
        "def fib(n): \n",
        "    \"\"\"n은 0보다 크거나 같은 정수라고 가정합니다.\n",
        "       n의 피보나치 수열 값을 반환합니다\"\"\" \n",
        "    if n == 0 or n == 1: \n",
        "        return 1 \n",
        "    else: \n",
        "        return fib(n-1) + fib(n-2) "
      ],
      "metadata": {
        "id": "YXWb6PazACVa"
      },
      "execution_count": null,
      "outputs": []
    },
    {
      "cell_type": "markdown",
      "source": [
        "그림 15-2 동적 계획법을 사용한 피보나치 구현"
      ],
      "metadata": {
        "id": "TINeJzU5UVBd"
      }
    },
    {
      "cell_type": "code",
      "source": [
        "def fib_memo(n, memo = None): \n",
        "    \"\"\"n은 0보다 크거나 같은 정수라고 가정하며, memo는 재귀 호출에서만 사용됩니다.\n",
        "       n의 피보나치 수열 값을 반환합니다\"\"\"\n",
        "    if memo == None: \n",
        "     memo = {} \n",
        "    if n == 0 or n == 1: \n",
        "        return 1 \n",
        "    try: \n",
        "        return memo[n] \n",
        "    except KeyError: \n",
        "        result = fib_memo(n-1, memo) + fib_memo(n-2, memo) \n",
        "        memo[n] = result \n",
        "        return result \n",
        "\n",
        "def fib_tab(n): \n",
        "    \"\"\"n은 0보다 크거나 같은 정수라고 가정합니다.\n",
        "       n의 피보나치 수열 값을 반환합니다\"\"\" \n",
        "    tab = [1]*(n+1) #처음 두 값만 맞습니다\n",
        "    for i in range(2, n + 1): \n",
        "        tab[i] = tab[i-1] + tab[i-2] \n",
        "    return tab[n] "
      ],
      "metadata": {
        "id": "LfGeUrYTB0-3"
      },
      "execution_count": null,
      "outputs": []
    },
    {
      "cell_type": "code",
      "source": [
        "fib_memo(120)"
      ],
      "metadata": {
        "colab": {
          "base_uri": "https://localhost:8080/"
        },
        "id": "c4gXGmJwaEJW",
        "outputId": "ecf523d4-d739-43b2-f2d2-895c3fb8a75b"
      },
      "execution_count": null,
      "outputs": [
        {
          "output_type": "execute_result",
          "data": {
            "text/plain": [
              "8670007398507948658051921"
            ]
          },
          "metadata": {},
          "execution_count": 3
        }
      ]
    },
    {
      "cell_type": "code",
      "source": [
        "fib_tab(120)"
      ],
      "metadata": {
        "colab": {
          "base_uri": "https://localhost:8080/"
        },
        "id": "XytkxyMKaG8y",
        "outputId": "4271ee01-d7e8-484c-ff6e-99586e814b41"
      },
      "execution_count": null,
      "outputs": [
        {
          "output_type": "execute_result",
          "data": {
            "text/plain": [
              "8670007398507948658051921"
            ]
          },
          "metadata": {},
          "execution_count": 4
        }
      ]
    },
    {
      "cell_type": "markdown",
      "source": [
        "**손가락 운동**"
      ],
      "metadata": {
        "id": "DNb0ZA1waIP3"
      }
    },
    {
      "cell_type": "code",
      "source": [
        "def make_change(coin_vals, change): \n",
        "    \"\"\"coin_vals는 양수 리스트이고 coin_vals[0] = 1입니다.\n",
        "       change는 양수입니다.\n",
        "       동전의 합이 change가 되기 위해 필요한 최소 동전 개수를 반환합니다.\n",
        "          동전은 한 번 이상 사용할 수 있습니다.\n",
        "          예를 들어 make_change([1, 5, 8], 11)은 3을 반환해야 합니다.\"\"\""
      ],
      "metadata": {
        "id": "yX_Cc8rNbZ4D"
      },
      "execution_count": null,
      "outputs": []
    },
    {
      "cell_type": "markdown",
      "source": [
        "## 15.2 동적 계획법과 0/1 배낭 문제"
      ],
      "metadata": {
        "id": "z0u9sq7cihNu"
      }
    },
    {
      "cell_type": "markdown",
      "source": [
        "그림 15-5 결정 트리를 사용해 배낭 문제 해결하기"
      ],
      "metadata": {
        "id": "Oi-7tgUZ1IDD"
      }
    },
    {
      "cell_type": "code",
      "source": [
        "def max_val(to_consider, avail): \n",
        "    \"\"\"to_consider는 물건의 리스트이고 avail은 무게라고 가정합니다.\n",
        "       0/1 배낭 문제의 해에 대한 총 가치와 물건을 튜플로 반환합니다\"\"\"\n",
        "    if to_consider == [] or avail == 0: \n",
        "        result = (0, ()) \n",
        "    elif to_consider[0].get_weight() > avail: \n",
        "        #오른쪽 가지만 탐색합니다\n",
        "        result = max_val(to_consider[1:], avail) \n",
        "    else: \n",
        "        next_item = to_consider[0] \n",
        "        #왼쪽 가지를 탐색합니다\n",
        "        with_val, with_to_take = max_val(to_consider[1:], \n",
        "                                         avail - next_item.get_weight()) \n",
        "        with_val += next_item.get_value() \n",
        "        #오른쪽 가지를 탐색합니다\n",
        "        without_val, without_to_take = max_val(to_consider[1:], avail) \n",
        "        #더 나은 가지를 선택합니다\n",
        "        if with_val > without_val: \n",
        "            result = (with_val, with_to_take + (next_item,)) \n",
        "        else: \n",
        "            result = (without_val, without_to_take) \n",
        "    return result"
      ],
      "metadata": {
        "id": "5vBNMOOYTxRB"
      },
      "execution_count": null,
      "outputs": []
    },
    {
      "cell_type": "code",
      "source": [
        "class Item(object): \n",
        "    def __init__(self, n, v, w): \n",
        "        self._name = n \n",
        "        self._value = v \n",
        "        self._weight = w \n",
        "    def get_name(self): \n",
        "        return self._name \n",
        "    def get_value(self): \n",
        "        return self._value \n",
        "    def get_weight(self): \n",
        "        return self._weight \n",
        "    def __str__(self): \n",
        "        return f'<{self._name}, {self._value}, {self._weight}>' "
      ],
      "metadata": {
        "id": "Md9HwscC9DXi"
      },
      "execution_count": null,
      "outputs": []
    },
    {
      "cell_type": "markdown",
      "source": [
        "그림 15-6 결정 트리 기반 구현 테스트하기"
      ],
      "metadata": {
        "id": "sK0LmoVv8oB0"
      }
    },
    {
      "cell_type": "code",
      "source": [
        "import random\n",
        "\n",
        "def small_test(): \n",
        "    names = ['a', 'b', 'c', 'd'] \n",
        "    vals = [6, 7, 8, 9] \n",
        "    weights = [3, 3, 2, 5] \n",
        "    Items = [] \n",
        "    for i in range(len(vals)): \n",
        "        Items.append(Item(names[i], vals[i], weights[i])) \n",
        "    val, taken = max_val(Items, 5) \n",
        "    for item in taken: \n",
        "        print(item) \n",
        "    print('선택한 물건의 총 가치 =', val) \n",
        "\n",
        "def build_many_items(num_items, max_val, max_weight): \n",
        "    items = [] \n",
        "    for i in range(num_items): \n",
        "        items.append(Item(str(i), \n",
        "                          random.randint(1, max_val), \n",
        "                          random.randint(1, max_weight))) \n",
        "    return items \n",
        "\n",
        "def big_test(num_items, avail_weight): \n",
        "    items = build_many_items(num_items, 10, 10) \n",
        "    val, taken = max_val(items, avail_weight) \n",
        "    print('선택한 물건') \n",
        "    for item in taken: \n",
        "        print(item) \n",
        "    print('선택한 물건의 총 가치 =', val) "
      ],
      "metadata": {
        "id": "Bni9JPyL8aOA"
      },
      "execution_count": null,
      "outputs": []
    },
    {
      "cell_type": "code",
      "source": [
        "small_test()"
      ],
      "metadata": {
        "colab": {
          "base_uri": "https://localhost:8080/"
        },
        "id": "n9-Rrsv09EX4",
        "outputId": "48bb4330-7e11-4cf4-93e7-5005b0010cb7"
      },
      "execution_count": null,
      "outputs": [
        {
          "output_type": "stream",
          "name": "stdout",
          "text": [
            "<c, 8, 2>\n",
            "<b, 7, 3>\n",
            "선택한 물건의 총 가치 = 15\n"
          ]
        }
      ]
    },
    {
      "cell_type": "code",
      "source": [
        "big_test(10, 40)"
      ],
      "metadata": {
        "colab": {
          "base_uri": "https://localhost:8080/"
        },
        "id": "-t7ATos09GYi",
        "outputId": "99b7cb7b-2976-4677-9929-b616f013ba21"
      },
      "execution_count": null,
      "outputs": [
        {
          "output_type": "stream",
          "name": "stdout",
          "text": [
            "선택한 물건\n",
            "<8, 5, 1>\n",
            "<6, 9, 3>\n",
            "<5, 10, 3>\n",
            "<4, 6, 6>\n",
            "<3, 9, 7>\n",
            "<2, 5, 10>\n",
            "<1, 8, 1>\n",
            "<0, 7, 9>\n",
            "선택한 물건의 총 가치 = 59\n"
          ]
        }
      ]
    },
    {
      "cell_type": "markdown",
      "source": [
        "그림 15-7 배낭 문제에 대한 동적 계획법 솔루션"
      ],
      "metadata": {
        "id": "0NqKrCIyLT-p"
      }
    },
    {
      "cell_type": "code",
      "source": [
        "def fast_max_val(to_consider, avail, memo = {}): \n",
        "    \"\"\"to_consider는 물건의 리스트이고 avail은 무게라고 가정합니다.\n",
        "       memo는 재귀 호출에 의해 제공됩니다.\n",
        "       0/1 배낭 문제의 해에 대한 총 가치와 물건을 튜플로 반환합니다\"\"\" \n",
        "    if (len(to_consider), avail) in memo: \n",
        "        result = memo[(len(to_consider), avail)] \n",
        "    elif to_consider == [] or avail == 0: \n",
        "        result = (0, ()) \n",
        "    elif to_consider[0].get_weight() > avail: \n",
        "        #오른쪽 가지만 탐색합니다\n",
        "        result = fast_max_val(to_consider[1:], avail, memo) \n",
        "    else: \n",
        "        next_item = to_consider[0] \n",
        "        #왼쪽 가지를 탐색합니다\n",
        "        with_val, with_to_take = \\\n",
        "                fast_max_val(to_consider[1:], \n",
        "                             avail - next_item.get_weight(), memo) \n",
        "        with_val += next_item.get_value() \n",
        "        #오른쪽 가지를 탐색합니다\n",
        "        without_val, without_to_take = fast_max_val(to_consider[1:], \n",
        "                                                    avail, memo) \n",
        "        #더 나은 가지를 선택합니다\n",
        "        if with_val > without_val: \n",
        "            result = (with_val, with_to_take + (next_item,)) \n",
        "        else: \n",
        "            result = (without_val, without_to_take) \n",
        "    memo[(len(to_consider), avail)] = result \n",
        "    return result "
      ],
      "metadata": {
        "id": "0bajQ1Dr_PNP"
      },
      "execution_count": null,
      "outputs": []
    },
    {
      "cell_type": "code",
      "source": [
        "def big_test(num_items, avail_weight): \n",
        "    items = build_many_items(num_items, 10, 10) \n",
        "    val, taken = fast_max_val(items, avail_weight) \n",
        "    print('선택한 물건') \n",
        "    for item in taken: \n",
        "        print(item) \n",
        "    print('선택한 물건의 총 가치 =', val) \n",
        "\n",
        "big_test(40, 100)"
      ],
      "metadata": {
        "colab": {
          "base_uri": "https://localhost:8080/"
        },
        "id": "yH8ViV3cNvgE",
        "outputId": "6c19d44d-530e-4d91-ad2a-fdff65cf9562"
      },
      "execution_count": null,
      "outputs": [
        {
          "output_type": "stream",
          "name": "stdout",
          "text": [
            "선택한 물건\n",
            "<39, 10, 8>\n",
            "<37, 9, 5>\n",
            "<36, 8, 8>\n",
            "<35, 3, 1>\n",
            "<33, 7, 1>\n",
            "<32, 7, 4>\n",
            "<31, 5, 2>\n",
            "<28, 5, 1>\n",
            "<27, 6, 8>\n",
            "<26, 8, 1>\n",
            "<25, 10, 4>\n",
            "<24, 4, 3>\n",
            "<23, 8, 9>\n",
            "<22, 7, 1>\n",
            "<21, 9, 5>\n",
            "<18, 10, 3>\n",
            "<14, 7, 6>\n",
            "<11, 3, 1>\n",
            "<9, 8, 5>\n",
            "<6, 6, 1>\n",
            "<4, 9, 4>\n",
            "<3, 3, 1>\n",
            "<2, 7, 6>\n",
            "<1, 8, 6>\n",
            "<0, 5, 6>\n",
            "선택한 물건의 총 가치 = 172\n"
          ]
        }
      ]
    }
  ]
}