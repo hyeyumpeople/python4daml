{
  "nbformat": 4,
  "nbformat_minor": 0,
  "metadata": {
    "colab": {
      "provenance": []
    },
    "kernelspec": {
      "name": "python3",
      "display_name": "Python 3"
    },
    "language_info": {
      "name": "python"
    }
  },
  "cells": [
    {
      "cell_type": "markdown",
      "source": [
        "<table align=\"left\"><tr><td>\n",
        "<a href=\"https://colab.research.google.com/github/rickiepark/python4daml/blob/main/4장.ipynb\" target=\"_parent\"><img src=\"https://colab.research.google.com/assets/colab-badge.svg\" alt=\"코랩에서 실행하기\"/></a>\n",
        "</td></tr></table>"
      ],
      "metadata": {
        "id": "USsQzQUpwch-"
      }
    },
    {
      "cell_type": "markdown",
      "source": [
        "# 4장 함수, 유효범위, 추상화"
      ],
      "metadata": {
        "id": "RRDDAOnjwcey"
      }
    },
    {
      "cell_type": "markdown",
      "source": [
        "그림 4-1 이분 검색을 사용한 x의 제곱근에 대한 근삿값 찾기"
      ],
      "metadata": {
        "id": "Gmzr_AZfwcSV"
      }
    },
    {
      "cell_type": "code",
      "execution_count": 1,
      "metadata": {
        "colab": {
          "base_uri": "https://localhost:8080/"
        },
        "id": "lrbgtp87j_f3",
        "outputId": "2e2d4509-d149-4009-f510-a72ecfa33fcf"
      },
      "outputs": [
        {
          "output_type": "stream",
          "name": "stdout",
          "text": [
            "5.00030517578125 는 25 의 제곱근에 가깝습니다\n"
          ]
        }
      ],
      "source": [
        "x = 25\n",
        "epsilon = 0.01\n",
        "\n",
        "# x 제곱근의 근삿값 찾기\n",
        "if x < 0:\n",
        "    print('제곱근이 존재하지 않습니다')\n",
        "else:\n",
        "    low = 0\n",
        "    high = max(1, x)\n",
        "    ans = (high + low)/2\n",
        "    while abs(ans**2 - x) >= epsilon:\n",
        "        if ans**2 < x:\n",
        "            low = ans\n",
        "        else:\n",
        "            high = ans\n",
        "        ans = (high + low)/2\n",
        "    print(ans, '는', x, '의 제곱근에 가깝습니다')"
      ]
    },
    {
      "cell_type": "markdown",
      "source": [
        "그림 4-2 제곱근과 세제곱근 더하기"
      ],
      "metadata": {
        "id": "dWd9WEQT6vcR"
      }
    },
    {
      "cell_type": "code",
      "source": [
        "x1 = 25\n",
        "epsilon = 0.01\n",
        "\n",
        "# x1의 제곱근을 찾습니다\n",
        "if x1 < 0:\n",
        "    print('Does not exist')\n",
        "else:\n",
        "    low = 0\n",
        "    high = max(1, x1)\n",
        "    ans = (high + low)/2\n",
        "    while abs(ans**2 - x1) >= epsilon:\n",
        "        if ans**2 < x1:\n",
        "            low = ans\n",
        "        else:\n",
        "            high = ans\n",
        "        ans = (high + low)/2\n",
        "x1_root = ans\n",
        "x2 = -8\n",
        "# x2의 세제곱근을 찾습니다\n",
        "if x2 < 0:\n",
        "    is_pos = False\n",
        "    x2 = -x2\n",
        "else:\n",
        "    is_pos = True\n",
        "low = 0\n",
        "high = max(1, x2)\n",
        "ans = (high + low)/2\n",
        "while abs(ans**3 - x2) >= epsilon:\n",
        "    if ans**3 < x2:\n",
        "        low = ans\n",
        "    else:\n",
        "        high = ans\n",
        "    ans = (high + low)/2\n",
        "if is_pos:\n",
        "    x2_root = ans\n",
        "else:\n",
        "    x2_root = -ans\n",
        "    x2 = -x2\n",
        "print(x1, '의 제곱근과', x2, '의 세제곱근의 합은', \n",
        "      x1_root + x2_root, '입니다')"
      ],
      "metadata": {
        "colab": {
          "base_uri": "https://localhost:8080/"
        },
        "id": "ZljtLPXP6wKJ",
        "outputId": "87db1700-1029-47ad-99d9-380a43b6b856"
      },
      "execution_count": 2,
      "outputs": [
        {
          "output_type": "stream",
          "name": "stdout",
          "text": [
            "25 의 제곱근과 -8 의 세제곱근의 합은 3.00030517578125 입니다\n"
          ]
        }
      ]
    },
    {
      "cell_type": "markdown",
      "source": [
        "## 4.1 함수와 유효범위"
      ],
      "metadata": {
        "id": "maDoRdZ_Et5d"
      }
    },
    {
      "cell_type": "markdown",
      "source": [
        "### 4.1.1 함수 정의"
      ],
      "metadata": {
        "id": "kt9-sNPTO-lo"
      }
    },
    {
      "cell_type": "code",
      "source": [
        "def max_val(x, y):\n",
        "    if x > y:\n",
        "        return x\n",
        "    else:\n",
        "        return y"
      ],
      "metadata": {
        "id": "X17Zu_yv7B8f"
      },
      "execution_count": 3,
      "outputs": []
    },
    {
      "cell_type": "code",
      "source": [
        "max_val(3, 4)"
      ],
      "metadata": {
        "colab": {
          "base_uri": "https://localhost:8080/"
        },
        "id": "iq-vOTLrE_cE",
        "outputId": "d5d48714-486a-4f73-a0e7-e3c537e87b46"
      },
      "execution_count": 4,
      "outputs": [
        {
          "output_type": "execute_result",
          "data": {
            "text/plain": [
              "4"
            ]
          },
          "metadata": {},
          "execution_count": 4
        }
      ]
    },
    {
      "cell_type": "markdown",
      "source": [
        "그림 4-3 근 찾기 함수"
      ],
      "metadata": {
        "id": "Fg2wlunkXgd2"
      }
    },
    {
      "cell_type": "code",
      "source": [
        "def find_root(x, power, epsilon):\n",
        "    # 답이 포함된 범위를 찾습니다\n",
        "    if x < 0 and power%2 == 0:\n",
        "        return None #음수는 짝수 제곱근이 없습니다.\n",
        "    low = min(-1, x)\n",
        "    high = max(1, x)\n",
        "    # 이분 검색을 사용합니다\n",
        "    ans = (high + low)/2\n",
        "    while abs(ans**power - x) >= epsilon:\n",
        "        if ans**power < x:\n",
        "            low = ans\n",
        "        else:\n",
        "            high = ans\n",
        "        ans = (high + low)/2\n",
        "    return ans"
      ],
      "metadata": {
        "id": "10KqWPF1FCMj"
      },
      "execution_count": 5,
      "outputs": []
    },
    {
      "cell_type": "markdown",
      "source": [
        "그림 4-4 `find_root` 테스트 코드"
      ],
      "metadata": {
        "id": "IXnEIjRqXqoB"
      }
    },
    {
      "cell_type": "code",
      "source": [
        "def test_find_root(x_vals, powers, epsilons):\n",
        "    for x in x_vals:\n",
        "        for p in powers:\n",
        "            for e in epsilons:\n",
        "                result = find_root(x, p, e)\n",
        "                if result == None:\n",
        "                    val = '근이 존재하지 않습니다'\n",
        "                else:\n",
        "                    val = '통과'\n",
        "                    if abs(result**p - x) > e:\n",
        "                        val = '실패'\n",
        "                print(f'x = {x}, power = {p}, epsilon = {e}: {val}')\n",
        "\n",
        "x_vals = (0.25, 8, -8)\n",
        "powers = (1, 2, 3)\n",
        "epsilons = (0.1, 0.001, 1)\n",
        "test_find_root(x_vals, powers, epsilons)"
      ],
      "metadata": {
        "colab": {
          "base_uri": "https://localhost:8080/"
        },
        "id": "OE42ktirUdkT",
        "outputId": "49e73e8b-756e-4688-d750-9b17ecc03fcc"
      },
      "execution_count": 6,
      "outputs": [
        {
          "output_type": "stream",
          "name": "stdout",
          "text": [
            "x = 0.25, power = 1, epsilon = 0.1: 통과\n",
            "x = 0.25, power = 1, epsilon = 0.001: 통과\n",
            "x = 0.25, power = 1, epsilon = 1: 통과\n",
            "x = 0.25, power = 2, epsilon = 0.1: 통과\n",
            "x = 0.25, power = 2, epsilon = 0.001: 통과\n",
            "x = 0.25, power = 2, epsilon = 1: 통과\n",
            "x = 0.25, power = 3, epsilon = 0.1: 통과\n",
            "x = 0.25, power = 3, epsilon = 0.001: 통과\n",
            "x = 0.25, power = 3, epsilon = 1: 통과\n",
            "x = 8, power = 1, epsilon = 0.1: 통과\n",
            "x = 8, power = 1, epsilon = 0.001: 통과\n",
            "x = 8, power = 1, epsilon = 1: 통과\n",
            "x = 8, power = 2, epsilon = 0.1: 통과\n",
            "x = 8, power = 2, epsilon = 0.001: 통과\n",
            "x = 8, power = 2, epsilon = 1: 통과\n",
            "x = 8, power = 3, epsilon = 0.1: 통과\n",
            "x = 8, power = 3, epsilon = 0.001: 통과\n",
            "x = 8, power = 3, epsilon = 1: 통과\n",
            "x = -8, power = 1, epsilon = 0.1: 통과\n",
            "x = -8, power = 1, epsilon = 0.001: 통과\n",
            "x = -8, power = 1, epsilon = 1: 통과\n",
            "x = -8, power = 2, epsilon = 0.1: 근이 존재하지 않습니다\n",
            "x = -8, power = 2, epsilon = 0.001: 근이 존재하지 않습니다\n",
            "x = -8, power = 2, epsilon = 1: 근이 존재하지 않습니다\n",
            "x = -8, power = 3, epsilon = 0.1: 통과\n",
            "x = -8, power = 3, epsilon = 0.001: 통과\n",
            "x = -8, power = 3, epsilon = 1: 통과\n"
          ]
        }
      ]
    },
    {
      "cell_type": "markdown",
      "source": [
        "**손가락 운동**"
      ],
      "metadata": {
        "id": "ZurBuaVvYwiZ"
      }
    },
    {
      "cell_type": "code",
      "source": [
        "sum = 0.\n",
        "epsilon = 0.001\n",
        "sum += find_root(25, 2, epsilon)\n",
        "sum += find_root(-8, 3, epsilon)\n",
        "sum += find_root(16, 4, epsilon)\n",
        "print(sum)"
      ],
      "metadata": {
        "colab": {
          "base_uri": "https://localhost:8080/"
        },
        "id": "UfKyDTHOYydE",
        "outputId": "ef7d0ded-df7f-4922-fa5d-29f4484c2b5c"
      },
      "execution_count": 7,
      "outputs": [
        {
          "output_type": "stream",
          "name": "stdout",
          "text": [
            "4.999988555908203\n"
          ]
        }
      ]
    },
    {
      "cell_type": "markdown",
      "source": [
        "**손가락 운동**"
      ],
      "metadata": {
        "id": "AGFJzoYpIDIE"
      }
    },
    {
      "cell_type": "code",
      "source": [
        "def is_in(s1, s2):\n",
        "    if s1 in s2 or s2 in s1:\n",
        "        return True\n",
        "    else:\n",
        "        return False\n",
        "\n",
        "is_in('abcde', 'abc')"
      ],
      "metadata": {
        "colab": {
          "base_uri": "https://localhost:8080/"
        },
        "id": "AgrdWl4HIEVy",
        "outputId": "b8afa4bf-b01f-411b-c25a-75ee4f59cb34"
      },
      "execution_count": 8,
      "outputs": [
        {
          "output_type": "execute_result",
          "data": {
            "text/plain": [
              "True"
            ]
          },
          "metadata": {},
          "execution_count": 8
        }
      ]
    },
    {
      "cell_type": "markdown",
      "source": [
        "**손가락 운동**"
      ],
      "metadata": {
        "id": "RciWQeB3Ilci"
      }
    },
    {
      "cell_type": "code",
      "source": [
        "def test_is_in(ss):\n",
        "    for s in ss:\n",
        "        s1 = s\n",
        "        s2 = s[1:len(s)-1]\n",
        "        if is_in(s1, s2) == True and is_in(s2, s1) == True:\n",
        "            val = '통과'\n",
        "        else:\n",
        "            val = '실패'\n",
        "        print(f's1 = {s1}, s2 = {s2}: {val}')\n",
        "        s2 = s[1:len(s)-1:2]\n",
        "        if is_in(s1, s2) == False and is_in(s2, s1) == False:\n",
        "            val = '통과'\n",
        "        else:\n",
        "            val = '실패'\n",
        "        print(f's1 = {s1}, s2 = {s2}: {val}')\n",
        "\n",
        "test_is_in(('abcde', 'python'))"
      ],
      "metadata": {
        "colab": {
          "base_uri": "https://localhost:8080/"
        },
        "id": "yJwNidZIIjtW",
        "outputId": "90e9c49f-39ca-424b-9514-0c79178def77"
      },
      "execution_count": 9,
      "outputs": [
        {
          "output_type": "stream",
          "name": "stdout",
          "text": [
            "s1 = abcde, s2 = bcd: 통과\n",
            "s1 = abcde, s2 = bd: 통과\n",
            "s1 = python, s2 = ytho: 통과\n",
            "s1 = python, s2 = yh: 통과\n"
          ]
        }
      ]
    },
    {
      "cell_type": "markdown",
      "source": [
        "### 4.1.2 키워드 인수와 기본값"
      ],
      "metadata": {
        "id": "4zzJdj74OxPI"
      }
    },
    {
      "cell_type": "code",
      "source": [
        "def print_name(first_name, last_name, reverse): \n",
        "    if reverse: \n",
        "        print(last_name + ', ' + first_name) \n",
        "    else: \n",
        "        print(first_name, last_name) "
      ],
      "metadata": {
        "id": "A82wdvLXYJew"
      },
      "execution_count": 10,
      "outputs": []
    },
    {
      "cell_type": "code",
      "source": [
        "print_name('길동', '\u001d홍', False)\n",
        "print_name('길동', '홍', reverse = False)\n",
        "print_name('길동', last_name = '홍', reverse = False)\n",
        "print_name(last_name = '홍', first_name = '길동', reverse = False)"
      ],
      "metadata": {
        "colab": {
          "base_uri": "https://localhost:8080/"
        },
        "id": "9yQqGPfzOyj1",
        "outputId": "6c67c1bb-8092-454c-c841-08a4f2e1abe1"
      },
      "execution_count": 12,
      "outputs": [
        {
          "output_type": "stream",
          "name": "stdout",
          "text": [
            "길동 \u001d홍\n",
            "길동 홍\n",
            "길동 홍\n",
            "길동 홍\n"
          ]
        }
      ]
    },
    {
      "cell_type": "code",
      "source": [
        "print_name('길동', last_name = '홍', False)"
      ],
      "metadata": {
        "colab": {
          "base_uri": "https://localhost:8080/",
          "height": 134
        },
        "id": "aB_saDb4Q-wv",
        "outputId": "d78319e7-b493-4f0b-8ca5-19d4630cd769"
      },
      "execution_count": 13,
      "outputs": [
        {
          "output_type": "error",
          "ename": "SyntaxError",
          "evalue": "ignored",
          "traceback": [
            "\u001b[0;36m  File \u001b[0;32m\"<ipython-input-13-182c2813b10a>\"\u001b[0;36m, line \u001b[0;32m1\u001b[0m\n\u001b[0;31m    print_name('길동', last_name = '홍', False)\u001b[0m\n\u001b[0m                                           ^\u001b[0m\n\u001b[0;31mSyntaxError\u001b[0m\u001b[0;31m:\u001b[0m positional argument follows keyword argument\n"
          ]
        }
      ]
    },
    {
      "cell_type": "code",
      "source": [
        "def print_name(first_name, last_name, reverse = False):\n",
        "    if reverse:\n",
        "        print(last_name + ', ' + first_name)\n",
        "    else:\n",
        "        print(first_name, last_name)"
      ],
      "metadata": {
        "id": "WFQaBC94Scqc"
      },
      "execution_count": 14,
      "outputs": []
    },
    {
      "cell_type": "code",
      "source": [
        "print_name('길동', '홍') \n",
        "print_name('길동', '홍', True) \n",
        "print_name('길동', '홍', reverse = True) "
      ],
      "metadata": {
        "colab": {
          "base_uri": "https://localhost:8080/"
        },
        "id": "rtwXf_SxS1E3",
        "outputId": "69f575da-d165-4212-e44a-c64124163174"
      },
      "execution_count": 15,
      "outputs": [
        {
          "output_type": "stream",
          "name": "stdout",
          "text": [
            "길동 홍\n",
            "홍, 길동\n",
            "홍, 길동\n"
          ]
        }
      ]
    },
    {
      "cell_type": "code",
      "source": [
        "print_name(last_name = '홍', first_name = '길동')"
      ],
      "metadata": {
        "colab": {
          "base_uri": "https://localhost:8080/"
        },
        "id": "0D4WJEVJTHXs",
        "outputId": "5c359400-199d-4816-8526-5d9239246e2b"
      },
      "execution_count": 17,
      "outputs": [
        {
          "output_type": "stream",
          "name": "stdout",
          "text": [
            "길동 홍\n"
          ]
        }
      ]
    },
    {
      "cell_type": "markdown",
      "source": [
        "**손가락 운동**"
      ],
      "metadata": {
        "id": "mXfbQftyVHLC"
      }
    },
    {
      "cell_type": "code",
      "source": [
        "def mult(i1=None, i2=None):\n",
        "    if i1 != None and i2 != None:\n",
        "        print(i1 * i2)\n",
        "    elif i1 != None:\n",
        "        print(i1)\n",
        "    elif i2 != None:\n",
        "        print(i2)\n",
        "\n",
        "mult(2, 3)\n",
        "mult(2)\n",
        "mult(i2=3)"
      ],
      "metadata": {
        "colab": {
          "base_uri": "https://localhost:8080/"
        },
        "id": "PaxEr1LcT7-Q",
        "outputId": "1dfe4a4f-dc95-4b5e-8621-7f693aa21ee0"
      },
      "execution_count": 18,
      "outputs": [
        {
          "output_type": "stream",
          "name": "stdout",
          "text": [
            "6\n",
            "2\n",
            "3\n"
          ]
        }
      ]
    },
    {
      "cell_type": "markdown",
      "source": [
        "### 4.1.3 가변 길이 인수"
      ],
      "metadata": {
        "id": "_MppuwQ3VJPD"
      }
    },
    {
      "cell_type": "code",
      "source": [
        "min(6,4) \n",
        "min(3,4,1,6)"
      ],
      "metadata": {
        "colab": {
          "base_uri": "https://localhost:8080/"
        },
        "id": "nhePJq39VR6g",
        "outputId": "eac9ef45-bd0a-4dd9-eed9-714ef3c40a2c"
      },
      "execution_count": 19,
      "outputs": [
        {
          "output_type": "execute_result",
          "data": {
            "text/plain": [
              "1"
            ]
          },
          "metadata": {},
          "execution_count": 19
        }
      ]
    },
    {
      "cell_type": "code",
      "source": [
        "def mean(*args):\n",
        "    # 적어도 한 개의 인수가 있고 모든 인수를 숫자로 가정합니다\n",
        "    # 인수의 평균을 반환합니다\n",
        "    tot = 0\n",
        "    for a in args:\n",
        "        tot += a\n",
        "    return tot/len(args)\n",
        "\n",
        "print(mean(1, 2))\n",
        "print(mean(-4, 0, 1))"
      ],
      "metadata": {
        "colab": {
          "base_uri": "https://localhost:8080/"
        },
        "id": "61EL6EPUmVyy",
        "outputId": "c2125f17-3ca8-4f0f-d2b8-1c41860741c7"
      },
      "execution_count": 20,
      "outputs": [
        {
          "output_type": "stream",
          "name": "stdout",
          "text": [
            "1.5\n",
            "-1.0\n"
          ]
        }
      ]
    },
    {
      "cell_type": "markdown",
      "source": [
        "### 4.1.4 유효범위"
      ],
      "metadata": {
        "id": "MLvEe-jIqCIS"
      }
    },
    {
      "cell_type": "code",
      "source": [
        "def f(x): #이름 x를 형식 매개변수로 사용합니다\n",
        "    y = 1\n",
        "    x = x + y\n",
        "    print('x =', x)\n",
        "    return x\n",
        "\n",
        "x = 3\n",
        "y = 2\n",
        "z = f(x) #x의 값을 실 매개변수로 사용합니다\n",
        "print('z =', z)\n",
        "print('x =', x)\n",
        "print('y =', y)"
      ],
      "metadata": {
        "colab": {
          "base_uri": "https://localhost:8080/"
        },
        "id": "isqBwGvypI-C",
        "outputId": "a2e5a0c7-8874-4d1f-ef0b-f34bfdfe77b4"
      },
      "execution_count": 21,
      "outputs": [
        {
          "output_type": "stream",
          "name": "stdout",
          "text": [
            "x = 4\n",
            "z = 4\n",
            "x = 3\n",
            "y = 2\n"
          ]
        }
      ]
    },
    {
      "cell_type": "markdown",
      "source": [
        "그림 4-5 중첩된 유효범위"
      ],
      "metadata": {
        "id": "YX_vzeoNVqrQ"
      }
    },
    {
      "cell_type": "code",
      "source": [
        "def f(x):\n",
        "    def g():\n",
        "        x = 'abc'\n",
        "        print('x =', x)\n",
        "    def h():\n",
        "        z = x\n",
        "        print('z =', z)\n",
        "    x = x + 1\n",
        "    print('x =', x)\n",
        "    h()\n",
        "    g()\n",
        "    print('x =', x)\n",
        "    return g\n",
        "\n",
        "x = 3\n",
        "z = f(x)\n",
        "print('x =', x)\n",
        "print('z =', z)\n",
        "z()"
      ],
      "metadata": {
        "colab": {
          "base_uri": "https://localhost:8080/"
        },
        "id": "4XZq_Jf4qdgq",
        "outputId": "67af79ac-f0a5-4c97-857c-fdcd28eb3558"
      },
      "execution_count": 22,
      "outputs": [
        {
          "output_type": "stream",
          "name": "stdout",
          "text": [
            "x = 4\n",
            "z = 4\n",
            "x = abc\n",
            "x = 4\n",
            "x = 3\n",
            "z = <function f.<locals>.g at 0x7f57b40d3a60>\n",
            "x = abc\n"
          ]
        }
      ]
    },
    {
      "cell_type": "code",
      "source": [
        "def f():\n",
        "    print(x)\n",
        "\n",
        "def g():\n",
        "    print(x)\n",
        "    x = 1\n",
        "\n",
        "x = 3\n",
        "f()\n",
        "x = 3\n",
        "g()"
      ],
      "metadata": {
        "id": "oWP5-ncRtLvn",
        "colab": {
          "base_uri": "https://localhost:8080/",
          "height": 342
        },
        "outputId": "bd8e20c6-13c4-40d9-fbf4-31de3c9fd8be"
      },
      "execution_count": 23,
      "outputs": [
        {
          "output_type": "stream",
          "name": "stdout",
          "text": [
            "3\n"
          ]
        },
        {
          "output_type": "error",
          "ename": "UnboundLocalError",
          "evalue": "ignored",
          "traceback": [
            "\u001b[0;31m---------------------------------------------------------------------------\u001b[0m",
            "\u001b[0;31mUnboundLocalError\u001b[0m                         Traceback (most recent call last)",
            "\u001b[0;32m<ipython-input-23-06934e6b9d6e>\u001b[0m in \u001b[0;36m<module>\u001b[0;34m\u001b[0m\n\u001b[1;32m      9\u001b[0m \u001b[0mf\u001b[0m\u001b[0;34m(\u001b[0m\u001b[0;34m)\u001b[0m\u001b[0;34m\u001b[0m\u001b[0;34m\u001b[0m\u001b[0m\n\u001b[1;32m     10\u001b[0m \u001b[0mx\u001b[0m \u001b[0;34m=\u001b[0m \u001b[0;36m3\u001b[0m\u001b[0;34m\u001b[0m\u001b[0;34m\u001b[0m\u001b[0m\n\u001b[0;32m---> 11\u001b[0;31m \u001b[0mg\u001b[0m\u001b[0;34m(\u001b[0m\u001b[0;34m)\u001b[0m\u001b[0;34m\u001b[0m\u001b[0;34m\u001b[0m\u001b[0m\n\u001b[0m",
            "\u001b[0;32m<ipython-input-23-06934e6b9d6e>\u001b[0m in \u001b[0;36mg\u001b[0;34m()\u001b[0m\n\u001b[1;32m      3\u001b[0m \u001b[0;34m\u001b[0m\u001b[0m\n\u001b[1;32m      4\u001b[0m \u001b[0;32mdef\u001b[0m \u001b[0mg\u001b[0m\u001b[0;34m(\u001b[0m\u001b[0;34m)\u001b[0m\u001b[0;34m:\u001b[0m\u001b[0;34m\u001b[0m\u001b[0;34m\u001b[0m\u001b[0m\n\u001b[0;32m----> 5\u001b[0;31m     \u001b[0mprint\u001b[0m\u001b[0;34m(\u001b[0m\u001b[0mx\u001b[0m\u001b[0;34m)\u001b[0m\u001b[0;34m\u001b[0m\u001b[0;34m\u001b[0m\u001b[0m\n\u001b[0m\u001b[1;32m      6\u001b[0m     \u001b[0mx\u001b[0m \u001b[0;34m=\u001b[0m \u001b[0;36m1\u001b[0m\u001b[0;34m\u001b[0m\u001b[0;34m\u001b[0m\u001b[0m\n\u001b[1;32m      7\u001b[0m \u001b[0;34m\u001b[0m\u001b[0m\n",
            "\u001b[0;31mUnboundLocalError\u001b[0m: local variable 'x' referenced before assignment"
          ]
        }
      ]
    },
    {
      "cell_type": "markdown",
      "source": [
        "## 4.2 사양"
      ],
      "metadata": {
        "id": "HhjkSxyKvq5B"
      }
    },
    {
      "cell_type": "markdown",
      "source": [
        "그림 4-7 사양을 포함한 함수 정의"
      ],
      "metadata": {
        "id": "g9S6EKLXbidr"
      }
    },
    {
      "cell_type": "code",
      "source": [
        "def find_root(x, power, epsilon):\n",
        "    \"\"\"x와 epsilon은 int 또는 float이고, power는 정수이며,\n",
        "           epsilon > 0 & power >= 1 라고 가정합니다\n",
        "       x에서 epsilon 이내에 y**power가 있다면 y를 반환합니다.\n",
        "           이런 float가 없다면 None을 반환합니다\"\"\"\n",
        "    # 답이 포함된 범위를 찾습니다\n",
        "    if x < 0 and power%2 == 0:\n",
        "        return None\n",
        "    low = min(-1, x)\n",
        "    high = max(1, x)\n",
        "    # 이분 검색을 사용합니다\n",
        "    ans = (high + low)/2\n",
        "    while abs(ans**power - x) >= epsilon:\n",
        "        if ans**power < x:\n",
        "            low = ans\n",
        "        else:\n",
        "            high = ans\n",
        "        ans = (high + low)/2\n",
        "    return ans"
      ],
      "metadata": {
        "id": "I-FOTEDOr3qS"
      },
      "execution_count": 24,
      "outputs": []
    },
    {
      "cell_type": "code",
      "source": [
        "help(abs)"
      ],
      "metadata": {
        "colab": {
          "base_uri": "https://localhost:8080/"
        },
        "id": "gPYbD_E2CmEz",
        "outputId": "4a30b756-9c28-4d81-996c-0aa985dbf691"
      },
      "execution_count": 25,
      "outputs": [
        {
          "output_type": "stream",
          "name": "stdout",
          "text": [
            "Help on built-in function abs in module builtins:\n",
            "\n",
            "abs(x, /)\n",
            "    Return the absolute value of the argument.\n",
            "\n"
          ]
        }
      ]
    },
    {
      "cell_type": "code",
      "source": [
        "help()"
      ],
      "metadata": {
        "colab": {
          "base_uri": "https://localhost:8080/"
        },
        "id": "GquRS88WCnQD",
        "outputId": "09df5721-c63b-4ff8-cbb2-ddb7432b5e37"
      },
      "execution_count": 26,
      "outputs": [
        {
          "output_type": "stream",
          "name": "stdout",
          "text": [
            "\n",
            "Welcome to Python 3.9's help utility!\n",
            "\n",
            "If this is your first time using Python, you should definitely check out\n",
            "the tutorial on the Internet at https://docs.python.org/3.9/tutorial/.\n",
            "\n",
            "Enter the name of any module, keyword, or topic to get help on writing\n",
            "Python programs and using Python modules.  To quit this help utility and\n",
            "return to the interpreter, just type \"quit\".\n",
            "\n",
            "To get a list of available modules, keywords, symbols, or topics, type\n",
            "\"modules\", \"keywords\", \"symbols\", or \"topics\".  Each module also comes\n",
            "with a one-line summary of what it does; to list the modules whose name\n",
            "or summary contain a given string such as \"spam\", type \"modules spam\".\n",
            "\n",
            "help> if\n",
            "The \"if\" statement\n",
            "******************\n",
            "\n",
            "The \"if\" statement is used for conditional execution:\n",
            "\n",
            "   if_stmt ::= \"if\" assignment_expression \":\" suite\n",
            "               (\"elif\" assignment_expression \":\" suite)*\n",
            "               [\"else\" \":\" suite]\n",
            "\n",
            "It selects exactly one of the suites by evaluating the expressions one\n",
            "by one until one is found to be true (see section Boolean operations\n",
            "for the definition of true and false); then that suite is executed\n",
            "(and no other part of the \"if\" statement is executed or evaluated).\n",
            "If all expressions are false, the suite of the \"else\" clause, if\n",
            "present, is executed.\n",
            "\n",
            "Related help topics: TRUTHVALUE\n",
            "\n",
            "help> quit\n",
            "\n",
            "You are now leaving help and returning to the Python interpreter.\n",
            "If you want to ask for help on a particular object directly from the\n",
            "interpreter, you can type \"help(object)\".  Executing \"help('string')\"\n",
            "has the same effect as typing a particular string at the help> prompt.\n"
          ]
        }
      ]
    },
    {
      "cell_type": "code",
      "source": [
        "help(find_root)"
      ],
      "metadata": {
        "colab": {
          "base_uri": "https://localhost:8080/"
        },
        "id": "BniDjKwxCzGD",
        "outputId": "8f483fac-37c4-4969-fb0d-de2f7f67f1eb"
      },
      "execution_count": 27,
      "outputs": [
        {
          "output_type": "stream",
          "name": "stdout",
          "text": [
            "Help on function find_root in module __main__:\n",
            "\n",
            "find_root(x, power, epsilon)\n",
            "    x와 epsilon은 int 또는 float이고, power는 정수이며,\n",
            "        epsilon > 0 & power >= 1 라고 가정합니다\n",
            "    x에서 epsilon 이내에 y**power가 있다면 y를 반환합니다.\n",
            "        이런 float가 없다면 None을 반환합니다\n",
            "\n"
          ]
        }
      ]
    },
    {
      "cell_type": "markdown",
      "source": [
        "**손가락 운동**"
      ],
      "metadata": {
        "id": "c6niUT3yN10Q"
      }
    },
    {
      "cell_type": "code",
      "source": [
        "def log(x, base, epsilon):\n",
        "    \"\"\"x와 epsilon은 int 또는 float, base는 int,\n",
        "           x > 1, epsilon > 0 & power >= 1라고 가정합니다.\n",
        "       x에서 epsilon 이내에 base**y를 만족시키는 y를 반환합니다.\"\"\"\n",
        "    # y의 하한값을 찾습니다\n",
        "    lower_bound = 0\n",
        "    while base**lower_bound < x:\n",
        "        lower_bound += 1\n",
        "    low = lower_bound -1\n",
        "    high = lower_bound + 1\n",
        "    # 이분 검색을 수행합니다\n",
        "    y = (high + low)/2\n",
        "    while abs(base**y -x) >= epsilon:\n",
        "        if base**y < x:\n",
        "            low = ans\n",
        "        else:\n",
        "            high = ans\n",
        "        y = (high + low)/2\n",
        "    return y\n",
        "\n",
        "log(8, 2, 0.01)"
      ],
      "metadata": {
        "colab": {
          "base_uri": "https://localhost:8080/"
        },
        "id": "ZK1AX8RaDJ7S",
        "outputId": "dd011770-5086-468e-f5b4-d5c1e823f783"
      },
      "execution_count": 28,
      "outputs": [
        {
          "output_type": "execute_result",
          "data": {
            "text/plain": [
              "3.0"
            ]
          },
          "metadata": {},
          "execution_count": 28
        }
      ]
    },
    {
      "cell_type": "markdown",
      "source": [
        "## 4.3 함수를 사용해 코드를 모듈화하기"
      ],
      "metadata": {
        "id": "IHgDO3ITPXby"
      }
    },
    {
      "cell_type": "markdown",
      "source": [
        "그림 4-8 `find_root`를 여러 개의 함수로 분할하기"
      ],
      "metadata": {
        "id": "axwU5t67dDIK"
      }
    },
    {
      "cell_type": "code",
      "source": [
        "def find_root_bounds(x, power):\n",
        "    \"\"\"x는 float, power는 양의 정수입니다.\n",
        "       low**power <=x 이고 high**power >= x인 low, high를 반환합니다.\n",
        "    \"\"\"\n",
        "    low = min(-1, x)\n",
        "    high = max(1, x)\n",
        "    return low, high\n",
        "\n",
        "def bisection_solve(x, power, epsilon, low, high):\n",
        "    \"\"\"x, epsilon, low, high는 float, epsilon > 0, low <= high이고\n",
        "           x에서 epsilon 이내에 ans**power를 만족시키는\n",
        "           low와 high 사이의 값 ans가 있습니다.\n",
        "       x에서 epsilon 이내에 ans**power를 만족시키는 ans를 반환합니다\"\"\"\n",
        "    ans = (high + low)/2\n",
        "    while abs(ans**power - x) >= epsilon:\n",
        "        if ans**power < x:\n",
        "            low = ans\n",
        "        else:\n",
        "            high = ans\n",
        "        ans = (high + low)/2\n",
        "    return ans\n",
        "\n",
        "def find_root(x, power, epsilon):\n",
        "    \"\"\"x와 epsilon은 int 또는 float, power는 int, \n",
        "           epsilon > 0 & power >= 1라고 가정합니다.\n",
        "       x에서 epsilon 이내에 y**power가 있다면 y를 반환합니다.\n",
        "           이런 float 값이 존재하지 않으면 None을 반환합니다\"\"\"\n",
        "    if x < 0 and power%2 == 0:\n",
        "        return None #음수는 짝수 제곱근이 없습니다.\n",
        "    low, high = find_root_bounds(x, power)\n",
        "    return bisection_solve(x, power, epsilon, low, high)"
      ],
      "metadata": {
        "id": "E_qBabyOOcVI"
      },
      "execution_count": 29,
      "outputs": []
    },
    {
      "cell_type": "markdown",
      "source": [
        "## 4.4 객체로서의 함수"
      ],
      "metadata": {
        "id": "unkWKcT9dGCe"
      }
    },
    {
      "cell_type": "markdown",
      "source": [
        "그림 4-9 `bisection_solve` 일반화하기"
      ],
      "metadata": {
        "id": "GIvlouCQfy2-"
      }
    },
    {
      "cell_type": "code",
      "source": [
        "def bisection_solve(x, eval_ans, epsilon, low, high):\n",
        "    \"\"\"x, epsilon, low, high는 float, epsilon > 0, \n",
        "       eval_ans는 float를 float로 매핑하는 함수, low <= high이고,\n",
        "       x에서 epsilon 이내에 eval(ans)를 만족시키는\n",
        "           low와 high 사이의 값 ans가 있습니다.\n",
        "       x에서 epsilon 이내에 eval(ans)를 만족시키는 ans를 반환합니다\"\"\"\n",
        "    ans = (high + low)/2\n",
        "    while abs(eval_ans(ans) - x) >= epsilon:\n",
        "        if eval_ans(ans) < x:\n",
        "            low = ans\n",
        "        else:\n",
        "            high = ans\n",
        "        ans = (high + low)/2\n",
        "    return ans"
      ],
      "metadata": {
        "id": "1_16xw61hN99"
      },
      "execution_count": 30,
      "outputs": []
    },
    {
      "cell_type": "code",
      "source": [
        "def square(ans): \n",
        "    return ans**2 \n",
        "\n",
        "low, high = find_root_bounds(99, 2) \n",
        "print(bisection_solve(99, square, 0.01, low, high)) "
      ],
      "metadata": {
        "colab": {
          "base_uri": "https://localhost:8080/"
        },
        "id": "k40bDCyChOcN",
        "outputId": "e9e07141-6004-45cf-8df1-e7c153c6c7be"
      },
      "execution_count": 31,
      "outputs": [
        {
          "output_type": "stream",
          "name": "stdout",
          "text": [
            "9.94970703125\n"
          ]
        }
      ]
    },
    {
      "cell_type": "markdown",
      "source": [
        "**손가락 운동**"
      ],
      "metadata": {
        "id": "j7gdc3knrVUT"
      }
    },
    {
      "cell_type": "code",
      "source": [
        "f = lambda i, j: None if j == 0 else i/j\n",
        "\n",
        "f(4, 0), f(4, 2)"
      ],
      "metadata": {
        "colab": {
          "base_uri": "https://localhost:8080/"
        },
        "id": "TKEdvo03mQsw",
        "outputId": "f540b4f6-7c3e-4565-e87d-3fe5f69ce7a3"
      },
      "execution_count": 32,
      "outputs": [
        {
          "output_type": "execute_result",
          "data": {
            "text/plain": [
              "(None, 2.0)"
            ]
          },
          "metadata": {},
          "execution_count": 32
        }
      ]
    },
    {
      "cell_type": "code",
      "source": [
        "def create_eval_ans(): \n",
        "    power = input('양의 정수를 입력하세요: ') \n",
        "    return lambda ans: ans**int(power) "
      ],
      "metadata": {
        "id": "09OSxAgMrmDr"
      },
      "execution_count": 33,
      "outputs": []
    },
    {
      "cell_type": "code",
      "source": [
        "eval_ans = create_eval_ans() \n",
        "print(bisection_solve(99, eval_ans, 0.01, low, high)) "
      ],
      "metadata": {
        "colab": {
          "base_uri": "https://localhost:8080/"
        },
        "id": "UaczoX3hsNdv",
        "outputId": "de49b7f2-2e6e-4c73-d5cb-629eab961a70"
      },
      "execution_count": 34,
      "outputs": [
        {
          "output_type": "stream",
          "name": "stdout",
          "text": [
            "양의 정수를 입력하세요: 2\n",
            "9.94970703125\n"
          ]
        }
      ]
    },
    {
      "cell_type": "markdown",
      "source": [
        "그림 4-10 `bisection_solve`를 사용하여 로그의 근삿값 구하기"
      ],
      "metadata": {
        "id": "YFkBTFeptgXP"
      }
    },
    {
      "cell_type": "code",
      "source": [
        "def log(x, base, epsilon):\n",
        "    \"\"\"x와 epsilon은 int 또는 float, base는 int, \n",
        "           x > 1, epsilon > 0 & power >= 1이라 가정합니다.\n",
        "       x에서 epsilon 이내에 base**y를 만족시키는 float y를 반환합니다.\"\"\"\n",
        "    def find_log_bounds(x, base):\n",
        "        upper_bound = 0\n",
        "        while base**upper_bound < x:\n",
        "            upper_bound += 1\n",
        "        return upper_bound -1, upper_bound\n",
        "    low, high = find_log_bounds(x, base)\n",
        "    return bisection_solve(x, lambda ans: base**ans, epsilon, low, high)"
      ],
      "metadata": {
        "id": "deOLaadJsSkI"
      },
      "execution_count": 35,
      "outputs": []
    },
    {
      "cell_type": "markdown",
      "source": [
        "## 4.5 메서드"
      ],
      "metadata": {
        "id": "WGBvd74rvk-u"
      }
    },
    {
      "cell_type": "code",
      "source": [
        "s = 'abcbc'\n",
        "s.find('bc')"
      ],
      "metadata": {
        "colab": {
          "base_uri": "https://localhost:8080/"
        },
        "id": "jPZRaYixtX0r",
        "outputId": "9867b159-4375-4588-cb88-b0ea7d655be3"
      },
      "execution_count": 36,
      "outputs": [
        {
          "output_type": "execute_result",
          "data": {
            "text/plain": [
              "1"
            ]
          },
          "metadata": {},
          "execution_count": 36
        }
      ]
    },
    {
      "cell_type": "code",
      "source": [
        "find(s, 'bc')"
      ],
      "metadata": {
        "colab": {
          "base_uri": "https://localhost:8080/",
          "height": 169
        },
        "id": "tigy0joH1rw9",
        "outputId": "62601bfc-2cbd-4636-cfad-0bdf68374ea5"
      },
      "execution_count": 37,
      "outputs": [
        {
          "output_type": "error",
          "ename": "NameError",
          "evalue": "ignored",
          "traceback": [
            "\u001b[0;31m---------------------------------------------------------------------------\u001b[0m",
            "\u001b[0;31mNameError\u001b[0m                                 Traceback (most recent call last)",
            "\u001b[0;32m<ipython-input-37-3a91127c88ff>\u001b[0m in \u001b[0;36m<module>\u001b[0;34m\u001b[0m\n\u001b[0;32m----> 1\u001b[0;31m \u001b[0mfind\u001b[0m\u001b[0;34m(\u001b[0m\u001b[0ms\u001b[0m\u001b[0;34m,\u001b[0m \u001b[0;34m'bc'\u001b[0m\u001b[0;34m)\u001b[0m\u001b[0;34m\u001b[0m\u001b[0;34m\u001b[0m\u001b[0m\n\u001b[0m",
            "\u001b[0;31mNameError\u001b[0m: name 'find' is not defined"
          ]
        }
      ]
    },
    {
      "cell_type": "markdown",
      "source": [
        "**손가락 운동**"
      ],
      "metadata": {
        "id": "7Z6ggwz41sw8"
      }
    },
    {
      "cell_type": "code",
      "source": [
        "s.find('cd')"
      ],
      "metadata": {
        "colab": {
          "base_uri": "https://localhost:8080/"
        },
        "id": "-WHBZe541x6i",
        "outputId": "f368be1b-3f9d-4b50-8de3-e60a8b84e756"
      },
      "execution_count": 38,
      "outputs": [
        {
          "output_type": "execute_result",
          "data": {
            "text/plain": [
              "-1"
            ]
          },
          "metadata": {},
          "execution_count": 38
        }
      ]
    },
    {
      "cell_type": "markdown",
      "source": [
        "**손가락 운동**"
      ],
      "metadata": {
        "id": "jFnDg7pW2DIJ"
      }
    },
    {
      "cell_type": "code",
      "source": [
        "def find_last(s, sub):\n",
        "    \"\"\"s와 sub는 빈 문자열이 아닙니다.\n",
        "       s에서 sub이 마지막으로 등장하는 인덱스를 반환하세요.\n",
        "       s에 sub이 등장하지 않으면 None을 반환합니다\"\"\"\n",
        "    if s.find(sub) < 0:\n",
        "        return None\n",
        "    return len(s) - (s[::-1].find(sub[::-1]) + len(sub))\n",
        "\n",
        "find_last('abcbc', 'bc')"
      ],
      "metadata": {
        "colab": {
          "base_uri": "https://localhost:8080/"
        },
        "id": "IS8DJe3u2caP",
        "outputId": "d4c135b5-d05d-4053-da31-551527f3612b"
      },
      "execution_count": 39,
      "outputs": [
        {
          "output_type": "execute_result",
          "data": {
            "text/plain": [
              "3"
            ]
          },
          "metadata": {},
          "execution_count": 39
        }
      ]
    },
    {
      "cell_type": "code",
      "source": [
        "def find_last_long_version(s, sub):\n",
        "    \"\"\"s와 sub는 빈 문자열이 아닙니다.\n",
        "       s에서 sub이 마지막으로 등장하는 인덱스를 반환하세요.\n",
        "       s에 sub이 등장하지 않으면 None을 반환합니다\"\"\"\n",
        "    result = s.find(sub)\n",
        "    if result < 0:\n",
        "        return None\n",
        "    while result >= 0:\n",
        "        idx = result\n",
        "        result = s[idx:].find(sub)\n",
        "    return idx\n",
        "\n",
        "find_last('abcbc', 'bc')"
      ],
      "metadata": {
        "colab": {
          "base_uri": "https://localhost:8080/"
        },
        "id": "RIpifbcR4Ex9",
        "outputId": "6afcbd6a-9705-4d21-d5aa-c2f924059e3b"
      },
      "execution_count": 40,
      "outputs": [
        {
          "output_type": "execute_result",
          "data": {
            "text/plain": [
              "3"
            ]
          },
          "metadata": {},
          "execution_count": 40
        }
      ]
    }
  ]
}