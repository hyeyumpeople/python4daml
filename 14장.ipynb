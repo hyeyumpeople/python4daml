{
  "nbformat": 4,
  "nbformat_minor": 0,
  "metadata": {
    "colab": {
      "provenance": [],
      "authorship_tag": "ABX9TyNBSZIkjXHX4LyEdLuBHIrD"
    },
    "kernelspec": {
      "name": "python3",
      "display_name": "Python 3"
    },
    "language_info": {
      "name": "python"
    }
  },
  "cells": [
    {
      "cell_type": "markdown",
      "source": [
        "# 14장 배낭 문제와 그래프 최적화 문제"
      ],
      "metadata": {
        "id": "KpWRJro7RwFv"
      }
    },
    {
      "cell_type": "markdown",
      "source": [
        "<table align=\"left\"><tr><td>\n",
        "<a href=\"https://colab.research.google.com/github/rickiepark/python4daml/blob/main/14장.ipynb\" target=\"_parent\"><img src=\"https://colab.research.google.com/assets/colab-badge.svg\" alt=\"코랩에서 실행하기\"/></a>\n",
        "</td></tr></table>"
      ],
      "metadata": {
        "id": "_p7-IIT-SKh7"
      }
    },
    {
      "cell_type": "markdown",
      "source": [
        "## 14.1 배낭 문제"
      ],
      "metadata": {
        "id": "7CqBxIQeiWP_"
      }
    },
    {
      "cell_type": "markdown",
      "source": [
        "### 14.1.1 탐욕 알고리즘"
      ],
      "metadata": {
        "id": "ULPmwtWricF-"
      }
    },
    {
      "cell_type": "markdown",
      "source": [
        "그림 14-2 Item 클래스"
      ],
      "metadata": {
        "id": "vzrpqVSQiqEi"
      }
    },
    {
      "cell_type": "code",
      "source": [
        "class Item(object): \n",
        "    def __init__(self, n, v, w): \n",
        "        self._name = n \n",
        "        self._value = v \n",
        "        self._weight = w \n",
        "    def get_name(self): \n",
        "        return self._name \n",
        "    def get_value(self): \n",
        "        return self._value \n",
        "    def get_weight(self): \n",
        "        return self._weight \n",
        "    def __str__(self): \n",
        "        return f'<{self._name}, {self._value}, {self._weight}>' \n",
        "\n",
        "def value(item): \n",
        "    return item.get_value() \n",
        "\n",
        "def weight_inverse(item): \n",
        "    return 1.0/item.get_weight() \n",
        "\n",
        "def density(item): \n",
        "    return item.get_value()/item.get_weight() "
      ],
      "metadata": {
        "id": "AGC_Y-8vSOMa"
      },
      "execution_count": 1,
      "outputs": []
    },
    {
      "cell_type": "markdown",
      "source": [
        "그림 14-3 탐욕 알고리즘 구현"
      ],
      "metadata": {
        "id": "gy5wmV47jqDu"
      }
    },
    {
      "cell_type": "code",
      "source": [
        "def greedy(items, max_weight, key_function): \n",
        "    \"\"\"items는 리스트, max_weight >= 0, \n",
        "       key_function는 items의 원소를 숫자에 매핑한다고 가정합니다\"\"\" \n",
        "    items_copy = sorted(items, key=key_function, reverse = True) \n",
        "    result = [] \n",
        "    total_value, total_weight = 0.0, 0.0 \n",
        "    for i in range(len(items_copy)): \n",
        "        if (total_weight + items_copy[i].get_weight()) <= max_weight: \n",
        "            result.append(items_copy[i]) \n",
        "            total_weight += items_copy[i].get_weight() \n",
        "            total_value += items_copy[i].get_value() \n",
        "    return (result, total_value) "
      ],
      "metadata": {
        "id": "ICR1t0aijqZK"
      },
      "execution_count": 2,
      "outputs": []
    },
    {
      "cell_type": "markdown",
      "source": [
        "그림 14-4 탐욕 알고리즘으로 물건 선택하기"
      ],
      "metadata": {
        "id": "RsDg1d5dnlcm"
      }
    },
    {
      "cell_type": "code",
      "source": [
        "def build_items(): \n",
        "    names = ['clock','painting','radio','vase','book','computer'] \n",
        "    values = [175,90,20,50,10,200] \n",
        "    weights = [10,9,4,2,1,20] \n",
        "    Items = [] \n",
        "    for i in range(len(values)): \n",
        "        Items.append(Item(names[i], values[i], weights[i])) \n",
        "    return Items \n",
        "\n",
        "def test_greedy(items, max_weight, key_function): \n",
        "    taken, val = greedy(items, max_weight, key_function) \n",
        "    print('선택한 물건의 총 가치:', val) \n",
        "    for item in taken: \n",
        "        print(' ', item) \n",
        "\n",
        "def test_greedys(max_weight = 20): \n",
        "    items = build_items() \n",
        "    print('가치 기준 탐욕 알고리즘을 사용해', max_weight, '크기의 배낭을 채우기') \n",
        "    test_greedy(items, max_weight, value) \n",
        "    print('\\n무게 기준 탐욕 알고리즘을 사용해', max_weight, '크기의 배낭을 채우기') \n",
        "    test_greedy(items, max_weight, weight_inverse) \n",
        "    print('\\n밀도 기준 탐욕 알고리즘을 사용해', max_weight, '크기의 배낭을 채우기') \n",
        "    test_greedy(items, max_weight, density) "
      ],
      "metadata": {
        "id": "sF8YGtmrnlwH"
      },
      "execution_count": 3,
      "outputs": []
    },
    {
      "cell_type": "code",
      "source": [
        "test_greedys()"
      ],
      "metadata": {
        "colab": {
          "base_uri": "https://localhost:8080/"
        },
        "id": "ejp5O1eModji",
        "outputId": "84a8879f-0bdf-46a5-a3f7-a8e3ade58b5d"
      },
      "execution_count": 4,
      "outputs": [
        {
          "output_type": "stream",
          "name": "stdout",
          "text": [
            "가치 기준 탐욕 알고리즘을 사용해 20 크기의 배낭을 채우기\n",
            "선택한 물건의 총 가치: 200.0\n",
            "  <computer, 200, 20>\n",
            "\n",
            "무게 기준 탐욕 알고리즘을 사용해 20 크기의 배낭을 채우기\n",
            "선택한 물건의 총 가치: 170.0\n",
            "  <book, 10, 1>\n",
            "  <vase, 50, 2>\n",
            "  <radio, 20, 4>\n",
            "  <painting, 90, 9>\n",
            "\n",
            "밀도 기준 탐욕 알고리즘을 사용해 20 크기의 배낭을 채우기\n",
            "선택한 물건의 총 가치: 255.0\n",
            "  <vase, 50, 2>\n",
            "  <clock, 175, 10>\n",
            "  <book, 10, 1>\n",
            "  <radio, 20, 4>\n"
          ]
        }
      ]
    },
    {
      "cell_type": "markdown",
      "source": [
        "### 14.1.2 0/1 배낭 문제의 최적 솔루션"
      ],
      "metadata": {
        "id": "ms6RDhpfonM8"
      }
    },
    {
      "cell_type": "code",
      "source": [
        "def get_binary_rep(n, num_digits): \n",
        "    \"\"\"n과 num_digits은 음수가 아닌 정수로 가정합니다. \n",
        "       n의 이진 표현을 num_digits 길이의 문자열로 반환합니다\"\"\" \n",
        "    result = '' \n",
        "    while n > 0: \n",
        "        result = str(n%2) + result \n",
        "        n = n//2 \n",
        "    if len(result) > num_digits: \n",
        "        raise ValueError('num_digits가 부족합니다') \n",
        "    for i in range(num_digits - len(result)): \n",
        "        result = '0' + result \n",
        "    return result \n",
        "\n",
        "def gen_powerset(L): \n",
        "    \"\"\"L은 리스트로 가정합니다. \n",
        "       L에 있는 원소로 가능한 모든 조합을 담은 리스트의 리스트를 반환합니다.\n",
        "       예를 들어 L이 [1, 2]이면 [], [1], [2], [1, 2]를 원소로 가진 리스트를 반환합니다\"\"\" \n",
        "    powerset = [] \n",
        "    for i in range(0, 2**len(L)): \n",
        "        bin_str = get_binary_rep(i, len(L)) \n",
        "        subset = [] \n",
        "        for j in range(len(L)): \n",
        "            if bin_str[j] == '1': \n",
        "                subset.append(L[j]) \n",
        "        powerset.append(subset) \n",
        "    return powerset "
      ],
      "metadata": {
        "id": "p6By3x3CqmXs"
      },
      "execution_count": 5,
      "outputs": []
    },
    {
      "cell_type": "code",
      "source": [
        "def choose_best(pset, max_weight, get_val, get_weight): \n",
        "    best_val = 0.0 \n",
        "    best_set = None \n",
        "    for items in pset: \n",
        "        items_val = 0.0 \n",
        "        items_weight = 0.0 \n",
        "        for item in items: \n",
        "            items_val += get_val(item) \n",
        "            items_weight += get_weight(item) \n",
        "        if items_weight <= max_weight and items_val > best_val: \n",
        "            best_val = items_val \n",
        "            best_set = items \n",
        "    return (best_set, best_val) \n",
        "\n",
        "def test_best(max_weight = 20): \n",
        "    items = build_items() \n",
        "    pset = gen_powerset(items) \n",
        "    taken, val = choose_best(pset, max_weight, Item.get_value, \n",
        "                             Item.get_weight) \n",
        "    print('선택한 물건의 총 가치:', val) \n",
        "    for item in taken: \n",
        "        print(item) "
      ],
      "metadata": {
        "id": "mhsGe4PDpEG0"
      },
      "execution_count": 6,
      "outputs": []
    },
    {
      "cell_type": "code",
      "source": [
        "test_best()"
      ],
      "metadata": {
        "colab": {
          "base_uri": "https://localhost:8080/"
        },
        "id": "ZWYpG6p5q8Py",
        "outputId": "0b22727b-f799-4427-cc17-c8e6cee153dc"
      },
      "execution_count": 7,
      "outputs": [
        {
          "output_type": "stream",
          "name": "stdout",
          "text": [
            "선택한 물건의 총 가치: 275.0\n",
            "<clock, 175, 10>\n",
            "<painting, 90, 9>\n",
            "<book, 10, 1>\n"
          ]
        }
      ]
    },
    {
      "cell_type": "markdown",
      "source": [
        "## 14.2 그래프 최적화 문제"
      ],
      "metadata": {
        "id": "KBcJG7ISwCRG"
      }
    },
    {
      "cell_type": "markdown",
      "source": [
        "그림 14-7 노드와 에지"
      ],
      "metadata": {
        "id": "V9fmRj_xx0m8"
      }
    },
    {
      "cell_type": "code",
      "source": [
        "class Node(object): \n",
        "    def __init__(self, name): \n",
        "        \"\"\"name은 문자열이라고 가정합니다\"\"\" \n",
        "        self._name = name \n",
        "    def get_name(self): \n",
        "        return self._name \n",
        "    def __str__(self): \n",
        "        return self._name \n",
        "\n",
        "class Edge(object): \n",
        "    def __init__(self, src, dest): \n",
        "        \"\"\"src와 dest는 노드라고 가정합니다\"\"\" \n",
        "        self._src = src \n",
        "        self._dest = dest \n",
        "    def get_source(self): \n",
        "        return self._src \n",
        "    def get_destination(self): \n",
        "        return self._dest \n",
        "    def __str__(self): \n",
        "        return self._src.get_name() + '->' + self._dest.get_name() \n",
        "\n",
        "class Weighted_edge(Edge): \n",
        "    def __init__(self, src, dest, weight = 1.0): \n",
        "        \"\"\"src와 dest는 노드이고, weight는 숫자라고 가정합니다\"\"\" \n",
        "        self._src = src \n",
        "        self._dest = dest \n",
        "        self._weight = weight \n",
        "    def get_weight(self): \n",
        "        return self._weight \n",
        "    def __str__(self): \n",
        "        return (f'{self._src.get_name()}->({self._weight})' + \n",
        "                f'{self._dest.get_name()}') "
      ],
      "metadata": {
        "id": "r-i1Cg68rb4d"
      },
      "execution_count": 8,
      "outputs": []
    },
    {
      "cell_type": "markdown",
      "source": [
        "그림 14-8 `Graph`와 `Digraph` 클래스"
      ],
      "metadata": {
        "id": "uSNDSYYQ0hWx"
      }
    },
    {
      "cell_type": "code",
      "source": [
        "class Digraph(object): \n",
        "    #_nodes는 그래프에 있는 노드의 리스트입니다.\n",
        "    #_edges는 각 노드를 자식 노드 리스트에 매핑한 딕셔너리입니다.\n",
        "    def __init__(self): \n",
        "        self._nodes = [] \n",
        "        self._edges = {} \n",
        "    def add_node(self, node): \n",
        "        if node in self._nodes: \n",
        "            raise ValueError('Duplicate node') \n",
        "        else: \n",
        "            self._nodes.append(node) \n",
        "            self._edges[node] = [] \n",
        "    def add_edge(self, edge): \n",
        "        src = edge.get_source() \n",
        "        dest = edge.get_destination() \n",
        "        if not (src in self._nodes and dest in self._nodes): \n",
        "            raise ValueError('Node not in graph') \n",
        "        self._edges[src].append(dest) \n",
        "    def children_of(self, node): \n",
        "        return self._edges[node] \n",
        "    def has_node(self, node): \n",
        "        return node in self._nodes \n",
        "    def __str__(self): \n",
        "        result = '' \n",
        "        for src in self._nodes: \n",
        "            for dest in self._edges[src]: \n",
        "                result = (result + src.get_name() + '->' \n",
        "                          + dest.get_name() + '\\n') \n",
        "        return result[:-1] #마지막 줄바꿈을 제외합니다\n",
        "\n",
        "class Graph(Digraph): \n",
        "    def add_edge(self, edge): \n",
        "        Digraph.add_edge(self, edge) \n",
        "        rev = Edge(edge.get_destination(), edge.get_source()) \n",
        "        Digraph.add_edge(self, rev) "
      ],
      "metadata": {
        "id": "4QvnkaTH0hx2"
      },
      "execution_count": 9,
      "outputs": []
    },
    {
      "cell_type": "markdown",
      "source": [
        "### 14.2.1 고전 그래프 문제"
      ],
      "metadata": {
        "id": "YxA-s0of-OES"
      }
    },
    {
      "cell_type": "markdown",
      "source": [
        "### 14.2.2 최단 경로: 깊이 우선 탐색과 너비 우선 탐색"
      ],
      "metadata": {
        "id": "YRZVFUmSDSzP"
      }
    },
    {
      "cell_type": "markdown",
      "source": [
        "그림 14-9 깊이 우선 탐색 최단 경로 알고리즘"
      ],
      "metadata": {
        "id": "krhLQ_F9kOpW"
      }
    },
    {
      "cell_type": "code",
      "source": [
        "def print_path(path): \n",
        "    \"\"\"path는 노드의 리스트라고 가정합니다\"\"\" \n",
        "    result = '' \n",
        "    for i in range(len(path)): \n",
        "        result = result + str(path[i]) \n",
        "        if i != len(path) - 1: \n",
        "            result = result + '->' \n",
        "    return result \n",
        "\n",
        "def DFS(graph, start, end, path, shortest, to_print = False): \n",
        "    \"\"\"Assumes graph는 Digraph, start와 end는 노드, \n",
        "       path와 shortest는 노드의 리스트로 가정합니다.\n",
        "       graph에서 start부터 end까지 최단 경로를 반환합니다\"\"\" \n",
        "    path = path + [start] \n",
        "    if to_print: \n",
        "        print('현재 DFS 경로:', print_path(path)) \n",
        "    if start == end: \n",
        "        return path \n",
        "    for node in graph.children_of(start): \n",
        "        if node not in path: #순환을 피합니다\n",
        "            if shortest == None or len(path) < len(shortest): \n",
        "                new_path = DFS(graph, node, end, path, shortest, to_print) \n",
        "                if new_path != None: \n",
        "                    shortest = new_path \n",
        "    return shortest \n",
        "\n",
        "def shortest_path(graph, start, end, to_print = False): \n",
        "    \"\"\"graph는 Digraph, start와 end는 노드라고 가정합니다.\n",
        "       그래프에서 start부터 end까지 최단 경로를 반환합니다\"\"\" \n",
        "    return DFS(graph, start, end, [], None, to_print) "
      ],
      "metadata": {
        "id": "fmFNL4JK-Pi9"
      },
      "execution_count": 10,
      "outputs": []
    },
    {
      "cell_type": "markdown",
      "source": [
        "코드 14-10 깊이 우선 탐색 코드 테스트"
      ],
      "metadata": {
        "id": "ovwTMZKNCYNE"
      }
    },
    {
      "cell_type": "code",
      "source": [
        "def test_SP(): \n",
        "    nodes = [] \n",
        "    for name in range(6): #6개 노드를 만듭니다\n",
        "        nodes.append(Node(str(name))) \n",
        "    g = Digraph() \n",
        "    for n in nodes: \n",
        "        g.add_node(n) \n",
        "    g.add_edge(Edge(nodes[0],nodes[1])) \n",
        "    g.add_edge(Edge(nodes[1],nodes[2])) \n",
        "    g.add_edge(Edge(nodes[2],nodes[3])) \n",
        "    g.add_edge(Edge(nodes[2],nodes[4])) \n",
        "    g.add_edge(Edge(nodes[3],nodes[4])) \n",
        "    g.add_edge(Edge(nodes[3],nodes[5])) \n",
        "    g.add_edge(Edge(nodes[0],nodes[2])) \n",
        "    g.add_edge(Edge(nodes[1],nodes[0])) \n",
        "    g.add_edge(Edge(nodes[3],nodes[1])) \n",
        "    g.add_edge(Edge(nodes[4],nodes[0])) \n",
        "    sp = shortest_path(g, nodes[0], nodes[5], to_print = True) \n",
        "    print('DFS가 찾은 최단 경로:', print_path(sp))"
      ],
      "metadata": {
        "id": "GerAdpCNCJpK"
      },
      "execution_count": 11,
      "outputs": []
    },
    {
      "cell_type": "code",
      "source": [
        "test_SP()"
      ],
      "metadata": {
        "colab": {
          "base_uri": "https://localhost:8080/"
        },
        "id": "wHHO0D6eCZcL",
        "outputId": "f478e08f-7c02-47e2-ed38-7435ff73d0c5"
      },
      "execution_count": 12,
      "outputs": [
        {
          "output_type": "stream",
          "name": "stdout",
          "text": [
            "현재 DFS 경로: 0\n",
            "현재 DFS 경로: 0->1\n",
            "현재 DFS 경로: 0->1->2\n",
            "현재 DFS 경로: 0->1->2->3\n",
            "현재 DFS 경로: 0->1->2->3->4\n",
            "현재 DFS 경로: 0->1->2->3->5\n",
            "현재 DFS 경로: 0->1->2->4\n",
            "현재 DFS 경로: 0->2\n",
            "현재 DFS 경로: 0->2->3\n",
            "현재 DFS 경로: 0->2->3->4\n",
            "현재 DFS 경로: 0->2->3->5\n",
            "현재 DFS 경로: 0->2->3->1\n",
            "현재 DFS 경로: 0->2->4\n",
            "DFS가 찾은 최단 경로: 0->2->3->5\n"
          ]
        }
      ]
    },
    {
      "cell_type": "markdown",
      "source": [
        "**손가락 운동**"
      ],
      "metadata": {
        "id": "M-GfzCh5Ep-L"
      }
    },
    {
      "cell_type": "code",
      "source": [
        "class Wgraph(Digraph): \n",
        "    def __init__(self): \n",
        "        super().__init__()\n",
        "        self._weighted_edges = [] \n",
        "    def add_edges(self, edges):\n",
        "        self._weighted_edges = edges\n",
        "        for edge in edges:\n",
        "            self.add_edge(edge)\n",
        "    def get_weights(self, path):\n",
        "        weight_sum = 0\n",
        "        parent_node = path[0]\n",
        "        for child_node in path[1:]:\n",
        "            for edge in self._weighted_edges:\n",
        "                if edge._src == parent_node and edge._dest == child_node:\n",
        "                    weight_sum += edge.get_weight()\n",
        "                    break\n",
        "            parent_node = child_node\n",
        "        return weight_sum\n",
        "\n",
        "def WDFS(graph, start, end, path, shortest, to_print = False): \n",
        "    \"\"\"Assumes graph는 Digraph, start와 end는 노드, \n",
        "       path와 shortest는 노드의 리스트로 가정합니다.\n",
        "       graph에서 start부터 end까지 최단 경로를 반환합니다\"\"\" \n",
        "    path = path + [start] \n",
        "    if to_print: \n",
        "        print('현재 DFS 경로:', print_path(path), '\\t', \n",
        "              '가중치 합:', graph.get_weights(path)) \n",
        "    if start == end:\n",
        "        return path \n",
        "    for node in graph.children_of(start):\n",
        "        if node in path: #순환을 피합니다\n",
        "            continue\n",
        "        new_path = WDFS(graph, node, end, path, shortest, to_print) \n",
        "        if shortest == None or (new_path != None and \\\n",
        "           graph.get_weights(new_path) < graph.get_weights(shortest)): \n",
        "            shortest = new_path \n",
        "    return shortest \n",
        "\n",
        "def test_WSP(): \n",
        "    nodes = [] \n",
        "    for name in range(6): #6개 노드를 만듭니다\n",
        "        nodes.append(Node(str(name))) \n",
        "    g = Wgraph() \n",
        "    for n in nodes: \n",
        "        g.add_node(n)\n",
        "    edges = [Weighted_edge(nodes[0],nodes[1],1),\n",
        "             Weighted_edge(nodes[1],nodes[2],2),\n",
        "             Weighted_edge(nodes[2],nodes[3],1),\n",
        "             Weighted_edge(nodes[2],nodes[4],1),\n",
        "             Weighted_edge(nodes[3],nodes[4],1),\n",
        "             Weighted_edge(nodes[3],nodes[5],2),\n",
        "             Weighted_edge(nodes[0],nodes[2],4),\n",
        "             Weighted_edge(nodes[1],nodes[0],1),\n",
        "             Weighted_edge(nodes[3],nodes[1],1),\n",
        "             Weighted_edge(nodes[4],nodes[0],1)\n",
        "             ]\n",
        "    g.add_edges(edges) \n",
        "    sp = WDFS(g, nodes[0], nodes[5], [], None, to_print = True) \n",
        "    print('DFS가 찾은 최단 경로:', print_path(sp))\n",
        "\n",
        "test_WSP()"
      ],
      "metadata": {
        "colab": {
          "base_uri": "https://localhost:8080/"
        },
        "id": "5a8bOpk3FoEl",
        "outputId": "b7492eee-9635-47a8-aa4b-8982fc898ebc"
      },
      "execution_count": 13,
      "outputs": [
        {
          "output_type": "stream",
          "name": "stdout",
          "text": [
            "현재 DFS 경로: 0 \t 가중치 합: 0\n",
            "현재 DFS 경로: 0->1 \t 가중치 합: 1\n",
            "현재 DFS 경로: 0->1->2 \t 가중치 합: 3\n",
            "현재 DFS 경로: 0->1->2->3 \t 가중치 합: 4\n",
            "현재 DFS 경로: 0->1->2->3->4 \t 가중치 합: 5\n",
            "현재 DFS 경로: 0->1->2->3->5 \t 가중치 합: 6\n",
            "현재 DFS 경로: 0->1->2->4 \t 가중치 합: 4\n",
            "현재 DFS 경로: 0->2 \t 가중치 합: 4\n",
            "현재 DFS 경로: 0->2->3 \t 가중치 합: 5\n",
            "현재 DFS 경로: 0->2->3->4 \t 가중치 합: 6\n",
            "현재 DFS 경로: 0->2->3->5 \t 가중치 합: 7\n",
            "현재 DFS 경로: 0->2->3->1 \t 가중치 합: 6\n",
            "현재 DFS 경로: 0->2->4 \t 가중치 합: 5\n",
            "DFS가 찾은 최단 경로: 0->1->2->3->5\n"
          ]
        }
      ]
    },
    {
      "cell_type": "markdown",
      "source": [
        "그림 14-11 너비 우선 탐색 최단 경로 알고리즘"
      ],
      "metadata": {
        "id": "R0aljjiJ03Vh"
      }
    },
    {
      "cell_type": "code",
      "source": [
        "def BFS(graph, start, end, to_print = False): \n",
        "    \"\"\"graph는 Digraph, start와 end는 노드라고 가정합니다.\n",
        "       graph에서 start부터 end까지 최단 경로를 반환합니다\"\"\" \n",
        "    init_path = [start] \n",
        "    path_queue = [init_path] \n",
        "    while len(path_queue) != 0: \n",
        "        #path_queue의 첫 번째 원소를 추출합니다\n",
        "        tmp_path = path_queue.pop(0) \n",
        "        if to_print: \n",
        "            print('현재 BFS 경로:', print_path(tmp_path)) \n",
        "        last_node = tmp_path[-1] \n",
        "        if last_node == end: \n",
        "            return tmp_path \n",
        "        for next_node in graph.children_of(last_node): \n",
        "            if next_node not in tmp_path: \n",
        "                new_path = tmp_path + [next_node] \n",
        "                path_queue.append(new_path) \n",
        "    return None "
      ],
      "metadata": {
        "id": "tkLDp2-ovry3"
      },
      "execution_count": 14,
      "outputs": []
    },
    {
      "cell_type": "code",
      "source": [
        "def test_SP(): \n",
        "    nodes = [] \n",
        "    for name in range(6): #6개 노드를 만듭니다\n",
        "        nodes.append(Node(str(name))) \n",
        "    g = Digraph() \n",
        "    for n in nodes: \n",
        "        g.add_node(n) \n",
        "    g.add_edge(Edge(nodes[0],nodes[1])) \n",
        "    g.add_edge(Edge(nodes[1],nodes[2])) \n",
        "    g.add_edge(Edge(nodes[2],nodes[3])) \n",
        "    g.add_edge(Edge(nodes[2],nodes[4])) \n",
        "    g.add_edge(Edge(nodes[3],nodes[4])) \n",
        "    g.add_edge(Edge(nodes[3],nodes[5])) \n",
        "    g.add_edge(Edge(nodes[0],nodes[2])) \n",
        "    g.add_edge(Edge(nodes[1],nodes[0])) \n",
        "    g.add_edge(Edge(nodes[3],nodes[1])) \n",
        "    g.add_edge(Edge(nodes[4],nodes[0])) \n",
        "    sp = BFS(g, nodes[0], nodes[5], to_print=True) \n",
        "    print('BFS가 찾은 최단 경로:', print_path(sp)) \n",
        "\n",
        "test_SP()"
      ],
      "metadata": {
        "colab": {
          "base_uri": "https://localhost:8080/"
        },
        "id": "-4I5f-IzxfJS",
        "outputId": "967df5e5-d8a9-4430-d9e0-617f1c5d53b5"
      },
      "execution_count": 15,
      "outputs": [
        {
          "output_type": "stream",
          "name": "stdout",
          "text": [
            "현재 BFS 경로: 0\n",
            "현재 BFS 경로: 0->1\n",
            "현재 BFS 경로: 0->2\n",
            "현재 BFS 경로: 0->1->2\n",
            "현재 BFS 경로: 0->2->3\n",
            "현재 BFS 경로: 0->2->4\n",
            "현재 BFS 경로: 0->1->2->3\n",
            "현재 BFS 경로: 0->1->2->4\n",
            "현재 BFS 경로: 0->2->3->4\n",
            "현재 BFS 경로: 0->2->3->5\n",
            "BFS가 찾은 최단 경로: 0->2->3->5\n"
          ]
        }
      ]
    }
  ]
}