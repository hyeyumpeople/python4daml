{
  "nbformat": 4,
  "nbformat_minor": 0,
  "metadata": {
    "colab": {
      "provenance": [],
      "authorship_tag": "ABX9TyPEi5asdf/dorjxEAofuN28"
    },
    "kernelspec": {
      "name": "python3",
      "display_name": "Python 3"
    },
    "language_info": {
      "name": "python"
    }
  },
  "cells": [
    {
      "cell_type": "markdown",
      "source": [
        "<table align=\"left\"><tr><td>\n",
        "<a href=\"https://colab.research.google.com/github/rickiepark/python4daml/blob/main/12장.ipynb\" target=\"_parent\"><img src=\"https://colab.research.google.com/assets/colab-badge.svg\" alt=\"코랩에서 실행하기\"/></a>\n",
        "</td></tr></table>"
      ],
      "metadata": {
        "id": "mfQbJKnNOAJb"
      }
    },
    {
      "cell_type": "markdown",
      "source": [
        "# 12장 몇 가지 간단한 알고리즘과 데이터 구조"
      ],
      "metadata": {
        "id": "KtiOf8SbN57J"
      }
    },
    {
      "cell_type": "markdown",
      "source": [
        "## 12.1 검색 알고리즘"
      ],
      "metadata": {
        "id": "3YyhkPMi4xhD"
      }
    },
    {
      "cell_type": "markdown",
      "source": [
        "### 12.1.1 선형 검색과 간접 참조로 원소에 접근하기"
      ],
      "metadata": {
        "id": "jHK45qNo4ywI"
      }
    },
    {
      "cell_type": "markdown",
      "source": [
        "### 12.1.2 이진 검색과 가정 활용"
      ],
      "metadata": {
        "id": "rWx7pSgn4uYA"
      }
    },
    {
      "cell_type": "markdown",
      "source": [
        "그림 12.2 정렬된 리스트의 선형 검색"
      ],
      "metadata": {
        "id": "ZXVgIB7UN5Jb"
      }
    },
    {
      "cell_type": "code",
      "source": [
        "def search(L, e):\n",
        "    \"\"\"L이 리스트이고 원소가 오름차순으로 정렬되어 있다고 가정합니다.\n",
        "       L에 e가 포함되어 있으면 True, 그렇지 않으면 False를 반환합니다\"\"\"\n",
        "    for i in range(len(L)):\n",
        "        if L[i] == e:\n",
        "            return True\n",
        "        if L[i] > e:\n",
        "            return False\n",
        "    return False"
      ],
      "metadata": {
        "id": "Yt0LQjxDIYQL"
      },
      "execution_count": 1,
      "outputs": []
    },
    {
      "cell_type": "markdown",
      "source": [
        "그림 12-3 재귀를 사용한 이진 검색 구현"
      ],
      "metadata": {
        "id": "yjTyh1crYz4y"
      }
    },
    {
      "cell_type": "code",
      "source": [
        "def search(L, e):\n",
        "    \"\"\"L이 리스트이고 원소가 오름차순으로 정렬되어 있다고 가정합니다.\n",
        "       L에 e가 포함되어 있으면 True, 그렇지 않으면 False를 반환합니다\"\"\"\n",
        "\n",
        "    def bin_search(L, e, low, high):\n",
        "        #high - low를 줄입니다\n",
        "        if high == low:\n",
        "            return L[low] == e\n",
        "        mid = (low + high)//2\n",
        "        if L[mid] == e:\n",
        "            return True\n",
        "        elif L[mid] > e:\n",
        "            if low == mid: #nothing left to search\n",
        "                return False\n",
        "            else:\n",
        "                return bin_search(L, e, low, mid -1)\n",
        "        else:\n",
        "            return bin_search(L, e, mid + 1, high)\n",
        "\n",
        "    if len(L) == 0:\n",
        "        return False\n",
        "    else:\n",
        "        return bin_search(L, e, 0, len(L) -1)"
      ],
      "metadata": {
        "id": "tW4PyfDGRmGw"
      },
      "execution_count": 2,
      "outputs": []
    },
    {
      "cell_type": "markdown",
      "source": [
        "## 12.2 정렬 알고리즘"
      ],
      "metadata": {
        "id": "PkmDPh34Yt1e"
      }
    },
    {
      "cell_type": "markdown",
      "source": [
        "그림 12-4 선택 정렬"
      ],
      "metadata": {
        "id": "8BPB7qJKYvMN"
      }
    },
    {
      "cell_type": "code",
      "source": [
        "def sel_sort(L):\n",
        "    \"\"\"L은 >을 사용해 비교할 수 있는 원소로 구성된 리스트라 가정합니다.\n",
        "       L은 오름차순으로 정렬합니다\"\"\"\n",
        "    suffix_start = 0\n",
        "    while suffix_start != len(L):\n",
        "        #뒷부분에 있는 모든 원소를 반복합니다\n",
        "        for i in range(suffix_start, len(L)):\n",
        "            if L[i] < L[suffix_start]:\n",
        "                #원소의 위치를 바꿉니다\n",
        "                L[suffix_start], L[i] = L[i], L[suffix_start]\n",
        "        suffix_start += 1"
      ],
      "metadata": {
        "id": "flk97XyvYuPQ"
      },
      "execution_count": 3,
      "outputs": []
    },
    {
      "cell_type": "markdown",
      "source": [
        "### 12.2.1 합병 정렬"
      ],
      "metadata": {
        "id": "dMvSiLH4ZXfy"
      }
    },
    {
      "cell_type": "markdown",
      "source": [
        "그림 12-5 합병 정렬"
      ],
      "metadata": {
        "id": "fX4XDml2knPh"
      }
    },
    {
      "cell_type": "code",
      "source": [
        "def merge(left, right, compare):\n",
        "    \"\"\"left와 right는 정렬된 리스트이고 compare는 원소의 순서를 정의합니다.\n",
        "       (left + right)의 결과와 같은 원소를 담은 새로운 정렬된 리스트를 반환합니다.\"\"\"\n",
        "\n",
        "    result = []\n",
        "    i,j = 0, 0\n",
        "    while i < len(left) and j < len(right):\n",
        "        if compare(left[i], right[j]):\n",
        "            result.append(left[i])\n",
        "            i += 1\n",
        "        else:\n",
        "            result.append(right[j])\n",
        "            j += 1\n",
        "    while (i < len(left)):\n",
        "        result.append(left[i])\n",
        "        i += 1\n",
        "    while (j < len(right)):\n",
        "        result.append(right[j])\n",
        "        j += 1\n",
        "    return result\n",
        "\n",
        "def merge_sort(L, compare = lambda x, y: x < y):\n",
        "    \"\"\"L은 리스트이고 compare는 L 원소의 순서를 정의합니다.\n",
        "       L와 동일한 원소를 가진 새로운 정렬된 리스트를 반환합니다\"\"\"\n",
        "    if len(L) < 2:\n",
        "        return L[:]\n",
        "    else:\n",
        "        middle = len(L)//2\n",
        "        left = merge_sort(L[:middle], compare)\n",
        "        right = merge_sort(L[middle:], compare)\n",
        "        return merge(left, right, compare)"
      ],
      "metadata": {
        "id": "5L3U8xPzZXOU"
      },
      "execution_count": 4,
      "outputs": []
    },
    {
      "cell_type": "code",
      "source": [
        "L = [2,1,4,5,3]\n",
        "print(merge_sort(L), merge_sort(L, lambda x, y: x > y))"
      ],
      "metadata": {
        "colab": {
          "base_uri": "https://localhost:8080/"
        },
        "id": "QEdachTVmUYU",
        "outputId": "2396ac1b-622d-4a7e-a9c0-5933a906d912"
      },
      "execution_count": 5,
      "outputs": [
        {
          "output_type": "stream",
          "name": "stdout",
          "text": [
            "[1, 2, 3, 4, 5] [5, 4, 3, 2, 1]\n"
          ]
        }
      ]
    },
    {
      "cell_type": "markdown",
      "source": [
        "**손가락 운동**"
      ],
      "metadata": {
        "id": "k0fAvyAUWCO3"
      }
    },
    {
      "cell_type": "code",
      "source": [
        "L = [(1, 8), (5, 2), (1, 2, 3)]\n",
        "merge_sort(L, lambda x, y: sum(x) < sum(y))"
      ],
      "metadata": {
        "colab": {
          "base_uri": "https://localhost:8080/"
        },
        "id": "9Ch0bwdhWFgC",
        "outputId": "71c22ff0-9355-43e1-bf6e-08a0064a78c7"
      },
      "execution_count": 6,
      "outputs": [
        {
          "output_type": "execute_result",
          "data": {
            "text/plain": [
              "[(1, 2, 3), (5, 2), (1, 8)]"
            ]
          },
          "metadata": {},
          "execution_count": 6
        }
      ]
    },
    {
      "cell_type": "markdown",
      "source": [
        "### 12.2.2 파이썬의 정렬 기능"
      ],
      "metadata": {
        "id": "ZK9_HGN4DI2D"
      }
    },
    {
      "cell_type": "markdown",
      "source": [
        "그림 12-6 이름 리스트 정렬하기"
      ],
      "metadata": {
        "id": "ltpq_S7JS1Ua"
      }
    },
    {
      "cell_type": "code",
      "source": [
        "def last_name_first_name(name1, name2):\n",
        "    arg1 = name1.split(' ')\n",
        "    arg2 = name2.split(' ')\n",
        "    if arg1[1] != arg2[1]:\n",
        "        return arg1[1] < arg2[1]\n",
        "    else: #성이 같은 경우 이름으로 정렬합니다\n",
        "        return arg1[0] < arg2[0]\n",
        "def first_name_last_name(name1, name2):\n",
        "    arg1 = name1.split(' ')\n",
        "    arg2 = name2.split(' ')\n",
        "    if arg1[0] != arg2[0]:\n",
        "        return arg1[0] < arg2[0]\n",
        "    else: #이름이 같은 경우 성으로 정렬합니다\n",
        "        return arg1[1] < arg2[1]\n",
        "\n",
        "L = ['Tom Brady', 'Eric Grimson', 'Gisele Bundchen']\n",
        "newL = merge_sort(L, last_name_first_name)\n",
        "print('성으로 정렬하기 =', newL)\n",
        "newL = merge_sort(L, first_name_last_name)\n",
        "print('이름으로 정렬하기 =', newL)"
      ],
      "metadata": {
        "colab": {
          "base_uri": "https://localhost:8080/"
        },
        "id": "L0EiO3-JI2D0",
        "outputId": "c4eda630-9185-41cc-c488-868066c7d181"
      },
      "execution_count": 7,
      "outputs": [
        {
          "output_type": "stream",
          "name": "stdout",
          "text": [
            "성으로 정렬하기 = ['Tom Brady', 'Gisele Bundchen', 'Eric Grimson']\n",
            "이름으로 정렬하기 = ['Eric Grimson', 'Gisele Bundchen', 'Tom Brady']\n"
          ]
        }
      ]
    },
    {
      "cell_type": "code",
      "source": [
        "L = [3,5,2]\n",
        "D = {'a':12, 'c':5, 'b':'dog'}\n",
        "print(sorted(L))\n",
        "print(L)\n",
        "L.sort()\n",
        "print(L)\n",
        "print(sorted(D))\n",
        "D.sort()"
      ],
      "metadata": {
        "colab": {
          "base_uri": "https://localhost:8080/",
          "height": 274
        },
        "id": "w6gC4AA2Sf7S",
        "outputId": "331f9eeb-87ae-43b3-a14e-a1552eb8a8ad"
      },
      "execution_count": 8,
      "outputs": [
        {
          "output_type": "stream",
          "name": "stdout",
          "text": [
            "[2, 3, 5]\n",
            "[3, 5, 2]\n",
            "[2, 3, 5]\n",
            "['a', 'b', 'c']\n"
          ]
        },
        {
          "output_type": "error",
          "ename": "AttributeError",
          "evalue": "ignored",
          "traceback": [
            "\u001b[0;31m---------------------------------------------------------------------------\u001b[0m",
            "\u001b[0;31mAttributeError\u001b[0m                            Traceback (most recent call last)",
            "\u001b[0;32m<ipython-input-8-3a8a0670ea9b>\u001b[0m in \u001b[0;36m<module>\u001b[0;34m\u001b[0m\n\u001b[1;32m      6\u001b[0m \u001b[0mprint\u001b[0m\u001b[0;34m(\u001b[0m\u001b[0mL\u001b[0m\u001b[0;34m)\u001b[0m\u001b[0;34m\u001b[0m\u001b[0;34m\u001b[0m\u001b[0m\n\u001b[1;32m      7\u001b[0m \u001b[0mprint\u001b[0m\u001b[0;34m(\u001b[0m\u001b[0msorted\u001b[0m\u001b[0;34m(\u001b[0m\u001b[0mD\u001b[0m\u001b[0;34m)\u001b[0m\u001b[0;34m)\u001b[0m\u001b[0;34m\u001b[0m\u001b[0;34m\u001b[0m\u001b[0m\n\u001b[0;32m----> 8\u001b[0;31m \u001b[0mD\u001b[0m\u001b[0;34m.\u001b[0m\u001b[0msort\u001b[0m\u001b[0;34m(\u001b[0m\u001b[0;34m)\u001b[0m\u001b[0;34m\u001b[0m\u001b[0;34m\u001b[0m\u001b[0m\n\u001b[0m",
            "\u001b[0;31mAttributeError\u001b[0m: 'dict' object has no attribute 'sort'"
          ]
        }
      ]
    },
    {
      "cell_type": "code",
      "source": [
        "L = [[1,2,3], (3,2,1,0), 'abc']\n",
        "print(sorted(L, key = len, reverse = True))"
      ],
      "metadata": {
        "colab": {
          "base_uri": "https://localhost:8080/"
        },
        "id": "oFsNeD-JvuWR",
        "outputId": "10cb032e-bb4d-4999-bc70-88d62171fb60"
      },
      "execution_count": 9,
      "outputs": [
        {
          "output_type": "stream",
          "name": "stdout",
          "text": [
            "[(3, 2, 1, 0), [1, 2, 3], 'abc']\n"
          ]
        }
      ]
    },
    {
      "cell_type": "markdown",
      "source": [
        "**손가락 운동**"
      ],
      "metadata": {
        "id": "WCeDtEw89lLS"
      }
    },
    {
      "cell_type": "code",
      "source": [
        "L = [[1,2,3], (3,2,1), 'abc']\n",
        "merge_sort(L, compare=lambda x, y: len(x) < len(y))"
      ],
      "metadata": {
        "colab": {
          "base_uri": "https://localhost:8080/"
        },
        "id": "7myhricvxJ-i",
        "outputId": "a55fee42-efbe-4c79-9802-db7128ed0c17"
      },
      "execution_count": 10,
      "outputs": [
        {
          "output_type": "execute_result",
          "data": {
            "text/plain": [
              "['abc', (3, 2, 1), [1, 2, 3]]"
            ]
          },
          "metadata": {},
          "execution_count": 10
        }
      ]
    },
    {
      "cell_type": "markdown",
      "source": [
        "## 12.3 해시 테이블"
      ],
      "metadata": {
        "id": "qBfqfOYl-Ml8"
      }
    },
    {
      "cell_type": "markdown",
      "source": [
        "그림 12-7 해싱을 사용한 딕셔너리 구현"
      ],
      "metadata": {
        "id": "CK-S_L-5vJh5"
      }
    },
    {
      "cell_type": "code",
      "source": [
        "class Int_dict(object):\n",
        "    \"\"\"정수 키를 사용한 딕셔너리\"\"\"\n",
        "\n",
        "    def __init__(self, num_buckets):\n",
        "        \"\"\"빈 딕셔너리를 만듭니다\"\"\"\n",
        "        self.buckets = []\n",
        "        self.num_buckets = num_buckets\n",
        "        for i in range(num_buckets):\n",
        "            self.buckets.append([])\n",
        "\n",
        "    def add_entry(self, key, dict_val):\n",
        "        \"\"\"key는 int라고 가정합니다. 항목을 추가합니다.\"\"\"\n",
        "        hash_bucket = self.buckets[key%self.num_buckets]\n",
        "        for i in range(len(hash_bucket)):\n",
        "            if hash_bucket[i][0] == key:\n",
        "                hash_bucket[i] = (key, dict_val)\n",
        "                return\n",
        "        hash_bucket.append((key, dict_val))\n",
        "\n",
        "    def get_value(self, key):\n",
        "        \"\"\"key는 int라고 가정합니다.\n",
        "           key에 연관된 값을 반환합니다\"\"\"\n",
        "        hash_bucket = self.buckets[key%self.num_buckets]\n",
        "        for e in hash_bucket:\n",
        "            if e[0] == key:\n",
        "                return e[1]\n",
        "        return None\n",
        "\n",
        "    def __str__(self):\n",
        "        result = '{'\n",
        "        for b in self.buckets:\n",
        "            for e in b:\n",
        "                result += f'{e[0]}:{e[1]},'\n",
        "        return result[:-1] + '}' #result[:-1]로 마지막 콤마를 제외합니다"
      ],
      "metadata": {
        "id": "tpKKfBuu94Xw"
      },
      "execution_count": 11,
      "outputs": []
    },
    {
      "cell_type": "code",
      "source": [
        "import random\n",
        "D = Int_dict(17)\n",
        "for i in range(20):\n",
        "    #0 ~ 10**5 - 1 사이에서 랜덤하게 정수를 선택합니다\n",
        "    key = random.choice(range(10**5))\n",
        "    D.add_entry(key, i)\n",
        "print('Int_dict 객체의 값:')\n",
        "print(D)"
      ],
      "metadata": {
        "colab": {
          "base_uri": "https://localhost:8080/"
        },
        "id": "lJVnok62x83L",
        "outputId": "a8279cbf-5fba-4eae-c64c-d6bc6f242c5c"
      },
      "execution_count": 12,
      "outputs": [
        {
          "output_type": "stream",
          "name": "stdout",
          "text": [
            "Int_dict 객체의 값:\n",
            "{5441:5,43334:7,77895:16,13518:0,86295:2,74565:11,76452:18,8640:6,99539:10,70946:8,6534:1,39396:3,2252:12,35829:17,61993:15,45572:4,29626:13,13714:14,64358:9,83841:19}\n"
          ]
        }
      ]
    },
    {
      "cell_type": "code",
      "source": [
        "print('버킷 내용:')\n",
        "for hash_bucket in D.buckets: #추상 장벽을 위배합니다\n",
        "    print(' ', hash_bucket)"
      ],
      "metadata": {
        "colab": {
          "base_uri": "https://localhost:8080/"
        },
        "id": "D5aGmGWhyHTH",
        "outputId": "6243230e-a686-4c8b-dc5f-f34cabbb30ca"
      },
      "execution_count": 13,
      "outputs": [
        {
          "output_type": "stream",
          "name": "stdout",
          "text": [
            "버킷 내용:\n",
            "  []\n",
            "  [(5441, 5), (43334, 7), (77895, 16)]\n",
            "  []\n",
            "  [(13518, 0), (86295, 2), (74565, 11), (76452, 18)]\n",
            "  [(8640, 6), (99539, 10)]\n",
            "  [(70946, 8)]\n",
            "  [(6534, 1)]\n",
            "  [(39396, 3)]\n",
            "  [(2252, 12)]\n",
            "  []\n",
            "  [(35829, 17)]\n",
            "  [(61993, 15)]\n",
            "  [(45572, 4), (29626, 13), (13714, 14)]\n",
            "  [(64358, 9)]\n",
            "  [(83841, 19)]\n",
            "  []\n",
            "  []\n"
          ]
        }
      ]
    }
  ]
}