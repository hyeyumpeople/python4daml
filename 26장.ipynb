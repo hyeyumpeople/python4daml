{
  "cells": [
    {
      "cell_type": "markdown",
      "id": "d133c34f-5fbf-47fe-a2a0-e6dfbff44cc6",
      "metadata": {
        "id": "d133c34f-5fbf-47fe-a2a0-e6dfbff44cc6"
      },
      "source": [
        "# 26장 분류"
      ]
    },
    {
      "cell_type": "markdown",
      "id": "0e36678f-d0d9-49c4-ba25-815e816f8ad1",
      "metadata": {
        "id": "0e36678f-d0d9-49c4-ba25-815e816f8ad1"
      },
      "source": [
        "<table align=\"left\"><tr><td>\n",
        "<a href=\"https://colab.research.google.com/github/rickiepark/python4daml/blob/main/26장.ipynb\" target=\"_parent\"><img src=\"https://colab.research.google.com/assets/colab-badge.svg\" alt=\"코랩에서 실행하기\"/></a>\n",
        "</td></tr></table>"
      ]
    },
    {
      "cell_type": "code",
      "execution_count": 1,
      "id": "8d0a7a07-ca31-4f44-b329-9ec04bacab8d",
      "metadata": {
        "id": "8d0a7a07-ca31-4f44-b329-9ec04bacab8d",
        "outputId": "e02e876f-e8e0-41f0-a819-4c6024ae9916",
        "colab": {
          "base_uri": "https://localhost:8080/"
        }
      },
      "outputs": [
        {
          "output_type": "stream",
          "name": "stdout",
          "text": [
            "debconf: unable to initialize frontend: Dialog\n",
            "debconf: (No usable dialog-like program is installed, so the dialog based frontend cannot be used. at /usr/share/perl5/Debconf/FrontEnd/Dialog.pm line 76, <> line 1.)\n",
            "debconf: falling back to frontend: Readline\n",
            "debconf: unable to initialize frontend: Readline\n",
            "debconf: (This frontend requires a controlling tty.)\n",
            "debconf: falling back to frontend: Teletype\n",
            "dpkg-preconfigure: unable to re-open stdin: \n",
            "Selecting previously unselected package fonts-nanum.\n",
            "(Reading database ... 122352 files and directories currently installed.)\n",
            "Preparing to unpack .../fonts-nanum_20180306-3_all.deb ...\n",
            "Unpacking fonts-nanum (20180306-3) ...\n",
            "Setting up fonts-nanum (20180306-3) ...\n",
            "Processing triggers for fontconfig (2.13.1-2ubuntu3) ...\n"
          ]
        },
        {
          "output_type": "stream",
          "name": "stderr",
          "text": [
            "Downloading...\n",
            "From: https://raw.githubusercontent.com/rickiepark/python4daml/main/bm_results2012.csv\n",
            "To: /content/bm_results2012.csv\n",
            "783kB [00:00, 13.8MB/s]                   \n",
            "Downloading...\n",
            "From: https://raw.githubusercontent.com/rickiepark/python4daml/main/TitanicPassengers.csv\n",
            "To: /content/TitanicPassengers.csv\n",
            "41.8kB [00:00, 28.1MB/s]                   \n"
          ]
        }
      ],
      "source": [
        "import matplotlib.pyplot as plt\n",
        "\n",
        "#선 두께\n",
        "plt.rcParams['lines.linewidth'] = 4\n",
        "#제목 폰트 크기\n",
        "plt.rcParams['axes.titlesize'] = 16\n",
        "#축 레이블 폰트 크기\n",
        "plt.rcParams['axes.labelsize'] = 16\n",
        "#x 축 텍스트 크기\n",
        "plt.rcParams['xtick.labelsize'] = 16\n",
        "#y 축 텍스트 크기\n",
        "plt.rcParams['ytick.labelsize'] = 16\n",
        "#x 축 눈금 크기\n",
        "plt.rcParams['xtick.major.size'] = 7\n",
        "#y 축 눈금 크기\n",
        "plt.rcParams['ytick.major.size'] = 7\n",
        "#마커 크기\n",
        "plt.rcParams['lines.markersize'] = 10\n",
        "#범례를 표시할 때 마커 표시 개수\n",
        "plt.rcParams['legend.numpoints'] = 1\n",
        "#범례 텍스트 크기\n",
        "plt.rcParams['legend.fontsize'] = 14\n",
        "\n",
        "# 한글 폰트 사용을 위한 코드입니다.\n",
        "import sys\n",
        "# 코랩의 경우 나눔 폰트를 설치합니다.\n",
        "if 'google.colab' in sys.modules:\n",
        "    !sudo apt-get -qq -y install fonts-nanum\n",
        "    import matplotlib.font_manager as fm\n",
        "    font_files = fm.findSystemFonts(fontpaths=['/usr/share/fonts/truetype/nanum'])\n",
        "    for fpath in font_files:\n",
        "        fm.fontManager.addfont(fpath)\n",
        "\n",
        "# 나눔 폰트를 사용합니다.\n",
        "import matplotlib \n",
        "\n",
        "matplotlib.rc('font', family='NanumBarunGothic')\n",
        "matplotlib.rcParams['axes.unicode_minus'] = False\n",
        "\n",
        "# 코랩의 경우 필요한 데이터를 깃허브에서 다운로드합니다.\n",
        "if 'google.colab' in sys.modules:\n",
        "    import gdown\n",
        "    gdown.download('https://raw.githubusercontent.com/rickiepark/python4daml/main/bm_results2012.csv', quiet=False)\n",
        "    gdown.download('https://raw.githubusercontent.com/rickiepark/python4daml/main/TitanicPassengers.csv', quiet=False)"
      ]
    },
    {
      "cell_type": "code",
      "execution_count": 2,
      "id": "a9589ab5-6508-48a3-9ef8-e0ec3c280fd6",
      "metadata": {
        "id": "a9589ab5-6508-48a3-9ef8-e0ec3c280fd6"
      },
      "outputs": [],
      "source": [
        "import pandas as pd \n",
        "import numpy as np \n",
        "import matplotlib.pyplot as plt \n",
        "import random \n",
        "import sklearn.linear_model as sklm \n",
        "import sklearn.metrics as skm "
      ]
    },
    {
      "cell_type": "markdown",
      "id": "518a0304-3306-406a-9a1a-2a057f0d6fd0",
      "metadata": {
        "id": "518a0304-3306-406a-9a1a-2a057f0d6fd0"
      },
      "source": [
        "## 26.1 분류기 평가하기"
      ]
    },
    {
      "cell_type": "markdown",
      "id": "daedc236-9460-43f2-bb23-17910b4eee1e",
      "metadata": {
        "id": "daedc236-9460-43f2-bb23-17910b4eee1e"
      },
      "source": [
        "그림 26-4 분류기 평가 함수 "
      ]
    },
    {
      "cell_type": "code",
      "execution_count": 3,
      "id": "342c03b9-cfaf-470d-a79b-5a49ca6daa73",
      "metadata": {
        "id": "342c03b9-cfaf-470d-a79b-5a49ca6daa73"
      },
      "outputs": [],
      "source": [
        "def accuracy(true_pos, false_pos, true_neg, false_neg): \n",
        "    numerator = true_pos + true_neg \n",
        "    denominator = true_pos + true_neg + false_pos + false_neg \n",
        "    return numerator/denominator \n",
        "\n",
        "def sensitivity(true_pos, false_neg): \n",
        "    try: \n",
        "        return true_pos/(true_pos + false_neg) \n",
        "    except ZeroDivisionError: \n",
        "        return float('nan') \n",
        "\n",
        "def specificity(true_neg, false_pos): \n",
        "    try: \n",
        "        return true_neg/(true_neg + false_pos) \n",
        "    except ZeroDivisionError: \n",
        "        return float('nan') \n",
        "\n",
        "def precision(true_pos, false_pos): \n",
        "    try: \n",
        "        return true_pos/(true_pos + false_pos) \n",
        "    except ZeroDivisionError: \n",
        "        return float('nan') \n",
        "\n",
        "def neg_pred_val(true_neg, false_neg): \n",
        "    try: \n",
        "        return true_neg/(true_neg + false_neg) \n",
        "    except ZeroDivisionError: \n",
        "        return float('nan') \n",
        "\n",
        "def get_stats(true_pos, false_pos, true_neg, false_neg, \n",
        "              toPrint = True): \n",
        "    accur = accuracy(true_pos, false_pos, true_neg, false_neg) \n",
        "    sens = sensitivity(true_pos, false_neg) \n",
        "    spec = specificity(true_neg, false_pos) \n",
        "    prec = precision(true_pos, false_pos) \n",
        "    if toPrint: \n",
        "        print(' 정확도 =', round(accur, 3)) \n",
        "        print(' 민감도 =', round(sens, 3)) \n",
        "        print(' 특이도 =', round(spec, 3)) \n",
        "        print(' 정밀도 =', round(prec, 3)) \n",
        "    return (accur, sens, spec, prec) "
      ]
    },
    {
      "cell_type": "markdown",
      "id": "3e33782e-d2a0-40b9-be72-d12169b2fb14",
      "metadata": {
        "id": "3e33782e-d2a0-40b9-be72-d12169b2fb14"
      },
      "source": [
        "## 26.2 달리기 선수의 성별 예측하기"
      ]
    },
    {
      "cell_type": "markdown",
      "id": "c25fe3ae-71f2-4ebc-bc44-23746f0b5159",
      "metadata": {
        "id": "c25fe3ae-71f2-4ebc-bc44-23746f0b5159"
      },
      "source": [
        "그림 26-6 샘플 집합을 만들고 훈련 세트와 테스트 세트로 나누기"
      ]
    },
    {
      "cell_type": "code",
      "execution_count": 4,
      "id": "f3961176-4f2e-4f7c-ab0d-1ce134793a6b",
      "metadata": {
        "id": "f3961176-4f2e-4f7c-ab0d-1ce134793a6b"
      },
      "outputs": [],
      "source": [
        "class Runner(object): \n",
        "    def __init__(self, name, gender, age, time): \n",
        "        self._name = name \n",
        "        self._feature_vec = np.array([age, time]) \n",
        "        self._label = gender \n",
        "\n",
        "    def feature_dist(self, other): \n",
        "        return ((self._feature_vec-other._feature_vec)**2).sum()**0.5 \n",
        "\n",
        "    def get_time(self): \n",
        "        return self._feature_vec[1] \n",
        "\n",
        "    def get_age(self): \n",
        "        return self._feature_vec[0] \n",
        "\n",
        "    def get_label(self): \n",
        "        return self._label \n",
        "\n",
        "    def get_features(self): \n",
        "        return self._feature_vec \n",
        "\n",
        "    def __str__(self): \n",
        "        return (f'{self._name}: {self.get_age()}, ' + \n",
        "                f'{self.get_time()}, {self._label}') \n",
        "\n",
        "def build_marathon_examples(file_name): \n",
        "    df = pd.read_csv(file_name) \n",
        "    examples = [] \n",
        "    for index, row in df.iterrows(): \n",
        "        a = Runner(row['Name'],row['Gender'],row['Age'],row['Time']) \n",
        "        examples.append(a) \n",
        "    return examples \n",
        "\n",
        "def divide_80_20(examples): \n",
        "    sample_indices = random.sample(range(len(examples)), \n",
        "                                   len(examples)//5) \n",
        "    training_set, test_set = [], [] \n",
        "    for i in range(len(examples)): \n",
        "        if i in sample_indices: \n",
        "            test_set.append(examples[i]) \n",
        "        else: \n",
        "            training_set.append(examples[i]) \n",
        "    return training_set, test_set "
      ]
    },
    {
      "cell_type": "markdown",
      "id": "e3de6376-8b27-48b0-9fb1-acc57765aa2d",
      "metadata": {
        "id": "e3de6376-8b27-48b0-9fb1-acc57765aa2d"
      },
      "source": [
        "## 26.3 K-최근접 이웃"
      ]
    },
    {
      "cell_type": "markdown",
      "id": "02e1cf51-d525-44bb-8cbb-e57551fed749",
      "metadata": {
        "id": "02e1cf51-d525-44bb-8cbb-e57551fed749"
      },
      "source": [
        "그림 26-7 K-최근접 이웃 찾기"
      ]
    },
    {
      "cell_type": "code",
      "execution_count": 5,
      "id": "d439da2c-9df2-43c8-9f8d-deb8a4c51cb2",
      "metadata": {
        "id": "d439da2c-9df2-43c8-9f8d-deb8a4c51cb2"
      },
      "outputs": [],
      "source": [
        "def find_k_nearest(example, example_set, k): \n",
        "    k_nearest, distances = [], [] \n",
        "    # 처음 k 개의 샘플과 거리를 담은 리스트를 만듭니다\n",
        "    for i in range(k): \n",
        "        k_nearest.append(example_set[i]) \n",
        "        distances.append(example.feature_dist(example_set[i])) \n",
        "    max_dist = max(distances) #최대 거리를 구합니다\n",
        "    # 나머지 샘플을 조사합니다\n",
        "    for e in example_set[k:]: \n",
        "        dist = example.feature_dist(e) \n",
        "        if dist < max_dist: \n",
        "            #가장 먼 거리의 샘플을 바꿉니다\n",
        "            max_index = distances.index(max_dist) \n",
        "            k_nearest[max_index] = e \n",
        "            distances[max_index] = dist \n",
        "            max_dist = max(distances) \n",
        "    return k_nearest, distances \n",
        "\n",
        "def k_nearest_classify(training_set, test_set, label, k): \n",
        "    \"\"\"training_set & test_set는 샘플의 리스트이고 k는 정수라고 가정합니다.\n",
        "       k-최근접 이웃 분류기를 사용해 test_set에 있는 샘플의 레이블을 예측합니다.\n",
        "       진짜 양성, 거짓 양성, 진짜 음성, 거짓 음성을 반환합니다\"\"\" \n",
        "    true_pos, false_pos, true_neg, false_neg = 0, 0, 0, 0 \n",
        "    for e in test_set: \n",
        "        nearest, distances = find_k_nearest(e, training_set, k) \n",
        "        # 투표 \n",
        "        num_match = 0 \n",
        "        for i in range(len(nearest)): \n",
        "            if nearest[i].get_label() == label: \n",
        "                num_match += 1 \n",
        "        if num_match > k//2: # label이 다수일 때\n",
        "            if e.get_label() == label: \n",
        "                true_pos += 1 \n",
        "            else: \n",
        "                false_pos += 1 \n",
        "        else: # label이 다수가 아닐 때\n",
        "            if e.get_label() != label: \n",
        "                true_neg += 1 \n",
        "            else: \n",
        "                false_neg += 1 \n",
        "    return true_pos, false_pos, true_neg, false_neg "
      ]
    },
    {
      "cell_type": "code",
      "execution_count": 6,
      "id": "99fccfc6-c240-4705-a0a6-19d381e24028",
      "metadata": {
        "id": "99fccfc6-c240-4705-a0a6-19d381e24028",
        "outputId": "e924eb26-7000-47bd-9463-171409924298",
        "colab": {
          "base_uri": "https://localhost:8080/"
        }
      },
      "outputs": [
        {
          "output_type": "stream",
          "name": "stdout",
          "text": [
            " 정확도 = 0.65\n",
            " 민감도 = 0.715\n",
            " 특이도 = 0.563\n",
            " 정밀도 = 0.684\n"
          ]
        },
        {
          "output_type": "execute_result",
          "data": {
            "text/plain": [
              "(0.6497214484679665, 0.7152182782537739, 0.563274098007539, 0.6836973478939158)"
            ]
          },
          "metadata": {},
          "execution_count": 6
        }
      ],
      "source": [
        "random.seed(0)\n",
        "examples = build_marathon_examples('bm_results2012.csv') \n",
        "training, test_set = divide_80_20(examples) \n",
        "true_pos, false_pos, true_neg, false_neg = \\\n",
        "    k_nearest_classify(training, test_set, 'M', 9) \n",
        "get_stats(true_pos, false_pos, true_neg, false_neg) "
      ]
    },
    {
      "cell_type": "markdown",
      "id": "4a05c616-b112-482c-b951-1ed63a740740",
      "metadata": {
        "id": "4a05c616-b112-482c-b951-1ed63a740740"
      },
      "source": [
        "그림 26-8 빈도 기반 분류기"
      ]
    },
    {
      "cell_type": "code",
      "execution_count": 7,
      "id": "62549ba6-1170-4424-9d21-887c2b5ecd7c",
      "metadata": {
        "id": "62549ba6-1170-4424-9d21-887c2b5ecd7c"
      },
      "outputs": [],
      "source": [
        "def prevalence_classify(training_set, test_set, label): \n",
        "    \"\"\"training_set & test_set는 샘플의 리스트라고 가정합니다.\n",
        "       빈도 기반 분류기로 test_set에 있는 샘플의 레이블을 예측합니다.\n",
        "       진짜 양성, 거짓 양성, 진짜 음성, 거짓 음성을 반환합니다\"\"\" \n",
        "    num_with_label = 0 \n",
        "    for e in training: \n",
        "        if e.get_label()== label: \n",
        "            num_with_label += 1 \n",
        "    prob_label = num_with_label/len(training_set) \n",
        "    true_pos, false_pos, true_neg, false_neg = 0, 0, 0, 0 \n",
        "    for e in test_set: \n",
        "        if random.random() < prob_label: #label 확률보다 작을 때\n",
        "            if e.get_label() == label: \n",
        "                true_pos += 1 \n",
        "            else: \n",
        "                false_pos += 1 \n",
        "        else: #label 확률보다 클 때\n",
        "            if e.get_label() != label: \n",
        "                true_neg += 1 \n",
        "            else: \n",
        "                false_neg += 1 \n",
        "    return true_pos, false_pos, true_neg, false_neg "
      ]
    },
    {
      "cell_type": "code",
      "execution_count": 8,
      "id": "9d016247-41b4-4206-ba75-0addbf007ea8",
      "metadata": {
        "id": "9d016247-41b4-4206-ba75-0addbf007ea8",
        "outputId": "94efd5f0-303d-4392-808a-624eaa99dc2f",
        "colab": {
          "base_uri": "https://localhost:8080/"
        }
      },
      "outputs": [
        {
          "output_type": "stream",
          "name": "stdout",
          "text": [
            " 정확도 = 0.514\n",
            " 민감도 = 0.593\n",
            " 특이도 = 0.41\n",
            " 정밀도 = 0.57\n"
          ]
        },
        {
          "output_type": "execute_result",
          "data": {
            "text/plain": [
              "(0.5141597028783659,\n",
              " 0.5928192574459404,\n",
              " 0.41033925686591277,\n",
              " 0.5702511773940345)"
            ]
          },
          "metadata": {},
          "execution_count": 8
        }
      ],
      "source": [
        "random.seed(0)\n",
        "examples = build_marathon_examples('bm_results2012.csv') \n",
        "training, test_set = divide_80_20(examples) \n",
        "true_pos, false_pos, true_neg, false_neg = \\\n",
        "    prevalence_classify(training, test_set, 'M') \n",
        "get_stats(true_pos, false_pos, true_neg, false_neg) "
      ]
    },
    {
      "cell_type": "code",
      "execution_count": 9,
      "id": "a3ef4ff2-59f5-4251-a80d-7b07fc903524",
      "metadata": {
        "id": "a3ef4ff2-59f5-4251-a80d-7b07fc903524",
        "outputId": "282ed5e2-f1c1-4d36-fd55-c3854f30d6d6",
        "colab": {
          "base_uri": "https://localhost:8080/"
        }
      },
      "outputs": [
        {
          "output_type": "stream",
          "name": "stdout",
          "text": [
            " 정확도 = 0.638\n",
            " 민감도 = 0.667\n",
            " 특이도 = 0.599\n",
            " 정밀도 = 0.687\n"
          ]
        },
        {
          "output_type": "execute_result",
          "data": {
            "text/plain": [
              "(0.6376508820798514,\n",
              " 0.6666666666666666,\n",
              " 0.5993537964458805,\n",
              " 0.6871320437342304)"
            ]
          },
          "metadata": {},
          "execution_count": 9
        }
      ],
      "source": [
        "random.seed(0)\n",
        "examples = build_marathon_examples('bm_results2012.csv') \n",
        "training, test_set = divide_80_20(examples)\n",
        "reduced_training = random.sample(training, len(training)//10)\n",
        "true_pos, false_pos, true_neg, false_neg = \\\n",
        "    k_nearest_classify(reduced_training, test_set, 'M', 9) \n",
        "get_stats(true_pos, false_pos, true_neg, false_neg) "
      ]
    },
    {
      "cell_type": "markdown",
      "id": "3c33baed-6a10-4330-a2d3-1263c8229829",
      "metadata": {
        "id": "3c33baed-6a10-4330-a2d3-1263c8229829"
      },
      "source": [
        "그림 26-9 좋은 k 값 찾기"
      ]
    },
    {
      "cell_type": "markdown",
      "id": "9886149e-7e61-4478-adc2-0c0af2134871",
      "metadata": {
        "id": "9886149e-7e61-4478-adc2-0c0af2134871"
      },
      "source": [
        "**경고: 이 코드는 실행하는데 오래 걸립니다**"
      ]
    },
    {
      "cell_type": "code",
      "execution_count": 10,
      "id": "857d4bad-97be-4f75-b5e2-296692b1284a",
      "metadata": {
        "id": "857d4bad-97be-4f75-b5e2-296692b1284a",
        "outputId": "08308c60-a0fc-45aa-8790-9f086c5a6dc7",
        "colab": {
          "base_uri": "https://localhost:8080/",
          "height": 357
        }
      },
      "outputs": [
        {
          "output_type": "error",
          "ename": "KeyboardInterrupt",
          "evalue": "ignored",
          "traceback": [
            "\u001b[0;31m---------------------------------------------------------------------------\u001b[0m",
            "\u001b[0;31mKeyboardInterrupt\u001b[0m                         Traceback (most recent call last)",
            "\u001b[0;32m<ipython-input-10-b6c11bcc7157>\u001b[0m in \u001b[0;36m<cell line: 25>\u001b[0;34m()\u001b[0m\n\u001b[1;32m     23\u001b[0m \u001b[0mtraining\u001b[0m\u001b[0;34m,\u001b[0m \u001b[0mtest_set\u001b[0m \u001b[0;34m=\u001b[0m \u001b[0mdivide_80_20\u001b[0m\u001b[0;34m(\u001b[0m\u001b[0mexamples\u001b[0m\u001b[0;34m)\u001b[0m\u001b[0;34m\u001b[0m\u001b[0;34m\u001b[0m\u001b[0m\n\u001b[1;32m     24\u001b[0m \u001b[0;34m\u001b[0m\u001b[0m\n\u001b[0;32m---> 25\u001b[0;31m \u001b[0mfind_k\u001b[0m\u001b[0;34m(\u001b[0m\u001b[0mtraining\u001b[0m\u001b[0;34m,\u001b[0m \u001b[0;36m1\u001b[0m\u001b[0;34m,\u001b[0m \u001b[0;36m21\u001b[0m\u001b[0;34m,\u001b[0m \u001b[0;36m5\u001b[0m\u001b[0;34m,\u001b[0m \u001b[0;34m'M'\u001b[0m\u001b[0;34m)\u001b[0m\u001b[0;34m\u001b[0m\u001b[0;34m\u001b[0m\u001b[0m\n\u001b[0m",
            "\u001b[0;32m<ipython-input-10-b6c11bcc7157>\u001b[0m in \u001b[0;36mfind_k\u001b[0;34m(training_set, min_k, max_k, num_folds, label)\u001b[0m\n\u001b[1;32m     10\u001b[0m             \u001b[0mexamples\u001b[0m\u001b[0;34m,\u001b[0m \u001b[0mtest_set\u001b[0m \u001b[0;34m=\u001b[0m \u001b[0mdivide_80_20\u001b[0m\u001b[0;34m(\u001b[0m\u001b[0mfold\u001b[0m\u001b[0;34m)\u001b[0m\u001b[0;34m\u001b[0m\u001b[0;34m\u001b[0m\u001b[0m\n\u001b[1;32m     11\u001b[0m             \u001b[0mtrue_pos\u001b[0m\u001b[0;34m,\u001b[0m \u001b[0mfalse_pos\u001b[0m\u001b[0;34m,\u001b[0m \u001b[0mtrue_neg\u001b[0m\u001b[0;34m,\u001b[0m \u001b[0mfalse_neg\u001b[0m \u001b[0;34m=\u001b[0m\u001b[0;31m \u001b[0m\u001b[0;31m\\\u001b[0m\u001b[0;34m\u001b[0m\u001b[0;34m\u001b[0m\u001b[0m\n\u001b[0;32m---> 12\u001b[0;31m                 \u001b[0mk_nearest_classify\u001b[0m\u001b[0;34m(\u001b[0m\u001b[0mexamples\u001b[0m\u001b[0;34m,\u001b[0m \u001b[0mtest_set\u001b[0m\u001b[0;34m,\u001b[0m \u001b[0mlabel\u001b[0m\u001b[0;34m,\u001b[0m \u001b[0mk\u001b[0m\u001b[0;34m)\u001b[0m\u001b[0;34m\u001b[0m\u001b[0;34m\u001b[0m\u001b[0m\n\u001b[0m\u001b[1;32m     13\u001b[0m             \u001b[0mscore\u001b[0m \u001b[0;34m+=\u001b[0m \u001b[0maccuracy\u001b[0m\u001b[0;34m(\u001b[0m\u001b[0mtrue_pos\u001b[0m\u001b[0;34m,\u001b[0m \u001b[0mfalse_pos\u001b[0m\u001b[0;34m,\u001b[0m \u001b[0mtrue_neg\u001b[0m\u001b[0;34m,\u001b[0m \u001b[0mfalse_neg\u001b[0m\u001b[0;34m)\u001b[0m\u001b[0;34m\u001b[0m\u001b[0;34m\u001b[0m\u001b[0m\n\u001b[1;32m     14\u001b[0m         \u001b[0maccuracies\u001b[0m\u001b[0;34m.\u001b[0m\u001b[0mappend\u001b[0m\u001b[0;34m(\u001b[0m\u001b[0mscore\u001b[0m\u001b[0;34m/\u001b[0m\u001b[0mnum_folds\u001b[0m\u001b[0;34m)\u001b[0m\u001b[0;34m\u001b[0m\u001b[0;34m\u001b[0m\u001b[0m\n",
            "\u001b[0;32m<ipython-input-5-4f44642a4f4c>\u001b[0m in \u001b[0;36mk_nearest_classify\u001b[0;34m(training_set, test_set, label, k)\u001b[0m\n\u001b[1;32m     23\u001b[0m     \u001b[0mtrue_pos\u001b[0m\u001b[0;34m,\u001b[0m \u001b[0mfalse_pos\u001b[0m\u001b[0;34m,\u001b[0m \u001b[0mtrue_neg\u001b[0m\u001b[0;34m,\u001b[0m \u001b[0mfalse_neg\u001b[0m \u001b[0;34m=\u001b[0m \u001b[0;36m0\u001b[0m\u001b[0;34m,\u001b[0m \u001b[0;36m0\u001b[0m\u001b[0;34m,\u001b[0m \u001b[0;36m0\u001b[0m\u001b[0;34m,\u001b[0m \u001b[0;36m0\u001b[0m\u001b[0;34m\u001b[0m\u001b[0;34m\u001b[0m\u001b[0m\n\u001b[1;32m     24\u001b[0m     \u001b[0;32mfor\u001b[0m \u001b[0me\u001b[0m \u001b[0;32min\u001b[0m \u001b[0mtest_set\u001b[0m\u001b[0;34m:\u001b[0m\u001b[0;34m\u001b[0m\u001b[0;34m\u001b[0m\u001b[0m\n\u001b[0;32m---> 25\u001b[0;31m         \u001b[0mnearest\u001b[0m\u001b[0;34m,\u001b[0m \u001b[0mdistances\u001b[0m \u001b[0;34m=\u001b[0m \u001b[0mfind_k_nearest\u001b[0m\u001b[0;34m(\u001b[0m\u001b[0me\u001b[0m\u001b[0;34m,\u001b[0m \u001b[0mtraining_set\u001b[0m\u001b[0;34m,\u001b[0m \u001b[0mk\u001b[0m\u001b[0;34m)\u001b[0m\u001b[0;34m\u001b[0m\u001b[0;34m\u001b[0m\u001b[0m\n\u001b[0m\u001b[1;32m     26\u001b[0m         \u001b[0;31m# 투표\u001b[0m\u001b[0;34m\u001b[0m\u001b[0;34m\u001b[0m\u001b[0m\n\u001b[1;32m     27\u001b[0m         \u001b[0mnum_match\u001b[0m \u001b[0;34m=\u001b[0m \u001b[0;36m0\u001b[0m\u001b[0;34m\u001b[0m\u001b[0;34m\u001b[0m\u001b[0m\n",
            "\u001b[0;32m<ipython-input-5-4f44642a4f4c>\u001b[0m in \u001b[0;36mfind_k_nearest\u001b[0;34m(example, example_set, k)\u001b[0m\n\u001b[1;32m      8\u001b[0m     \u001b[0;31m# 나머지 샘플을 조사합니다\u001b[0m\u001b[0;34m\u001b[0m\u001b[0;34m\u001b[0m\u001b[0m\n\u001b[1;32m      9\u001b[0m     \u001b[0;32mfor\u001b[0m \u001b[0me\u001b[0m \u001b[0;32min\u001b[0m \u001b[0mexample_set\u001b[0m\u001b[0;34m[\u001b[0m\u001b[0mk\u001b[0m\u001b[0;34m:\u001b[0m\u001b[0;34m]\u001b[0m\u001b[0;34m:\u001b[0m\u001b[0;34m\u001b[0m\u001b[0;34m\u001b[0m\u001b[0m\n\u001b[0;32m---> 10\u001b[0;31m         \u001b[0mdist\u001b[0m \u001b[0;34m=\u001b[0m \u001b[0mexample\u001b[0m\u001b[0;34m.\u001b[0m\u001b[0mfeature_dist\u001b[0m\u001b[0;34m(\u001b[0m\u001b[0me\u001b[0m\u001b[0;34m)\u001b[0m\u001b[0;34m\u001b[0m\u001b[0;34m\u001b[0m\u001b[0m\n\u001b[0m\u001b[1;32m     11\u001b[0m         \u001b[0;32mif\u001b[0m \u001b[0mdist\u001b[0m \u001b[0;34m<\u001b[0m \u001b[0mmax_dist\u001b[0m\u001b[0;34m:\u001b[0m\u001b[0;34m\u001b[0m\u001b[0;34m\u001b[0m\u001b[0m\n\u001b[1;32m     12\u001b[0m             \u001b[0;31m#가장 먼 거리의 샘플을 바꿉니다\u001b[0m\u001b[0;34m\u001b[0m\u001b[0;34m\u001b[0m\u001b[0m\n",
            "\u001b[0;32m<ipython-input-4-bcf04f46efd0>\u001b[0m in \u001b[0;36mfeature_dist\u001b[0;34m(self, other)\u001b[0m\n\u001b[1;32m      6\u001b[0m \u001b[0;34m\u001b[0m\u001b[0m\n\u001b[1;32m      7\u001b[0m     \u001b[0;32mdef\u001b[0m \u001b[0mfeature_dist\u001b[0m\u001b[0;34m(\u001b[0m\u001b[0mself\u001b[0m\u001b[0;34m,\u001b[0m \u001b[0mother\u001b[0m\u001b[0;34m)\u001b[0m\u001b[0;34m:\u001b[0m\u001b[0;34m\u001b[0m\u001b[0;34m\u001b[0m\u001b[0m\n\u001b[0;32m----> 8\u001b[0;31m         \u001b[0;32mreturn\u001b[0m \u001b[0;34m(\u001b[0m\u001b[0;34m(\u001b[0m\u001b[0mself\u001b[0m\u001b[0;34m.\u001b[0m\u001b[0m_feature_vec\u001b[0m\u001b[0;34m-\u001b[0m\u001b[0mother\u001b[0m\u001b[0;34m.\u001b[0m\u001b[0m_feature_vec\u001b[0m\u001b[0;34m)\u001b[0m\u001b[0;34m**\u001b[0m\u001b[0;36m2\u001b[0m\u001b[0;34m)\u001b[0m\u001b[0;34m.\u001b[0m\u001b[0msum\u001b[0m\u001b[0;34m(\u001b[0m\u001b[0;34m)\u001b[0m\u001b[0;34m**\u001b[0m\u001b[0;36m0.5\u001b[0m\u001b[0;34m\u001b[0m\u001b[0;34m\u001b[0m\u001b[0m\n\u001b[0m\u001b[1;32m      9\u001b[0m \u001b[0;34m\u001b[0m\u001b[0m\n\u001b[1;32m     10\u001b[0m     \u001b[0;32mdef\u001b[0m \u001b[0mget_time\u001b[0m\u001b[0;34m(\u001b[0m\u001b[0mself\u001b[0m\u001b[0;34m)\u001b[0m\u001b[0;34m:\u001b[0m\u001b[0;34m\u001b[0m\u001b[0;34m\u001b[0m\u001b[0m\n",
            "\u001b[0;31mKeyboardInterrupt\u001b[0m: "
          ]
        }
      ],
      "source": [
        "def find_k(training_set, min_k, max_k, num_folds, label): \n",
        "    # 홀수 k 값 범위에서 평균 정확도 구하기\n",
        "    accuracies = [] \n",
        "    for k in range(min_k, max_k + 1, 2): \n",
        "        score = 0.0 \n",
        "        for i in range(num_folds): \n",
        "            # 계산 시간을 줄이기 위해 다운샘플링하기\n",
        "            fold = random.sample(training_set, \n",
        "                                 min(5000, len(training_set))) \n",
        "            examples, test_set = divide_80_20(fold) \n",
        "            true_pos, false_pos, true_neg, false_neg = \\\n",
        "                k_nearest_classify(examples, test_set, label, k) \n",
        "            score += accuracy(true_pos, false_pos, true_neg, false_neg) \n",
        "        accuracies.append(score/num_folds) \n",
        "    plt.plot(range(min_k, max_k + 1, 2), accuracies) \n",
        "    plt.title('평균 정확도 vs k (' + str(num_folds) \\\n",
        "              + ' 겹)') \n",
        "    plt.xlabel('k') \n",
        "    plt.ylabel('정확도') \n",
        "\n",
        "random.seed(0)\n",
        "examples = build_marathon_examples('bm_results2012.csv') \n",
        "training, test_set = divide_80_20(examples)\n",
        "\n",
        "find_k(training, 1, 21, 5, 'M') "
      ]
    },
    {
      "cell_type": "markdown",
      "id": "a1a75e44-3bc1-417b-8643-c9a8fda4c67c",
      "metadata": {
        "id": "a1a75e44-3bc1-417b-8643-c9a8fda4c67c"
      },
      "source": [
        "## 26.4 회귀 기반 분류기"
      ]
    },
    {
      "cell_type": "code",
      "execution_count": null,
      "id": "c023d44c-ebc8-49f8-b849-e23125a4e472",
      "metadata": {
        "id": "c023d44c-ebc8-49f8-b849-e23125a4e472"
      },
      "outputs": [],
      "source": [
        "random.seed(0)\n",
        "examples = build_marathon_examples('bm_results2012.csv')\n",
        "training, test_set = divide_80_20(examples)"
      ]
    },
    {
      "cell_type": "code",
      "execution_count": null,
      "id": "0a71b178-eaed-4b35-8460-6805067582fd",
      "metadata": {
        "id": "0a71b178-eaed-4b35-8460-6805067582fd"
      },
      "outputs": [],
      "source": [
        "# 남자와 여자를 위한 훈련 세트를 만듭니다\n",
        "age_m, age_w, time_m, time_w = [], [], [], [] \n",
        "for e in training: \n",
        "    if e.get_label() == 'M': \n",
        "        age_m.append(e.get_age()) \n",
        "        time_m.append(e.get_time()) \n",
        "    else: \n",
        "        age_w.append(e.get_age()) \n",
        "        time_w.append(e.get_time()) \n",
        "# 보기 쉬운 그래프를 위해 다운 샘플링합니다\n",
        "ages, times = [], [] \n",
        "for i in random.sample(range(len(age_m)), 300): \n",
        "    ages.append(age_m[i]) \n",
        "    times.append(time_m[i]) \n",
        "# 산점도를 그립니다\n",
        "plt.plot(ages, times, 'yo', markersize = 6, label = '남자') \n",
        "ages, times = [], [] \n",
        "for i in random.sample(range(len(age_w)), 300): \n",
        "    ages.append(age_w[i]) \n",
        "    times.append(time_w[i]) \n",
        "plt.plot(ages, times, 'k^', markersize = 6, label = '여자') \n",
        "# 두 개의 2차 선형 회귀 모델 훈련합니다\n",
        "m_model = np.polyfit(age_m, time_m, 1) \n",
        "f_model = np.polyfit(age_w, time_w, 1) \n",
        "#모델에 상응하는 직선을 그립니다\n",
        "xmin, xmax = 15, 85 \n",
        "plt.plot((xmin, xmax), (np.polyval(m_model,(xmin, xmax))), \n",
        "         'k', label = '남자') \n",
        "plt.plot((xmin, xmax), (np.polyval(f_model,(xmin, xmax))), \n",
        "         'k--', label = '여자') \n",
        "plt.title('선형 회귀 모델') \n",
        "plt.xlabel('나이') \n",
        "plt.ylabel('완주 시간 (분)') \n",
        "plt.legend()"
      ]
    },
    {
      "cell_type": "markdown",
      "id": "7fae525f-e07d-45ff-9b33-5eb4ac9b2de5",
      "metadata": {
        "id": "7fae525f-e07d-45ff-9b33-5eb4ac9b2de5"
      },
      "source": [
        "그림 26-13 선형 회귀를 사용하여 분류기 만들기 "
      ]
    },
    {
      "cell_type": "code",
      "execution_count": null,
      "id": "8130fcd3-5fe5-4a43-988f-21c59996ad42",
      "metadata": {
        "id": "8130fcd3-5fe5-4a43-988f-21c59996ad42"
      },
      "outputs": [],
      "source": [
        "true_pos, false_pos, true_neg, false_neg = 0, 0, 0, 0 \n",
        "for e in test_set: \n",
        "    age = e.get_age() \n",
        "    time = e.get_time() \n",
        "    if (abs(time -np.polyval(m_model,age)) < \n",
        "        abs(time -np.polyval(f_model, age))): \n",
        "        if e.get_label() == 'M': \n",
        "            true_pos += 1 \n",
        "        else: \n",
        "            false_pos += 1 \n",
        "    else: \n",
        "        if e.get_label() == 'F': \n",
        "            true_neg += 1 \n",
        "        else: \n",
        "            false_neg += 1 \n",
        "get_stats(true_pos, false_pos, true_neg, false_neg) "
      ]
    },
    {
      "cell_type": "markdown",
      "id": "a238af01-250b-4be9-b74e-4c80619ca57f",
      "metadata": {
        "id": "a238af01-250b-4be9-b74e-4c80619ca57f"
      },
      "source": [
        "그림 26-14 sklearn을 사용하여 다중 클래스 로지스틱 회귀 수행하기"
      ]
    },
    {
      "cell_type": "code",
      "execution_count": null,
      "id": "194b8c2f-fdad-410e-ad52-c289d79fe20e",
      "metadata": {
        "id": "194b8c2f-fdad-410e-ad52-c289d79fe20e"
      },
      "outputs": [],
      "source": [
        "random.seed(0)\n",
        "\n",
        "feature_vecs, labels = [], [] \n",
        "for i in range(25000): # create 4 examples in each iteration \n",
        "    feature_vecs.append([random.gauss(0, 0.5), random.gauss(0, 0.5), \n",
        "                         random.random()]) \n",
        "    labels.append('A') \n",
        "    feature_vecs.append([random.gauss(0, 0.5), random.gauss(2, 0.5), \n",
        "                         random.random()]) \n",
        "    labels.append('B') \n",
        "    feature_vecs.append([random.gauss(2, 0.5), random.gauss(0, 0.5), \n",
        "                         random.random()]) \n",
        "    labels.append('C') \n",
        "    feature_vecs.append([random.gauss(2, 0.5), random.gauss(2, 0.5), \n",
        "                         random.random()]) \n",
        "    labels.append('D') \n",
        "\n",
        "model = sklm.LogisticRegression().fit(feature_vecs, labels) \n",
        "print('model.classes_ =', model.classes_) \n",
        "\n",
        "for i in range(len(model.coef_)): \n",
        "    print('레이블', model.classes_[i], \n",
        "          '의 특성 가중치 =', model.coef_[i].round(4)) \n",
        "\n",
        "print('[0, 0]의 확률 =', model.predict_proba([[0, 0, 1]])[0].round(4)) \n",
        "print('[0, 2]의 확률 =', model.predict_proba([[0, 2, 2]])[0].round(4)) \n",
        "print('[2, 0]의 확률 =', model.predict_proba([[2, 0, 3]])[0].round(4)) \n",
        "print('[2, 2]의 확률 =', model.predict_proba([[2, 2, 4]])[0].round(4)) "
      ]
    },
    {
      "cell_type": "markdown",
      "id": "4a8f51c6-f261-4eb1-9c74-98a5a6efbe42",
      "metadata": {
        "id": "4a8f51c6-f261-4eb1-9c74-98a5a6efbe42"
      },
      "source": [
        "그림 26-15 이진 분류를 위한 로지스틱 회귀"
      ]
    },
    {
      "cell_type": "code",
      "execution_count": null,
      "id": "92b46f18-7300-46de-8d97-776b473aeec8",
      "metadata": {
        "id": "92b46f18-7300-46de-8d97-776b473aeec8"
      },
      "outputs": [],
      "source": [
        "random.seed(0)\n",
        "\n",
        "feature_vecs, labels = [], [] \n",
        "for i in range(20000): \n",
        "    feature_vecs.append([random.gauss(0, 0.5), random.gauss(0, 0.5)]) \n",
        "    labels.append('A') \n",
        "    feature_vecs.append([random.gauss(2, 0.5), random.gauss(2, 0.5)]) \n",
        "    labels.append('D') \n",
        "\n",
        "model = sklm.LogisticRegression().fit(feature_vecs, labels) \n",
        "print('model.coef =', model.coef_.round(4)) \n",
        "print('[0, 0]의 확률 =', model.predict_proba([[0, 0]])[0].round(4)) \n",
        "print('[0, 2]의 확률 =', model.predict_proba([[0, 2]])[0].round(4)) \n",
        "print('[2, 0]의 확률 =', model.predict_proba([[2, 0]])[0].round(4)) \n",
        "print('[2, 2]의 확률 =', model.predict_proba([[2, 2]])[0].round(4)) "
      ]
    },
    {
      "cell_type": "markdown",
      "id": "b4a1477b-1fd1-4ded-9673-b26e31283c51",
      "metadata": {
        "id": "b4a1477b-1fd1-4ded-9673-b26e31283c51"
      },
      "source": [
        "그림 26-16 로지스틱 회귀를 사용하여 성별 예측하기"
      ]
    },
    {
      "cell_type": "code",
      "execution_count": null,
      "id": "a6b7f59e-3d7a-4428-b974-e92247feecae",
      "metadata": {
        "id": "a6b7f59e-3d7a-4428-b974-e92247feecae"
      },
      "outputs": [],
      "source": [
        "def apply_model(model, test_set, label, prob = 0.5): \n",
        "    # 모든 테스트 샘플의 특성 벡터를 담은 리스트를 만듭니다\n",
        "    test_feature_vecs = [e.get_features() for e in test_set] \n",
        "    probs = model.predict_proba(test_feature_vecs) \n",
        "    true_pos, false_pos, true_neg, false_neg = 0, 0, 0, 0 \n",
        "    for i in range(len(probs)): \n",
        "        if probs[i][1] > prob: \n",
        "            if test_set[i].get_label() == label: \n",
        "                true_pos += 1 \n",
        "            else: \n",
        "                false_pos += 1 \n",
        "        else: \n",
        "            if test_set[i].get_label() != label: \n",
        "                true_neg += 1 \n",
        "            else: \n",
        "                false_neg += 1 \n",
        "    return true_pos, false_pos, true_neg, false_neg \n",
        "\n",
        "random.seed(0)\n",
        "\n",
        "examples = build_marathon_examples('bm_results2012.csv') \n",
        "training, test = divide_80_20(examples) \n",
        "\n",
        "feature_vecs, labels = [], [] \n",
        "for e in training: \n",
        "    feature_vecs.append([e.get_age(), e.get_time()]) \n",
        "    labels.append(e.get_label()) \n",
        "model = sklm.LogisticRegression().fit(feature_vecs,labels) \n",
        "print('레이블 M에 대한 특성 가중치:', \n",
        "      '나이 =', str(round(model.coef_[0][0], 3)) + ',', \n",
        "      '시간 =', round(model.coef_[0][1], 3)) \n",
        "true_pos, false_pos, true_neg, false_neg = \\\n",
        "    apply_model(model, test, 'M', 0.5) \n",
        "get_stats(true_pos, false_pos, true_neg, false_neg) "
      ]
    },
    {
      "cell_type": "code",
      "execution_count": null,
      "id": "3851f23c-914c-41a2-a5ba-8c3883335ae1",
      "metadata": {
        "id": "3851f23c-914c-41a2-a5ba-8c3883335ae1"
      },
      "outputs": [],
      "source": [
        "true_pos, false_pos, true_neg, false_neg = \\\n",
        "    apply_model(model, test, 'M', 0.578) \n",
        "get_stats(true_pos, false_pos, true_neg, false_neg) "
      ]
    },
    {
      "cell_type": "markdown",
      "id": "9e605edb-6229-4183-93cd-28bad7e9c512",
      "metadata": {
        "id": "9e605edb-6229-4183-93cd-28bad7e9c512"
      },
      "source": [
        "그림 26-17 ROC 곡선과 AUROC 계산하기"
      ]
    },
    {
      "cell_type": "code",
      "execution_count": null,
      "id": "5a6bb446-f6a7-4ab5-a117-0f98a1a4a322",
      "metadata": {
        "id": "5a6bb446-f6a7-4ab5-a117-0f98a1a4a322"
      },
      "outputs": [],
      "source": [
        "def build_ROC(model, test_set, label, title, plot = True): \n",
        "    xVals, yVals = [], [] \n",
        "    for p in np.arange(0, 1, 0.01): \n",
        "        true_pos, false_pos, true_neg, false_neg = \\\n",
        "            apply_model(model, test_set, label, p) \n",
        "        xVals.append(1.0 - specificity(true_neg, false_pos)) \n",
        "        yVals.append(sensitivity(true_pos, false_neg)) \n",
        "    auroc = skm.auc(xVals, yVals) \n",
        "    if plot: \n",
        "        plt.plot(xVals, yVals) \n",
        "        plt.plot([0,1], [0,1,], '--') \n",
        "        plt.title(title + ' (AUROC = ' + \n",
        "                  str(round(auroc, 3)) + ')') \n",
        "        plt.xlabel('1 - 특이도') \n",
        "        plt.ylabel('민감도') \n",
        "    return auroc \n",
        "\n",
        "build_ROC(model, test, 'M', '성별 예측에 대한 ROC') "
      ]
    },
    {
      "cell_type": "markdown",
      "id": "919a61d7-4e80-4a4b-a812-d1868ba49ac6",
      "metadata": {
        "id": "919a61d7-4e80-4a4b-a812-d1868ba49ac6"
      },
      "source": [
        "**손가락 운동**"
      ]
    },
    {
      "cell_type": "code",
      "execution_count": null,
      "id": "a5bb477d-ffb9-40e7-a1f1-7439297249ce",
      "metadata": {
        "id": "a5bb477d-ffb9-40e7-a1f1-7439297249ce"
      },
      "outputs": [],
      "source": [
        "random.seed(0)\n",
        "test_runner = random.sample(test, 200)\n",
        "build_ROC(model, test_runner, 'M', '200개의 훈련 샘플에 대한 ROC') \n",
        "plt.show()\n",
        "\n",
        "aucs = []\n",
        "for n in range(10, 1011, 50):\n",
        "    training_sample = random.sample(training, n)\n",
        "    feature_vecs, labels = [], [] \n",
        "    for e in training_sample: \n",
        "        feature_vecs.append([e.get_age(), e.get_time()]) \n",
        "        labels.append(e.get_label()) \n",
        "    m = sklm.LogisticRegression().fit(feature_vecs,labels) \n",
        "    aucs.append(build_ROC(m, test_runner, 'M', f'{n}개의 훈련 샘플에 대한 ROC', \n",
        "                          plot=False))\n",
        "\n",
        "plt.plot(range(10, 1011, 50), aucs)\n",
        "plt.xlabel('훈련 샘플')\n",
        "plt.ylabel('AUC')\n",
        "plt.title('AUC vs 훈련 샘플')\n",
        "plt.show()"
      ]
    },
    {
      "cell_type": "markdown",
      "id": "ef3bae38-7c3f-4d76-9722-e0c64d530614",
      "metadata": {
        "id": "ef3bae38-7c3f-4d76-9722-e0c64d530614"
      },
      "source": [
        "## 26.5 타이타닉 생존자 예측하기"
      ]
    },
    {
      "cell_type": "code",
      "execution_count": null,
      "id": "326ccaba-13de-4eb3-96a5-4ed2233cf7e6",
      "metadata": {
        "id": "326ccaba-13de-4eb3-96a5-4ed2233cf7e6"
      },
      "outputs": [],
      "source": [
        "manifest = pd.read_csv('TitanicPassengers.csv') \n",
        "print(manifest.corr().round(2)) "
      ]
    },
    {
      "cell_type": "code",
      "execution_count": null,
      "id": "375cff95-9a3e-477d-8000-cdf7e5c80a98",
      "metadata": {
        "id": "375cff95-9a3e-477d-8000-cdf7e5c80a98"
      },
      "outputs": [],
      "source": [
        "manifest['Gender'] = (manifest['Gender']. \n",
        "                      apply(lambda g: 1 if g == 'M' else 0)) \n",
        "print(manifest.corr().round(2)) "
      ]
    },
    {
      "cell_type": "markdown",
      "id": "2887fd28-291a-476b-8ac5-8f6e6d518089",
      "metadata": {
        "id": "2887fd28-291a-476b-8ac5-8f6e6d518089"
      },
      "source": [
        "그림 26-19 `Passenger` 클래스"
      ]
    },
    {
      "cell_type": "code",
      "execution_count": null,
      "id": "44a58da7-9695-48be-8889-95338af7130d",
      "metadata": {
        "id": "44a58da7-9695-48be-8889-95338af7130d"
      },
      "outputs": [],
      "source": [
        "class Passenger(object): \n",
        "    features = ('1st Class', '2nd Class', '3rd Class', \n",
        "                'age', 'male') \n",
        "    def __init__(self, pClass, age, gender, survived, name): \n",
        "        self.name = name \n",
        "        self.feature_vec = [0, 0, 0, age, gender] \n",
        "        self.feature_vec[pClass -1] = 1 \n",
        "        self.label = survived \n",
        "        self.cabinClass = pClass \n",
        "    def distance(self, other): \n",
        "        return minkowski_dist(self.veatureVec, other.feature_vec, 2) \n",
        "    def get_class(self): \n",
        "        return self.cabinClass \n",
        "    def get_age(self): \n",
        "        return self.feature_vec[3] \n",
        "    def get_gender(self): \n",
        "        return self.feature_vec[4] \n",
        "    def get_name(self): \n",
        "        return self.name \n",
        "    def get_features(self): \n",
        "        return self.feature_vec[:] \n",
        "    def get_label(self): \n",
        "        return self.label "
      ]
    },
    {
      "cell_type": "markdown",
      "id": "56dd3ce5-2666-4dff-a75e-7a29949dfcbd",
      "metadata": {
        "id": "56dd3ce5-2666-4dff-a75e-7a29949dfcbd"
      },
      "source": [
        "그림 26-20 타이타닉 데이터를 읽고 샘플 리스트 만들기"
      ]
    },
    {
      "cell_type": "code",
      "execution_count": null,
      "id": "71af5f9b-1223-4a1e-9ae6-fe42f6fdc9ba",
      "metadata": {
        "id": "71af5f9b-1223-4a1e-9ae6-fe42f6fdc9ba"
      },
      "outputs": [],
      "source": [
        "def build_Titanic_examples(): \n",
        "    manifest = pd.read_csv('TitanicPassengers.csv') \n",
        "    examples = [] \n",
        "    for index, row in manifest.iterrows(): \n",
        "        p = Passenger(row['Class'], row['Age'], \n",
        "                      1 if row['Gender'] == 'M' else 0, \n",
        "                      row['Survived'], \n",
        "                      row['Last Name'] + row['Other Names']) \n",
        "        examples.append(p) \n",
        "    return examples "
      ]
    },
    {
      "cell_type": "markdown",
      "id": "9af0f5d8-cc32-4b4c-833e-24da2b09c0bf",
      "metadata": {
        "id": "9af0f5d8-cc32-4b4c-833e-24da2b09c0bf"
      },
      "source": [
        "그림 26-21 타이타닉 모델 테스트하기"
      ]
    },
    {
      "cell_type": "code",
      "execution_count": null,
      "id": "66711749-f40a-4365-aeec-e336b694144c",
      "metadata": {
        "id": "66711749-f40a-4365-aeec-e336b694144c"
      },
      "outputs": [],
      "source": [
        "def test_models(examples, num_trials, print_stats, print_weights): \n",
        "    stats, weights = [], [[], [], [], [], []] \n",
        "    for i in range(num_trials): \n",
        "        training, test_set = divide_80_20(examples) \n",
        "        xVals, yVals = [], [] \n",
        "        for e in training: \n",
        "            xVals.append(e.get_features()) \n",
        "            yVals.append(e.get_label()) \n",
        "        xVals = np.array(xVals) \n",
        "        yVals = np.array(yVals) \n",
        "        model = sklm.LogisticRegression().fit(xVals, yVals) \n",
        "        for i in range(len(Passenger.features)): \n",
        "            weights[i].append(model.coef_[0][i]) \n",
        "        true_pos, false_pos, true_neg, false_neg = \\\n",
        "            apply_model(model, test_set, 1, 0.5) \n",
        "        auroc = build_ROC(model, test_set, 1, None, False) \n",
        "        tmp = get_stats(true_pos, false_pos, true_neg, false_neg, False) \n",
        "        stats.append(tmp + (auroc,)) \n",
        "    print(num_trials, '시도의 평균') \n",
        "    if print_weights: \n",
        "        for feature in range(len(weights)): \n",
        "            feature_mean = round(sum(weights[feature])/num_trials, 3) \n",
        "            feature_std = np.std(weights[feature]) \n",
        "            print(' 평균 가중치', Passenger.features[feature], \n",
        "                  '=', str(feature_mean) + ', 95% 신뢰 구간 =', \n",
        "                  round(feature_mean - 1.96*feature_std, 3), 'to', \n",
        "                  round(feature_mean + 1.96*feature_std, 3)) \n",
        "    if print_stats: \n",
        "        summarize_stats(stats) "
      ]
    },
    {
      "cell_type": "markdown",
      "id": "74f63708-4bd7-44fb-a5a1-d9d47abb5cae",
      "metadata": {
        "id": "74f63708-4bd7-44fb-a5a1-d9d47abb5cae"
      },
      "source": [
        "그림 26-22 분류 모델의 통계량 출력하기"
      ]
    },
    {
      "cell_type": "code",
      "execution_count": null,
      "id": "4d860304-b325-4e22-8582-5b45e7255d16",
      "metadata": {
        "id": "4d860304-b325-4e22-8582-5b45e7255d16"
      },
      "outputs": [],
      "source": [
        "def summarize_stats(stats): \n",
        "    \"\"\"stats는5 개의 실수(정확도, 민감도, 특이도, 정밀도, AUC)로\n",
        "       구성된 리스트라고 가정합니다\"\"\" \n",
        "    def print_stat(X, name): \n",
        "        mean = round(sum(X)/len(X), 3) \n",
        "        std = np.std(X) \n",
        "        print(' 평균', name, '=', str(mean) + ',', \n",
        "              '95% 신뢰 구간 =', \n",
        "              round(mean - 1.96*std, 3), 'to', \n",
        "              round(mean + 1.96*std, 3)) \n",
        "    accs, sens, specs, precs, aurocs = [], [], [], [], [] \n",
        "    for stat in stats: \n",
        "        accs.append(stat[0]) \n",
        "        sens.append(stat[1]) \n",
        "        specs.append(stat[2]) \n",
        "        precs.append(stat[3]) \n",
        "        aurocs.append(stat[4]) \n",
        "    print_stat(accs, '정확도') \n",
        "    print_stat(sens, '민감도') \n",
        "    print_stat(accs, '특이도')\n",
        "    print_stat(precs, '정밀도') \n",
        "    print_stat(aurocs, 'AUC') "
      ]
    },
    {
      "cell_type": "code",
      "execution_count": null,
      "id": "05c78dcb-0054-40e3-8240-e82f5ff6883b",
      "metadata": {
        "id": "05c78dcb-0054-40e3-8240-e82f5ff6883b"
      },
      "outputs": [],
      "source": [
        "random.seed(0)\n",
        "test_models(build_Titanic_examples(), 100, True, False)"
      ]
    },
    {
      "cell_type": "code",
      "execution_count": null,
      "id": "8c14000f-2a1c-42e4-8f99-d8d4d7e02bff",
      "metadata": {
        "id": "8c14000f-2a1c-42e4-8f99-d8d4d7e02bff"
      },
      "outputs": [],
      "source": [
        "random.seed(0)\n",
        "test_models(build_Titanic_examples(), 100, False, True)"
      ]
    }
  ],
  "metadata": {
    "environment": {
      "kernel": "python3",
      "name": "common-cpu.m102",
      "type": "gcloud",
      "uri": "gcr.io/deeplearning-platform-release/base-cpu:m102"
    },
    "kernelspec": {
      "display_name": "Python 3",
      "language": "python",
      "name": "python3"
    },
    "language_info": {
      "codemirror_mode": {
        "name": "ipython",
        "version": 3
      },
      "file_extension": ".py",
      "mimetype": "text/x-python",
      "name": "python",
      "nbconvert_exporter": "python",
      "pygments_lexer": "ipython3",
      "version": "3.7.12"
    },
    "colab": {
      "provenance": []
    }
  },
  "nbformat": 4,
  "nbformat_minor": 5
}