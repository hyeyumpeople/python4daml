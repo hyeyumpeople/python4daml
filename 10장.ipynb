{
  "nbformat": 4,
  "nbformat_minor": 0,
  "metadata": {
    "colab": {
      "provenance": [],
      "authorship_tag": "ABX9TyM4s7Tlr9qpPL4rReCmofrL"
    },
    "kernelspec": {
      "name": "python3",
      "display_name": "Python 3"
    },
    "language_info": {
      "name": "python"
    }
  },
  "cells": [
    {
      "cell_type": "markdown",
      "source": [
        "<table align=\"left\"><tr><td>\n",
        "<a href=\"https://colab.research.google.com/github/rickiepark/python4daml/blob/main/10장.ipynb\" target=\"_parent\"><img src=\"https://colab.research.google.com/assets/colab-badge.svg\" alt=\"코랩에서 실행하기\"/></a>\n",
        "</td></tr></table>"
      ],
      "metadata": {
        "id": "jW2DMsZMPQdu"
      }
    },
    {
      "cell_type": "markdown",
      "source": [
        "# 10장 클래스와 객체 지향 프로그래밍"
      ],
      "metadata": {
        "id": "6zwsVCWTPOb3"
      }
    },
    {
      "cell_type": "markdown",
      "source": [
        "## 10.1 추상 데이터 타입과 클래스"
      ],
      "metadata": {
        "id": "N00ZnEUXeyXE"
      }
    },
    {
      "cell_type": "code",
      "execution_count": 1,
      "metadata": {
        "id": "lApnjz0KPL_7"
      },
      "outputs": [],
      "source": [
        "class Toy(object): \n",
        "    def __init__(self): \n",
        "        self._elems = [] \n",
        "    def add(self, new_elems): \n",
        "        \"\"\"new_elems는 리스트입니다\"\"\" \n",
        "        self._elems += new_elems \n",
        "    def size(self): \n",
        "        return len(self._elems)"
      ]
    },
    {
      "cell_type": "code",
      "source": [
        "print(type(Toy)) \n",
        "print(type(Toy.__init__), type(Toy.add), type(Toy.size)) "
      ],
      "metadata": {
        "colab": {
          "base_uri": "https://localhost:8080/"
        },
        "id": "QwyPAQOMez6y",
        "outputId": "a031963c-c767-49c0-9163-52fc8d83a3bb"
      },
      "execution_count": 2,
      "outputs": [
        {
          "output_type": "stream",
          "name": "stdout",
          "text": [
            "<class 'type'>\n",
            "<class 'function'> <class 'function'> <class 'function'>\n"
          ]
        }
      ]
    },
    {
      "cell_type": "code",
      "source": [
        "t1 = Toy() \n",
        "print(type(t1)) \n",
        "print(type(t1.add)) \n",
        "t2 = Toy() \n",
        "print(t1 is t2) #객체 동일성 테스트"
      ],
      "metadata": {
        "colab": {
          "base_uri": "https://localhost:8080/"
        },
        "id": "-_HmAOyjup2F",
        "outputId": "99b8d790-4330-4bc0-aed1-0ccb335d5099"
      },
      "execution_count": 3,
      "outputs": [
        {
          "output_type": "stream",
          "name": "stdout",
          "text": [
            "<class '__main__.Toy'>\n",
            "<class 'method'>\n",
            "False\n"
          ]
        }
      ]
    },
    {
      "cell_type": "code",
      "source": [
        "t1 = Toy() \n",
        "t2 = Toy() \n",
        "t1.add([3, 4]) \n",
        "t2.add([4]) \n",
        "print(t1.size() + t2.size()) "
      ],
      "metadata": {
        "colab": {
          "base_uri": "https://localhost:8080/"
        },
        "id": "SdRhFO7GLmSj",
        "outputId": "210cdc91-dc85-493b-c9cf-f770b34dadd2"
      },
      "execution_count": 4,
      "outputs": [
        {
          "output_type": "stream",
          "name": "stdout",
          "text": [
            "3\n"
          ]
        }
      ]
    },
    {
      "cell_type": "markdown",
      "source": [
        "그림 10-1 `IntSet` 클래스"
      ],
      "metadata": {
        "id": "8k8cli_eXkVd"
      }
    },
    {
      "cell_type": "code",
      "source": [
        "class IntSet(object): \n",
        "    \"\"\"IntSet은 정수 집합입니다\"\"\" \n",
        "       #(추상이 아닌) 구현에 대한 정보:\n",
        "       #한 집합의 값은 정수 리스트 self._vals로 표현됩니다. \n",
        "       #집합에 속한 정수는 self._vals에 정확히 한 번만 등장합니다. \n",
        "\n",
        "    def __init__(self): \n",
        "        \"\"\"빈 정수 집합을 만듭니다\"\"\" \n",
        "        self._vals = [] \n",
        "\n",
        "    def insert(self, e): \n",
        "        \"\"\"e는 정수라고 가정하고 self에 추가합니다\"\"\" \n",
        "        if e not in self._vals: \n",
        "            self._vals.append(e) \n",
        "\n",
        "    def member(self, e): \n",
        "        \"\"\"e는 정수라고 가정합니다.\n",
        "           e가 self에 있으면 True, 아니면 False를 반환합니다\"\"\" \n",
        "        return e in self._vals \n",
        "\n",
        "    def remove(self, e): \n",
        "        \"\"\"e는 정수라고 가정합니다.\n",
        "           e를 self에서 제거합니다. e가 self에 없다면 ValueError가 발생됩니다\"\"\" \n",
        "        try: \n",
        "            self._vals.remove(e) \n",
        "        except: \n",
        "            raise ValueError(str(e) + '를 찾지 못했습니다') \n",
        "\n",
        "    def get_members(self): \n",
        "        \"\"\"self._vals에 담긴 리스트를 반환합니다.\n",
        "           원소의 순서는 보장되지 않습니다\"\"\" \n",
        "        return self._vals[:] \n",
        "\n",
        "    def __str__(self): \n",
        "        \"\"\"self의 문자열 표현을 반환합니다\"\"\" \n",
        "        if self._vals == []: \n",
        "            return '{}' \n",
        "        self._vals.sort() \n",
        "        result = '' \n",
        "        for e in self._vals: \n",
        "            result = result + str(e) + ',' \n",
        "        return f'{{{result[:-1]}}}' "
      ],
      "metadata": {
        "id": "tKxGKlTPmaVt"
      },
      "execution_count": 5,
      "outputs": []
    },
    {
      "cell_type": "code",
      "source": [
        "s = IntSet() \n",
        "s.insert(3) \n",
        "print(s.member(3)) "
      ],
      "metadata": {
        "id": "6-tw6NC8Pbqz",
        "colab": {
          "base_uri": "https://localhost:8080/"
        },
        "outputId": "656b258e-db44-4197-c1c8-c98ce4bdc7ae"
      },
      "execution_count": 6,
      "outputs": [
        {
          "output_type": "stream",
          "name": "stdout",
          "text": [
            "True\n"
          ]
        }
      ]
    },
    {
      "cell_type": "code",
      "source": [
        "s = IntSet() \n",
        "s.insert(3) \n",
        "s.insert(4) \n",
        "print(str(s)) \n",
        "print('s의 값:', s) "
      ],
      "metadata": {
        "colab": {
          "base_uri": "https://localhost:8080/"
        },
        "id": "nGO7UMWr64ZK",
        "outputId": "21390b6b-685e-4acc-e3af-c2f0dc6faaf1"
      },
      "execution_count": 7,
      "outputs": [
        {
          "output_type": "stream",
          "name": "stdout",
          "text": [
            "{3,4}\n",
            "s의 값: {3,4}\n"
          ]
        }
      ]
    },
    {
      "cell_type": "markdown",
      "source": [
        "**손가락 운동**"
      ],
      "metadata": {
        "id": "svco4HUg_fb3"
      }
    },
    {
      "cell_type": "code",
      "source": [
        "class IntSet(object): \n",
        "    \"\"\"IntSet은 정수 집합입니다\"\"\" \n",
        "       #(추상이 아닌) 구현에 대한 정보:\n",
        "       #한 집합의 값은 정수 리스트 self._vals로 표현됩니다. \n",
        "       #집합에 속한 정수는 self._vals에 정확히 한 번만 등장합니다. \n",
        "\n",
        "    def __init__(self): \n",
        "        \"\"\"빈 정수 집합을 만듭니다\"\"\" \n",
        "        self._vals = [] \n",
        "\n",
        "    def insert(self, e): \n",
        "        \"\"\"e는 정수라고 가정하고 self에 추가합니다\"\"\" \n",
        "        if e not in self._vals: \n",
        "            self._vals.append(e) \n",
        "\n",
        "    def member(self, e): \n",
        "        \"\"\"e는 정수라고 가정합니다.\n",
        "           e가 self에 있으면 True, 아니면 False를 반환합니다\"\"\" \n",
        "        return e in self._vals \n",
        "\n",
        "    def remove(self, e): \n",
        "        \"\"\"e는 정수라고 가정합니다.\n",
        "           e를 self에서 제거합니다. e가 self에 없다면 ValueError가 발생됩니다\"\"\" \n",
        "        try: \n",
        "            self._vals.remove(e) \n",
        "        except: \n",
        "            raise ValueError(str(e) + '를 찾지 못했습니다') \n",
        "\n",
        "    def get_members(self): \n",
        "        \"\"\"self._vals에 담긴 리스트를 반환합니다.\n",
        "           원소의 순서는 보장되지 않습니다\"\"\" \n",
        "        return self._vals[:] \n",
        "\n",
        "    def __str__(self): \n",
        "        \"\"\"self의 문자열 표현을 반환합니다\"\"\" \n",
        "        if self._vals == []: \n",
        "            return '{}' \n",
        "        self._vals.sort() \n",
        "        result = '' \n",
        "        for e in self._vals: \n",
        "            result = result + str(e) + ',' \n",
        "        return f'{{{result[:-1]}}}' \n",
        "\n",
        "    def union(self, other): \n",
        "        \"\"\"other는 IntSet 객체입니다.\n",
        "        self와 other에 있는 원소를 포함하도록 self를 수정하세요\"\"\"\n",
        "        for e in other.get_members():\n",
        "            self.insert(e)"
      ],
      "metadata": {
        "id": "jQU-2nOIAQkK"
      },
      "execution_count": 8,
      "outputs": []
    },
    {
      "cell_type": "code",
      "source": [
        "s1 = IntSet() \n",
        "s1.insert(1) \n",
        "s1.insert(2)\n",
        "s2 = IntSet() \n",
        "s2.insert(2) \n",
        "s2.insert(3) \n",
        "s1.union(s2)\n",
        "print(s1) "
      ],
      "metadata": {
        "colab": {
          "base_uri": "https://localhost:8080/"
        },
        "id": "-0XUUA1IDyGo",
        "outputId": "fa50f020-154d-4d9e-b55a-e844c07a6fae"
      },
      "execution_count": 9,
      "outputs": [
        {
          "output_type": "stream",
          "name": "stdout",
          "text": [
            "{1,2,3}\n"
          ]
        }
      ]
    },
    {
      "cell_type": "markdown",
      "source": [
        "### 10.1.1 매직 메서드와 해싱 가능한 타입"
      ],
      "metadata": {
        "id": "bE2sur5xT4dW"
      }
    },
    {
      "cell_type": "markdown",
      "source": [
        "그림 10-2 매직 메서드 사용하기"
      ],
      "metadata": {
        "id": "yMa2JzOSXatb"
      }
    },
    {
      "cell_type": "code",
      "source": [
        "class Toy(object): \n",
        "    def __init__(self): \n",
        "        self._elems = [] \n",
        "    def add(self, new_elems): \n",
        "        \"\"\"new_elems는 리스트입니다\"\"\" \n",
        "        self._elems += new_elems \n",
        "    def __len__(self): \n",
        "        return len(self._elems) \n",
        "    def __add__(self, other): \n",
        "        new_toy = Toy() \n",
        "        new_toy._elems = self._elems + other._elems \n",
        "        return new_toy \n",
        "    def __eq__(self, other): \n",
        "        return self._elems == other._elems \n",
        "    def __str__(self): \n",
        "        return str(self._elems) \n",
        "    def __hash__(self): \n",
        "        return id(self) \n",
        "\n",
        "t1 = Toy() \n",
        "t2 = Toy() \n",
        "t1.add([1, 2]) \n",
        "t2.add([3, 4]) \n",
        "t3 = t1 + t2 \n",
        "print('t3의 값', t3) \n",
        "print('t3의 길이', len(t3)) \n",
        "d = {t1: 'A', t2: 'B'} \n",
        "print(d[t1], '은(는) 키 t1에 연관된 값입니다.') "
      ],
      "metadata": {
        "colab": {
          "base_uri": "https://localhost:8080/"
        },
        "id": "9V4pIws1EIGT",
        "outputId": "0b3ad150-8869-4dfb-fef0-d826efc5264b"
      },
      "execution_count": 10,
      "outputs": [
        {
          "output_type": "stream",
          "name": "stdout",
          "text": [
            "t3의 값 [1, 2, 3, 4]\n",
            "t3의 길이 4\n",
            "A 은(는) 키 t1에 연관된 값입니다.\n"
          ]
        }
      ]
    },
    {
      "cell_type": "markdown",
      "source": [
        "**손가락 운동**"
      ],
      "metadata": {
        "id": "w4zaUiqka5PQ"
      }
    },
    {
      "cell_type": "code",
      "source": [
        "class IntSet(object): \n",
        "    \"\"\"IntSet은 정수 집합입니다\"\"\" \n",
        "       #(추상이 아닌) 구현에 대한 정보:\n",
        "       #한 집합의 값은 정수 리스트 self._vals로 표현됩니다. \n",
        "       #집합에 속한 정수는 self._vals에 정확히 한 번만 등장합니다. \n",
        "\n",
        "    def __init__(self): \n",
        "        \"\"\"빈 정수 집합을 만듭니다\"\"\" \n",
        "        self._vals = [] \n",
        "\n",
        "    def insert(self, e): \n",
        "        \"\"\"e는 정수라고 가정하고 self에 추가합니다\"\"\" \n",
        "        if e not in self._vals: \n",
        "            self._vals.append(e) \n",
        "\n",
        "    def member(self, e): \n",
        "        \"\"\"e는 정수라고 가정합니다.\n",
        "           e가 self에 있으면 True, 아니면 False를 반환합니다\"\"\" \n",
        "        return e in self._vals \n",
        "\n",
        "    def remove(self, e): \n",
        "        \"\"\"e는 정수라고 가정합니다.\n",
        "           e를 self에서 제거합니다. e가 self에 없다면 ValueError가 발생됩니다\"\"\" \n",
        "        try: \n",
        "            self._vals.remove(e) \n",
        "        except: \n",
        "            raise ValueError(str(e) + '를 찾지 못했습니다') \n",
        "\n",
        "    def get_members(self): \n",
        "        \"\"\"self._vals에 담긴 리스트를 반환합니다.\n",
        "           원소의 순서는 보장되지 않습니다\"\"\" \n",
        "        return self._vals[:] \n",
        "\n",
        "    def __str__(self): \n",
        "        \"\"\"self의 문자열 표현을 반환합니다\"\"\" \n",
        "        if self._vals == []: \n",
        "            return '{}' \n",
        "        self._vals.sort() \n",
        "        result = '' \n",
        "        for e in self._vals: \n",
        "            result = result + str(e) + ',' \n",
        "        return f'{{{result[:-1]}}}' \n",
        "\n",
        "    def __add__(self, other): \n",
        "        \"\"\"other는 IntSet 객체입니다.\n",
        "        self와 other에 있는 원소를 포함하도록 self를 수정하세요\"\"\"\n",
        "        for e in other.get_members():\n",
        "            self.insert(e)\n",
        "        return self"
      ],
      "metadata": {
        "id": "x-2muUlZUW3M"
      },
      "execution_count": 11,
      "outputs": []
    },
    {
      "cell_type": "code",
      "source": [
        "s1 = IntSet() \n",
        "s1.insert(1) \n",
        "s1.insert(2)\n",
        "s2 = IntSet() \n",
        "s2.insert(2) \n",
        "s2.insert(3) \n",
        "s3 = s1 + s2\n",
        "print(s3) "
      ],
      "metadata": {
        "colab": {
          "base_uri": "https://localhost:8080/"
        },
        "id": "iww-X_DVbG6k",
        "outputId": "d7803641-23d8-4d8b-9644-b0815c2040b0"
      },
      "execution_count": 12,
      "outputs": [
        {
          "output_type": "stream",
          "name": "stdout",
          "text": [
            "{1,2,3}\n"
          ]
        }
      ]
    },
    {
      "cell_type": "markdown",
      "source": [
        "### 10.1.2 추상 데이터 타입을 사용해 프로그램 설계하기"
      ],
      "metadata": {
        "id": "bHM9EcZQbKh1"
      }
    },
    {
      "cell_type": "markdown",
      "source": [
        "### 10.1.3 학생 관리를 위한 클래스"
      ],
      "metadata": {
        "id": "or7TQaqE0zh4"
      }
    },
    {
      "cell_type": "markdown",
      "source": [
        "그림 10-3 `Person` 클래스"
      ],
      "metadata": {
        "id": "K534ooB0XT1Z"
      }
    },
    {
      "cell_type": "code",
      "source": [
        "import datetime \n",
        "\n",
        "class Person(object): \n",
        "\n",
        "    def __init__(self, name): \n",
        "        \"\"\"name은 문자열이라고 가정합니다. Person 객체를 만듭니다\"\"\" \n",
        "        self._name = name \n",
        "        try: \n",
        "            last_blank = name.rindex(' ') \n",
        "            self._last_name = name[last_blank+1:] \n",
        "        except: \n",
        "            self._last_name = name \n",
        "        self.birthday = None \n",
        "\n",
        "    def get_name(self): \n",
        "        \"\"\"self의 전체 이름을 반환합니다\"\"\" \n",
        "        return self._name \n",
        "\n",
        "    def get_last_name(self): \n",
        "        \"\"\"self의 성을 반환합니다\"\"\" \n",
        "        return self._last_name \n",
        "\n",
        "    def set_birthday(self, birthdate): \n",
        "        \"\"\"birthdate는 datetime.date 타입이라고 가정합니다\n",
        "           self의 생일을 birthdate로 설정합니다\"\"\" \n",
        "        self._birthday = birthdate \n",
        "\n",
        "    def get_age(self): \n",
        "        \"\"\"self의 현재 나이를 날짜 단위로 반환합니다\"\"\" \n",
        "        if self._birthday == None: \n",
        "            raise ValueError \n",
        "        return (datetime.date.today() - self._birthday).days \n",
        "\n",
        "    def __lt__(self, other): \n",
        "        \"\"\"other는 Person 객체라고 가정합니다.\n",
        "           self가 알파벳 순서로 other보다 앞에 있으면 True, 그렇지 않으면 False를 반환합니다.\n",
        "           성을 기준으로 비교하지만 같을 경우 전체 이름을 비교합니다\"\"\" \n",
        "        if self._last_name == other._last_name: \n",
        "            return self._name < other._name \n",
        "        return self._last_name < other._last_name \n",
        "\n",
        "    def __str__(self): \n",
        "        \"\"\"self의 이름을 반환합니다\"\"\" \n",
        "        return self._name "
      ],
      "metadata": {
        "id": "3W8m7fdG04Ej"
      },
      "execution_count": 13,
      "outputs": []
    },
    {
      "cell_type": "code",
      "source": [
        "me = Person('Michael Guttag') \n",
        "him = Person('Barack Hussein Obama') \n",
        "her = Person('Madonna') \n",
        "print(him.get_last_name()) \n",
        "him.set_birthday(datetime.date(1961, 8, 4)) \n",
        "her.set_birthday(datetime.date(1958, 8, 16)) \n",
        "print(him.get_name(), '의 나이는', him.get_age(), '일 입니다') "
      ],
      "metadata": {
        "colab": {
          "base_uri": "https://localhost:8080/"
        },
        "id": "EXy_jzB3fGcq",
        "outputId": "77250533-6c78-4830-cd50-79d6abaef1fe"
      },
      "execution_count": 14,
      "outputs": [
        {
          "output_type": "stream",
          "name": "stdout",
          "text": [
            "Obama\n",
            "Barack Hussein Obama 의 나이는 22386 일 입니다\n"
          ]
        }
      ]
    },
    {
      "cell_type": "code",
      "source": [
        "pList = [me, him, her] \n",
        "for p in pList: \n",
        "    print(p) \n",
        "pList.sort() \n",
        "for p in pList: \n",
        "    print(p) "
      ],
      "metadata": {
        "colab": {
          "base_uri": "https://localhost:8080/"
        },
        "id": "-mBHfZ832hau",
        "outputId": "4b1b41f3-756c-46bb-9318-e2b4e0d4ebc4"
      },
      "execution_count": 15,
      "outputs": [
        {
          "output_type": "stream",
          "name": "stdout",
          "text": [
            "Michael Guttag\n",
            "Barack Hussein Obama\n",
            "Madonna\n",
            "Michael Guttag\n",
            "Madonna\n",
            "Barack Hussein Obama\n"
          ]
        }
      ]
    },
    {
      "cell_type": "markdown",
      "source": [
        "## 10.2 상속"
      ],
      "metadata": {
        "id": "W-kk3oZu5hVU"
      }
    },
    {
      "cell_type": "markdown",
      "source": [
        "그림 10-4 `MITPerson` 클래스 "
      ],
      "metadata": {
        "id": "99_qEcfDXNTo"
      }
    },
    {
      "cell_type": "code",
      "source": [
        "class MITPerson(Person): \n",
        "\n",
        "    _next_id_num = 0 #식별 번호\n",
        "\n",
        "    def __init__(self, name): \n",
        "        super().__init__(name) \n",
        "        self._id_num = MITPerson._next_id_num \n",
        "        MITPerson._next_id_num += 1 \n",
        "\n",
        "    def get_id_num(self): \n",
        "        return self._id_num \n",
        "\n",
        "    def __lt__(self, other): \n",
        "        return self._id_num < other._id_num "
      ],
      "metadata": {
        "id": "3j3RNqsd5YUQ"
      },
      "execution_count": 16,
      "outputs": []
    },
    {
      "cell_type": "code",
      "source": [
        "p1 = MITPerson('Barbara Beaver') \n",
        "print(str(p1) + '\\'s 식별 번호: ' + str(p1.get_id_num())) "
      ],
      "metadata": {
        "colab": {
          "base_uri": "https://localhost:8080/"
        },
        "id": "RZRRKh6rn2xt",
        "outputId": "7eab5a86-c8ff-4095-a3a0-6e83358dc321"
      },
      "execution_count": 17,
      "outputs": [
        {
          "output_type": "stream",
          "name": "stdout",
          "text": [
            "Barbara Beaver's 식별 번호: 0\n"
          ]
        }
      ]
    },
    {
      "cell_type": "code",
      "source": [
        "p1 = MITPerson('Mark Guttag') \n",
        "p2 = MITPerson('Billy Bob Beaver') \n",
        "p3 = MITPerson('Billy Bob Beaver') \n",
        "p4 = Person('Billy Bob Beaver') "
      ],
      "metadata": {
        "id": "0_oB36Ldn_dk"
      },
      "execution_count": 18,
      "outputs": []
    },
    {
      "cell_type": "code",
      "source": [
        "print('p1 < p2 =', p1 < p2) \n",
        "print('p3 < p2 =', p3 < p2) \n",
        "print('p4 < p1 =', p4 < p1) "
      ],
      "metadata": {
        "colab": {
          "base_uri": "https://localhost:8080/"
        },
        "id": "PdARo3iEq4Mh",
        "outputId": "6b7af956-537c-4d6d-97a8-b50cedf6a544"
      },
      "execution_count": 19,
      "outputs": [
        {
          "output_type": "stream",
          "name": "stdout",
          "text": [
            "p1 < p2 = True\n",
            "p3 < p2 = False\n",
            "p4 < p1 = True\n"
          ]
        }
      ]
    },
    {
      "cell_type": "code",
      "source": [
        "print('p1 < p4 =', p1 < p4) "
      ],
      "metadata": {
        "colab": {
          "base_uri": "https://localhost:8080/",
          "height": 257
        },
        "id": "PHwJY2JlrOSB",
        "outputId": "87c23d80-9a29-4af7-db09-886b28f115ad"
      },
      "execution_count": 20,
      "outputs": [
        {
          "output_type": "error",
          "ename": "AttributeError",
          "evalue": "ignored",
          "traceback": [
            "\u001b[0;31m---------------------------------------------------------------------------\u001b[0m",
            "\u001b[0;31mAttributeError\u001b[0m                            Traceback (most recent call last)",
            "\u001b[0;32m<ipython-input-20-34a3e2cd80c5>\u001b[0m in \u001b[0;36m<module>\u001b[0;34m\u001b[0m\n\u001b[0;32m----> 1\u001b[0;31m \u001b[0mprint\u001b[0m\u001b[0;34m(\u001b[0m\u001b[0;34m'p1 < p4 ='\u001b[0m\u001b[0;34m,\u001b[0m \u001b[0mp1\u001b[0m \u001b[0;34m<\u001b[0m \u001b[0mp4\u001b[0m\u001b[0;34m)\u001b[0m\u001b[0;34m\u001b[0m\u001b[0;34m\u001b[0m\u001b[0m\n\u001b[0m",
            "\u001b[0;32m<ipython-input-16-75dd24f24bdb>\u001b[0m in \u001b[0;36m__lt__\u001b[0;34m(self, other)\u001b[0m\n\u001b[1;32m     12\u001b[0m \u001b[0;34m\u001b[0m\u001b[0m\n\u001b[1;32m     13\u001b[0m     \u001b[0;32mdef\u001b[0m \u001b[0m__lt__\u001b[0m\u001b[0;34m(\u001b[0m\u001b[0mself\u001b[0m\u001b[0;34m,\u001b[0m \u001b[0mother\u001b[0m\u001b[0;34m)\u001b[0m\u001b[0;34m:\u001b[0m\u001b[0;34m\u001b[0m\u001b[0;34m\u001b[0m\u001b[0m\n\u001b[0;32m---> 14\u001b[0;31m         \u001b[0;32mreturn\u001b[0m \u001b[0mself\u001b[0m\u001b[0;34m.\u001b[0m\u001b[0m_id_num\u001b[0m \u001b[0;34m<\u001b[0m \u001b[0mother\u001b[0m\u001b[0;34m.\u001b[0m\u001b[0m_id_num\u001b[0m\u001b[0;34m\u001b[0m\u001b[0;34m\u001b[0m\u001b[0m\n\u001b[0m",
            "\u001b[0;31mAttributeError\u001b[0m: 'Person' object has no attribute '_id_num'"
          ]
        }
      ]
    },
    {
      "cell_type": "markdown",
      "source": [
        "**손가락 운동**"
      ],
      "metadata": {
        "id": "NaNL7_wbs54h"
      }
    },
    {
      "cell_type": "code",
      "source": [
        "class Politician(Person): \n",
        "    \"\"\"Politician은 한 정당에 소속할 수 있는 Person입니다\"\"\" \n",
        "\n",
        "    def __init__(self, name, party = None): \n",
        "        \"\"\"name과 party는 문자열입니다\"\"\" \n",
        "        super().__init__(name) \n",
        "        self._party = party\n",
        "\n",
        "    def get_party(self): \n",
        "        \"\"\"self가 소속된 정당을 반환합니다\"\"\" \n",
        "        return self._party\n",
        "\n",
        "    def might_agree(self, other): \n",
        "        \"\"\"self와 other가 같은 정당에 속하거나 둘 중 하나가 정당에 소속되지 않으면 True,\n",
        "           그렇지 않으면 False를 반환합니다\"\"\" \n",
        "        if self._party == other._party or \\\n",
        "            self._party == None or other._party == None:\n",
        "            return True\n",
        "        return False"
      ],
      "metadata": {
        "id": "Uvh6RD71tvMT"
      },
      "execution_count": 21,
      "outputs": []
    },
    {
      "cell_type": "code",
      "source": [
        "po1 = Politician('Jimmy', 'Demo')\n",
        "po2 = Politician('Jack', 'Repub')\n",
        "po3 = Politician('Sean', 'Demo')\n",
        "po4 = Politician('Jay')\n",
        "\n",
        "print(po1.might_agree(po2))\n",
        "print(po1.might_agree(po3))\n",
        "print(po1.might_agree(po4))"
      ],
      "metadata": {
        "colab": {
          "base_uri": "https://localhost:8080/"
        },
        "id": "vNAZmhM7vEvS",
        "outputId": "624ccc46-b782-496f-9caa-69b48be9e75d"
      },
      "execution_count": 22,
      "outputs": [
        {
          "output_type": "stream",
          "name": "stdout",
          "text": [
            "False\n",
            "True\n",
            "True\n"
          ]
        }
      ]
    },
    {
      "cell_type": "markdown",
      "source": [
        "### 10.2.1 다단계 상속"
      ],
      "metadata": {
        "id": "N_zaXUJ7vs83"
      }
    },
    {
      "cell_type": "markdown",
      "source": [
        "그림 10-5 두 종류의 학생"
      ],
      "metadata": {
        "id": "VUNIonZ-XF23"
      }
    },
    {
      "cell_type": "code",
      "source": [
        "class Student(MITPerson): \n",
        "    pass \n",
        "\n",
        "class UG(Student): \n",
        "    def __init__(self, name, class_year): \n",
        "        super().__init__(name) \n",
        "        self._year = class_year \n",
        "    def get_class(self): \n",
        "        return self._year \n",
        "\n",
        "class Grad(Student): \n",
        "    pass "
      ],
      "metadata": {
        "id": "SjYOpqTdxGr9"
      },
      "execution_count": 23,
      "outputs": []
    },
    {
      "cell_type": "code",
      "source": [
        "p5 = Grad('Buzz Aldrin') \n",
        "p6 = UG('Billy Beaver', 1984) \n",
        "print(p5, '는 졸업생입니다:', type(p5) == Grad) \n",
        "print(p5, '는 학부생입니다:', type(p5) == UG) "
      ],
      "metadata": {
        "colab": {
          "base_uri": "https://localhost:8080/"
        },
        "id": "17IHyg2zxPqc",
        "outputId": "5190c5af-a5f9-443b-f2e7-ec5115f71d6b"
      },
      "execution_count": 24,
      "outputs": [
        {
          "output_type": "stream",
          "name": "stdout",
          "text": [
            "Buzz Aldrin 는 졸업생입니다: True\n",
            "Buzz Aldrin 는 학부생입니다: False\n"
          ]
        }
      ]
    },
    {
      "cell_type": "code",
      "source": [
        "class MITPerson(Person): \n",
        "\n",
        "    _next_id_num = 0 #식별 번호\n",
        "\n",
        "    def __init__(self, name): \n",
        "        super().__init__(name) \n",
        "        self._id_num = MITPerson._next_id_num \n",
        "        MITPerson._next_id_num += 1 \n",
        "\n",
        "    def get_id_num(self): \n",
        "        return self._id_num \n",
        "\n",
        "    def __lt__(self, other): \n",
        "        return self._id_num < other._id_num \n",
        "\n",
        "    def is_student(self): \n",
        "        return isinstance(self, Student)\n",
        "\n",
        "class Student(MITPerson): \n",
        "    pass \n",
        "\n",
        "class UG(Student): \n",
        "    def __init__(self, name, class_year): \n",
        "        super().__init__(name) \n",
        "        self._year = class_year \n",
        "    def get_class(self): \n",
        "        return self._year \n",
        "\n",
        "class Grad(Student): \n",
        "    pass \n",
        "\n",
        "p3 = MITPerson('Billy Bob Beaver') \n",
        "p5 = Grad('Buzz Aldrin') \n",
        "p6 = UG('Billy Beaver', 1984) "
      ],
      "metadata": {
        "id": "rTPkQPtq1wXP"
      },
      "execution_count": 25,
      "outputs": []
    },
    {
      "cell_type": "code",
      "source": [
        "print(p5, '는 학생입니다:', p5.is_student()) \n",
        "print(p6, '는 학생입니다:', p6.is_student()) \n",
        "print(p3, '는 학생입니다:', p3.is_student()) "
      ],
      "metadata": {
        "colab": {
          "base_uri": "https://localhost:8080/"
        },
        "id": "jbYhKCg-JWd5",
        "outputId": "61aaa915-e742-4880-caf0-da85e82883a5"
      },
      "execution_count": 26,
      "outputs": [
        {
          "output_type": "stream",
          "name": "stdout",
          "text": [
            "Buzz Aldrin 는 학생입니다: True\n",
            "Billy Beaver 는 학생입니다: True\n",
            "Billy Bob Beaver 는 학생입니다: False\n"
          ]
        }
      ]
    },
    {
      "cell_type": "code",
      "source": [
        "class TransferStudent(Student): \n",
        "\n",
        "    def __init__(self, name, from_school): \n",
        "        MITPerson.__init__(self, name) \n",
        "        self._from_school = from_school \n",
        "\n",
        "    def get_old_school(self): \n",
        "        return self._from_school "
      ],
      "metadata": {
        "id": "7jB1E-v-KtrC"
      },
      "execution_count": 27,
      "outputs": []
    },
    {
      "cell_type": "code",
      "source": [
        "p7 = TransferStudent('Haesun Park', 'Korea National Open University')\n",
        "print(p7, '는 학생입니다:', p7.is_student()) "
      ],
      "metadata": {
        "colab": {
          "base_uri": "https://localhost:8080/"
        },
        "id": "6SosjLgcP1H8",
        "outputId": "4906c085-9e54-4449-97b1-fd9b130b6cbb"
      },
      "execution_count": 28,
      "outputs": [
        {
          "output_type": "stream",
          "name": "stdout",
          "text": [
            "Haesun Park 는 학생입니다: True\n"
          ]
        }
      ]
    },
    {
      "cell_type": "markdown",
      "source": [
        "**손가락 운동**"
      ],
      "metadata": {
        "id": "vg_EPIkjQe13"
      }
    },
    {
      "cell_type": "code",
      "source": [
        "isinstance('ab', str) == isinstance(str, str)"
      ],
      "metadata": {
        "colab": {
          "base_uri": "https://localhost:8080/"
        },
        "id": "RaqaK2CWQDZb",
        "outputId": "4650eb3d-5b2b-4202-932d-336928abcdb2"
      },
      "execution_count": 29,
      "outputs": [
        {
          "output_type": "execute_result",
          "data": {
            "text/plain": [
              "False"
            ]
          },
          "metadata": {},
          "execution_count": 29
        }
      ]
    },
    {
      "cell_type": "markdown",
      "source": [
        "### 10.2.2 대체 원칙"
      ],
      "metadata": {
        "id": "ub75Cy0qQji0"
      }
    },
    {
      "cell_type": "markdown",
      "source": [
        "## 10.3 캡슐화와 정보 은닉"
      ],
      "metadata": {
        "id": "_aiSll6FYKZS"
      }
    },
    {
      "cell_type": "markdown",
      "source": [
        "그림 10-6 `Grades` 클래스"
      ],
      "metadata": {
        "id": "qe0BSBDgwQ9g"
      }
    },
    {
      "cell_type": "code",
      "source": [
        "class Grades(object): \n",
        "\n",
        "    def __init__(self): \n",
        "        \"\"\"빈 성적표를 만듭니다\"\"\" \n",
        "        self._students = [] \n",
        "        self._grades = {} \n",
        "        self._is_sorted = True \n",
        "\n",
        "    def add_student(self, student): \n",
        "        \"\"\"가정: student는 Student 타입니다.\n",
        "           student를 성적표에 추가합니다\"\"\" \n",
        "        if student in self._students: \n",
        "            raise ValueError('Duplicate student') \n",
        "        self._students.append(student) \n",
        "        self._grades[student.get_id_num()] = [] \n",
        "        self._is_sorted = False \n",
        "\n",
        "    def add_grade(self, student, grade): \n",
        "        \"\"\"가정: grade는 float입니다.\n",
        "           grade를 student의 성적 목록에 추가합니다\"\"\" \n",
        "        try: \n",
        "            self._grades[student.get_id_num()].append(grade) \n",
        "        except: \n",
        "            raise ValueError('존재하지 않는 학생입니다') \n",
        "\n",
        "    def get_grades(self, student): \n",
        "        \"\"\"학생의 성적 목록을 반환합니다\"\"\" \n",
        "        try: \n",
        "            return self._grades[student.get_id_num()][:] \n",
        "        except: \n",
        "            raise ValueError('존재하지 않는 학생입니다') \n",
        "\n",
        "    def get_students(self): \n",
        "        \"\"\"성적표에 있는 정렬된 학생 목록을 반환합니다\"\"\" \n",
        "        if not self._is_sorted: \n",
        "            self._students.sort() \n",
        "            self._is_sorted = True \n",
        "        return self._students[:] "
      ],
      "metadata": {
        "id": "0VIFCKMgwQio"
      },
      "execution_count": 30,
      "outputs": []
    },
    {
      "cell_type": "code",
      "source": [
        "course = Grades() \n",
        "course.add_student(Grad('Bernie')) \n",
        "all_students = course.get_students() \n",
        "all_students.append(Grad('Liz')) "
      ],
      "metadata": {
        "id": "M9kvPS9CQ3Y7"
      },
      "execution_count": 31,
      "outputs": []
    },
    {
      "cell_type": "markdown",
      "source": [
        "그림 10-7 성적 리포트 생성하기"
      ],
      "metadata": {
        "id": "RVJ6z89Gy75T"
      }
    },
    {
      "cell_type": "code",
      "source": [
        "def grade_report(course): \n",
        "    \"\"\"course는 Grades 타입이라 가정합니다\"\"\" \n",
        "    report = '' \n",
        "    for s in course.get_students(): \n",
        "        tot = 0.0 \n",
        "        num_grades = 0 \n",
        "        for g in course.get_grades(s): \n",
        "            tot += g \n",
        "            num_grades += 1 \n",
        "        try: \n",
        "            average = tot/num_grades \n",
        "            report = f\"{report}\\n{s}의 평균 점수는 {average}입니다\" \n",
        "        except ZeroDivisionError: \n",
        "            report = f\"{report}\\n{s}(은)는 받은 점수가 없습니다\" \n",
        "    return report \n",
        "\n",
        "ug1 = UG('Jane Doe', 2021) \n",
        "ug2 = UG('Pierce Addison', 2041) \n",
        "ug3 = UG('David Henry', 2003) \n",
        "g1 = Grad('Billy Buckner') \n",
        "g2 = Grad('Bucky F. Dent') \n",
        "six_hundred = Grades() \n",
        "six_hundred.add_student(ug1) \n",
        "six_hundred.add_student(ug2) \n",
        "six_hundred.add_student(g1) \n",
        "six_hundred.add_student(g2) \n",
        "for s in six_hundred.get_students(): \n",
        "    six_hundred.add_grade(s, 75) \n",
        "six_hundred.add_grade(g1, 25) \n",
        "six_hundred.add_grade(g2, 100) \n",
        "six_hundred.add_student(ug3) \n",
        "print(grade_report(six_hundred)) "
      ],
      "metadata": {
        "colab": {
          "base_uri": "https://localhost:8080/"
        },
        "id": "bkC7VsJp0p6E",
        "outputId": "471ba117-0529-4a7c-9784-9810e87a8db0"
      },
      "execution_count": 32,
      "outputs": [
        {
          "output_type": "stream",
          "name": "stdout",
          "text": [
            "\n",
            "Jane Doe의 평균 점수는 75.0입니다\n",
            "Pierce Addison의 평균 점수는 75.0입니다\n",
            "David Henry(은)는 받은 점수가 없습니다\n",
            "Billy Buckner의 평균 점수는 50.0입니다\n",
            "Bucky F. Dent의 평균 점수는 87.5입니다\n"
          ]
        }
      ]
    },
    {
      "cell_type": "markdown",
      "source": [
        "그림 10-8 클래스의 정보 은닉"
      ],
      "metadata": {
        "id": "aAH-Iaa51Eio"
      }
    },
    {
      "cell_type": "code",
      "source": [
        "class InfoHiding(object): \n",
        "    def __init__(self): \n",
        "        self.visible = '이 변수를 볼 수 있습니다' \n",
        "        self.__also_visible__ = '이 변수도 볼 수 있습니다' \n",
        "        self.__invisible = '이 변수는 직접 볼 수 없습니다' \n",
        "\n",
        "    def print_visible(self): \n",
        "        print(self.visible) \n",
        "\n",
        "    def print_invisible(self): \n",
        "        print(self.__invisible) \n",
        "\n",
        "    def __print_invisible(self): \n",
        "        print(self.__invisible) \n",
        "\n",
        "    def __print_invisible__(self): \n",
        "        print(self.__invisible) "
      ],
      "metadata": {
        "id": "Vgruz2WX5vOs"
      },
      "execution_count": 33,
      "outputs": []
    },
    {
      "cell_type": "code",
      "source": [
        "test = InfoHiding() \n",
        "print(test.visible) \n",
        "print(test.__also_visible__) \n",
        "print(test.__invisible) "
      ],
      "metadata": {
        "colab": {
          "base_uri": "https://localhost:8080/",
          "height": 240
        },
        "id": "wprbv8Hl6Doo",
        "outputId": "02855fe0-a606-4831-db5c-054f45f4bfb0"
      },
      "execution_count": 34,
      "outputs": [
        {
          "output_type": "stream",
          "name": "stdout",
          "text": [
            "이 변수를 볼 수 있습니다\n",
            "이 변수도 볼 수 있습니다\n"
          ]
        },
        {
          "output_type": "error",
          "ename": "AttributeError",
          "evalue": "ignored",
          "traceback": [
            "\u001b[0;31m---------------------------------------------------------------------------\u001b[0m",
            "\u001b[0;31mAttributeError\u001b[0m                            Traceback (most recent call last)",
            "\u001b[0;32m<ipython-input-34-5a35f896cd9c>\u001b[0m in \u001b[0;36m<module>\u001b[0;34m\u001b[0m\n\u001b[1;32m      2\u001b[0m \u001b[0mprint\u001b[0m\u001b[0;34m(\u001b[0m\u001b[0mtest\u001b[0m\u001b[0;34m.\u001b[0m\u001b[0mvisible\u001b[0m\u001b[0;34m)\u001b[0m\u001b[0;34m\u001b[0m\u001b[0;34m\u001b[0m\u001b[0m\n\u001b[1;32m      3\u001b[0m \u001b[0mprint\u001b[0m\u001b[0;34m(\u001b[0m\u001b[0mtest\u001b[0m\u001b[0;34m.\u001b[0m\u001b[0m__also_visible__\u001b[0m\u001b[0;34m)\u001b[0m\u001b[0;34m\u001b[0m\u001b[0;34m\u001b[0m\u001b[0m\n\u001b[0;32m----> 4\u001b[0;31m \u001b[0mprint\u001b[0m\u001b[0;34m(\u001b[0m\u001b[0mtest\u001b[0m\u001b[0;34m.\u001b[0m\u001b[0m__invisible\u001b[0m\u001b[0;34m)\u001b[0m\u001b[0;34m\u001b[0m\u001b[0;34m\u001b[0m\u001b[0m\n\u001b[0m",
            "\u001b[0;31mAttributeError\u001b[0m: 'InfoHiding' object has no attribute '__invisible'"
          ]
        }
      ]
    },
    {
      "cell_type": "code",
      "source": [
        "test = InfoHiding() \n",
        "test.print_invisible() \n",
        "test.__print_invisible__() \n",
        "test.__print_invisible() "
      ],
      "metadata": {
        "colab": {
          "base_uri": "https://localhost:8080/",
          "height": 240
        },
        "id": "SRlk32uy6egr",
        "outputId": "12e9a6d5-9a3e-41d5-c414-c685b1afc0a7"
      },
      "execution_count": 35,
      "outputs": [
        {
          "output_type": "stream",
          "name": "stdout",
          "text": [
            "이 변수는 직접 볼 수 없습니다\n",
            "이 변수는 직접 볼 수 없습니다\n"
          ]
        },
        {
          "output_type": "error",
          "ename": "AttributeError",
          "evalue": "ignored",
          "traceback": [
            "\u001b[0;31m---------------------------------------------------------------------------\u001b[0m",
            "\u001b[0;31mAttributeError\u001b[0m                            Traceback (most recent call last)",
            "\u001b[0;32m<ipython-input-35-bb91b866d9a8>\u001b[0m in \u001b[0;36m<module>\u001b[0;34m\u001b[0m\n\u001b[1;32m      2\u001b[0m \u001b[0mtest\u001b[0m\u001b[0;34m.\u001b[0m\u001b[0mprint_invisible\u001b[0m\u001b[0;34m(\u001b[0m\u001b[0;34m)\u001b[0m\u001b[0;34m\u001b[0m\u001b[0;34m\u001b[0m\u001b[0m\n\u001b[1;32m      3\u001b[0m \u001b[0mtest\u001b[0m\u001b[0;34m.\u001b[0m\u001b[0m__print_invisible__\u001b[0m\u001b[0;34m(\u001b[0m\u001b[0;34m)\u001b[0m\u001b[0;34m\u001b[0m\u001b[0;34m\u001b[0m\u001b[0m\n\u001b[0;32m----> 4\u001b[0;31m \u001b[0mtest\u001b[0m\u001b[0;34m.\u001b[0m\u001b[0m__print_invisible\u001b[0m\u001b[0;34m(\u001b[0m\u001b[0;34m)\u001b[0m\u001b[0;34m\u001b[0m\u001b[0;34m\u001b[0m\u001b[0m\n\u001b[0m",
            "\u001b[0;31mAttributeError\u001b[0m: 'InfoHiding' object has no attribute '__print_invisible'"
          ]
        }
      ]
    },
    {
      "cell_type": "code",
      "source": [
        "class SubClass(InfoHiding): \n",
        "    def new_print_invisible(self): \n",
        "        print(self.__invisible) \n",
        "\n",
        "test_sub = SubClass() \n",
        "test_sub.new_print_invisible() "
      ],
      "metadata": {
        "colab": {
          "base_uri": "https://localhost:8080/",
          "height": 327
        },
        "id": "EIOtJ7fG7HmU",
        "outputId": "dc9106ad-4a6d-4f39-bee0-f5c310d414ed"
      },
      "execution_count": 36,
      "outputs": [
        {
          "output_type": "error",
          "ename": "AttributeError",
          "evalue": "ignored",
          "traceback": [
            "\u001b[0;31m---------------------------------------------------------------------------\u001b[0m",
            "\u001b[0;31mAttributeError\u001b[0m                            Traceback (most recent call last)",
            "\u001b[0;32m<ipython-input-36-912da733412a>\u001b[0m in \u001b[0;36m<module>\u001b[0;34m\u001b[0m\n\u001b[1;32m      4\u001b[0m \u001b[0;34m\u001b[0m\u001b[0m\n\u001b[1;32m      5\u001b[0m \u001b[0mtest_sub\u001b[0m \u001b[0;34m=\u001b[0m \u001b[0mSubClass\u001b[0m\u001b[0;34m(\u001b[0m\u001b[0;34m)\u001b[0m\u001b[0;34m\u001b[0m\u001b[0;34m\u001b[0m\u001b[0m\n\u001b[0;32m----> 6\u001b[0;31m \u001b[0mtest_sub\u001b[0m\u001b[0;34m.\u001b[0m\u001b[0mnew_print_invisible\u001b[0m\u001b[0;34m(\u001b[0m\u001b[0;34m)\u001b[0m\u001b[0;34m\u001b[0m\u001b[0;34m\u001b[0m\u001b[0m\n\u001b[0m",
            "\u001b[0;32m<ipython-input-36-912da733412a>\u001b[0m in \u001b[0;36mnew_print_invisible\u001b[0;34m(self)\u001b[0m\n\u001b[1;32m      1\u001b[0m \u001b[0;32mclass\u001b[0m \u001b[0mSubClass\u001b[0m\u001b[0;34m(\u001b[0m\u001b[0mInfoHiding\u001b[0m\u001b[0;34m)\u001b[0m\u001b[0;34m:\u001b[0m\u001b[0;34m\u001b[0m\u001b[0;34m\u001b[0m\u001b[0m\n\u001b[1;32m      2\u001b[0m     \u001b[0;32mdef\u001b[0m \u001b[0mnew_print_invisible\u001b[0m\u001b[0;34m(\u001b[0m\u001b[0mself\u001b[0m\u001b[0;34m)\u001b[0m\u001b[0;34m:\u001b[0m\u001b[0;34m\u001b[0m\u001b[0;34m\u001b[0m\u001b[0m\n\u001b[0;32m----> 3\u001b[0;31m         \u001b[0mprint\u001b[0m\u001b[0;34m(\u001b[0m\u001b[0mself\u001b[0m\u001b[0;34m.\u001b[0m\u001b[0m__invisible\u001b[0m\u001b[0;34m)\u001b[0m\u001b[0;34m\u001b[0m\u001b[0;34m\u001b[0m\u001b[0m\n\u001b[0m\u001b[1;32m      4\u001b[0m \u001b[0;34m\u001b[0m\u001b[0m\n\u001b[1;32m      5\u001b[0m \u001b[0mtest_sub\u001b[0m \u001b[0;34m=\u001b[0m \u001b[0mSubClass\u001b[0m\u001b[0;34m(\u001b[0m\u001b[0;34m)\u001b[0m\u001b[0;34m\u001b[0m\u001b[0;34m\u001b[0m\u001b[0m\n",
            "\u001b[0;31mAttributeError\u001b[0m: 'SubClass' object has no attribute '_SubClass__invisible'"
          ]
        }
      ]
    },
    {
      "cell_type": "markdown",
      "source": [
        "### 10.3.1 제너레이터"
      ],
      "metadata": {
        "id": "JVxQHEyfDmiv"
      }
    },
    {
      "cell_type": "markdown",
      "source": [
        "그림 10-9 `get_students`의 새 버전"
      ],
      "metadata": {
        "id": "grcsulym7xfA"
      }
    },
    {
      "cell_type": "code",
      "source": [
        "class Grades(object): \n",
        "\n",
        "    def __init__(self): \n",
        "        \"\"\"빈 성적표를 만듭니다\"\"\" \n",
        "        self._students = [] \n",
        "        self._grades = {} \n",
        "        self._is_sorted = True \n",
        "\n",
        "    def add_student(self, student): \n",
        "        \"\"\"가정: student는 Student 타입니다.\n",
        "           student를 성적표에 추가합니다\"\"\" \n",
        "        if student in self._students: \n",
        "            raise ValueError('Duplicate student') \n",
        "        self._students.append(student) \n",
        "        self._grades[student.get_id_num()] = [] \n",
        "        self._is_sorted = False \n",
        "\n",
        "    def add_grade(self, student, grade): \n",
        "        \"\"\"가정: grade는 float입니다.\n",
        "           grade를 student의 성적 목록에 추가합니다\"\"\" \n",
        "        try: \n",
        "            self._grades[student.get_id_num()].append(grade) \n",
        "        except: \n",
        "            raise ValueError('존재하지 않는 학생입니다') \n",
        "\n",
        "    def get_grades(self, student): \n",
        "        \"\"\"학생의 성적 목록을 반환합니다\"\"\" \n",
        "        try: \n",
        "            return self._grades[student.get_id_num()][:] \n",
        "        except: \n",
        "            raise ValueError('존재하지 않는 학생입니다') \n",
        "\n",
        "    def get_students(self): \n",
        "        \"\"\"알파벳 순서대로 한 번에 하나씩 학생을 반환합니다\"\"\" \n",
        "        if not self._is_sorted: \n",
        "            self._students.sort() \n",
        "            self._is_sorted = True \n",
        "        for s in self._students: \n",
        "            yield s "
      ],
      "metadata": {
        "id": "Boz1FiKLD1fh"
      },
      "execution_count": 37,
      "outputs": []
    },
    {
      "cell_type": "code",
      "source": [
        "book = Grades() \n",
        "book.add_student(Grad('Julie')) \n",
        "book.add_student(Grad('Lisa')) \n",
        "for s in book.get_students(): \n",
        "    print(s) "
      ],
      "metadata": {
        "colab": {
          "base_uri": "https://localhost:8080/"
        },
        "id": "GenfnwWLEVAC",
        "outputId": "ecdf948b-c423-475e-823b-f614c69d1387"
      },
      "execution_count": 38,
      "outputs": [
        {
          "output_type": "stream",
          "name": "stdout",
          "text": [
            "Julie\n",
            "Lisa\n"
          ]
        }
      ]
    },
    {
      "cell_type": "markdown",
      "source": [
        "**손가락 운동**"
      ],
      "metadata": {
        "id": "LrzhxHQnEXb3"
      }
    },
    {
      "cell_type": "code",
      "source": [
        "class Grades(object): \n",
        "\n",
        "    def __init__(self): \n",
        "        \"\"\"빈 성적표를 만듭니다\"\"\" \n",
        "        self._students = [] \n",
        "        self._grades = {} \n",
        "        self._is_sorted = True \n",
        "\n",
        "    def add_student(self, student): \n",
        "        \"\"\"가정: student는 Student 타입니다.\n",
        "           student를 성적표에 추가합니다\"\"\" \n",
        "        if student in self._students: \n",
        "            raise ValueError('Duplicate student') \n",
        "        self._students.append(student) \n",
        "        self._grades[student.get_id_num()] = [] \n",
        "        self._is_sorted = False \n",
        "\n",
        "    def add_grade(self, student, grade): \n",
        "        \"\"\"가정: grade는 float입니다.\n",
        "           grade를 student의 성적 목록에 추가합니다\"\"\" \n",
        "        try: \n",
        "            self._grades[student.get_id_num()].append(grade) \n",
        "        except: \n",
        "            raise ValueError('존재하지 않는 학생입니다') \n",
        "\n",
        "    def get_grades(self, student): \n",
        "        \"\"\"학생의 성적 목록을 반환합니다\"\"\" \n",
        "        try: \n",
        "            return self._grades[student.get_id_num()][:] \n",
        "        except: \n",
        "            raise ValueError('존재하지 않는 학생입니다') \n",
        "\n",
        "    def get_students(self): \n",
        "        \"\"\"알파벳 순서대로 한 번에 하나씩 학생을 반환합니다\"\"\" \n",
        "        if not self._is_sorted: \n",
        "            self._students.sort() \n",
        "            self._is_sorted = True \n",
        "        for s in self._students: \n",
        "            yield s \n",
        "    \n",
        "    def get_students_above(self, grade): \n",
        "        \"\"\"평균 점수가 grade보다 큰 학생을 한 번에 하나씩 반환합니다\"\"\" \n",
        "        for s in self._students:\n",
        "            grades = self.get_grades(s)\n",
        "            if len(grades) > 0 and sum(grades)/len(grades) > grade:\n",
        "                yield s"
      ],
      "metadata": {
        "id": "fvjScZNCQhMn"
      },
      "execution_count": 39,
      "outputs": []
    },
    {
      "cell_type": "code",
      "source": [
        "six_hundred = Grades() \n",
        "six_hundred.add_student(ug1) \n",
        "six_hundred.add_student(ug2) \n",
        "six_hundred.add_student(g1) \n",
        "six_hundred.add_student(g2) \n",
        "for s in six_hundred.get_students(): \n",
        "    six_hundred.add_grade(s, 75) \n",
        "six_hundred.add_grade(g1, 25) \n",
        "six_hundred.add_grade(g2, 100) \n",
        "six_hundred.add_student(ug3) \n",
        "for s in six_hundred.get_students_above(70):\n",
        "    print(s)"
      ],
      "metadata": {
        "colab": {
          "base_uri": "https://localhost:8080/"
        },
        "id": "D6lHMZRCRr-0",
        "outputId": "45ebeb6b-73df-43de-9225-9a1a3f60be5b"
      },
      "execution_count": 40,
      "outputs": [
        {
          "output_type": "stream",
          "name": "stdout",
          "text": [
            "Jane Doe\n",
            "Pierce Addison\n",
            "Bucky F. Dent\n"
          ]
        }
      ]
    },
    {
      "cell_type": "markdown",
      "source": [
        "## 10.4 고급 예제"
      ],
      "metadata": {
        "id": "GQRCSpcnSDNm"
      }
    },
    {
      "cell_type": "markdown",
      "source": [
        "그림 10-10 `Mortgage` 클래스 "
      ],
      "metadata": {
        "id": "xJUfQ8D1ATyy"
      }
    },
    {
      "cell_type": "code",
      "source": [
        "def find_payment(loan, r, m): \n",
        "    \"\"\"가정: loan과 r은 floats, m은 int입니다.\n",
        "       m 개월 동안 월이자가 r일 때 모기지 금액 loan의 월 상환액을 반환합니다\"\"\" \n",
        "    return loan*((r*(1+r)**m)/((1+r)**m -1)) \n",
        "\n",
        "class Mortgage(object): \n",
        "    \"\"\"여러 종류의 모기지를 만들기 위한 추상 클래스\"\"\" \n",
        "    def __init__(self, loan, ann_rate, months): \n",
        "        \"\"\"가정: loan과 ann_rate은 float, months는 int입니다.\n",
        "           대출금 load, 대출 기간 months, 연이율 ann_rate인 모기지를 만듭니다\"\"\" \n",
        "        self._loan = loan \n",
        "        self._rate = ann_rate/12 \n",
        "        self._months = months \n",
        "        self._paid = [0.0] \n",
        "        self._outstanding = [loan] \n",
        "        self._payment = find_payment(loan, self._rate, months) \n",
        "        self._legend = None #모기지 설명\n",
        "\n",
        "    def make_payment(self): \n",
        "        \"\"\"월 상환액을 납입합니다\"\"\" \n",
        "        self._paid.append(self._payment) \n",
        "        reduction = self._payment - self._outstanding[-1]*self._rate \n",
        "        self._outstanding.append(self._outstanding[-1] - reduction) \n",
        "\n",
        "    def get_total_paid(self): \n",
        "        \"\"\"지금까지 납입한 총 금액을 반환합니다\"\"\" \n",
        "        return sum(self._paid) \n",
        "\n",
        "    def __str__(self): \n",
        "        return self._legend"
      ],
      "metadata": {
        "id": "c-KTiNFzSXLZ"
      },
      "execution_count": 41,
      "outputs": []
    },
    {
      "cell_type": "markdown",
      "source": [
        "그림 10-11 `Mortgage` 서브클래스 "
      ],
      "metadata": {
        "id": "HrxO5-9eAOYN"
      }
    },
    {
      "cell_type": "code",
      "source": [
        "class Fixed(Mortgage): \n",
        "    def __init__(self, loan, r, months): \n",
        "        Mortgage.__init__(self, loan, r, months) \n",
        "        self._legend = f'고정, {r*100:.1f}%' \n",
        "\n",
        "class FixedWithPts(Mortgage): \n",
        "    def __init__(self, loan, r, months, pts): \n",
        "        Mortgage.__init__(self, loan, r, months) \n",
        "        self._pts = pts \n",
        "        self._paid = [loan*(pts/100)] \n",
        "        self._legend = f'고정, {r*100:.1f}%, {pts} 포인트' \n",
        "\n",
        "class TwoRate(Mortgage): \n",
        "    def __init__(self, loan, r, months, teaser_rate, teaser_months): \n",
        "        Mortgage.__init__(self, loan, teaser_rate, months) \n",
        "        self._teaser_months = teaser_months \n",
        "        self._teaser_rate = teaser_rate \n",
        "        self._nextRate = r/12 \n",
        "        self._legend = (f'{self._teaser_months}달 동안 ' + \n",
        "                        f'{100*teaser_rate:.1f}%, 그다음엔 {100*r:.1f}%') \n",
        "    def make_payment(self): \n",
        "        if len(self._paid) == self._teaser_months + 1: \n",
        "            self._rate = self._nextRate \n",
        "            self._payment = find_payment(self._outstanding[-1], \n",
        "                                         self._rate, \n",
        "                                         self._months - self._teaser_months) \n",
        "        Mortgage.make_payment(self) \n",
        "\n",
        "def compare_mortgages(amt, years, fixed_rate, pts, pts_rate, \n",
        "                      var_rate1, var_rate2, var_months): \n",
        "    tot_months = years*12 \n",
        "    fixed1 = Fixed(amt, fixed_rate, tot_months) \n",
        "    fixed2 = FixedWithPts(amt, pts_rate, tot_months, pts) \n",
        "    two_rate = TwoRate(amt, var_rate2, tot_months, var_rate1, \n",
        "                       var_months) \n",
        "    morts = [fixed1, fixed2, two_rate] \n",
        "    for m in range(tot_months): \n",
        "        for mort in morts: \n",
        "            mort.make_payment() \n",
        "    for m in morts: \n",
        "        print(m) \n",
        "        print(f' 총 상환액 = ${m.get_total_paid():,.0f}') "
      ],
      "metadata": {
        "id": "idXaUj0Hk6F2"
      },
      "execution_count": 42,
      "outputs": []
    },
    {
      "cell_type": "code",
      "source": [
        "compare_mortgages(amt=200000, years=30, fixed_rate=0.035, \n",
        "                  pts = 2, pts_rate=0.03, var_rate1=0.03, \n",
        "                  var_rate2=0.05, var_months=60) "
      ],
      "metadata": {
        "colab": {
          "base_uri": "https://localhost:8080/"
        },
        "id": "AGDaGeG17skz",
        "outputId": "e0510ea9-e320-4018-d4ca-574c98ac5ad5"
      },
      "execution_count": 43,
      "outputs": [
        {
          "output_type": "stream",
          "name": "stdout",
          "text": [
            "고정, 3.5%\n",
            " 총 상환액 = $323,312\n",
            "고정, 3.0%, 2 포인트\n",
            " 총 상환액 = $307,555\n",
            "60달 동안 3.0%, 그다음엔 5.0%\n",
            " 총 상환액 = $362,435\n"
          ]
        }
      ]
    }
  ]
}