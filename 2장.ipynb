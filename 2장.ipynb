{
  "nbformat": 4,
  "nbformat_minor": 0,
  "metadata": {
    "colab": {
      "provenance": [],
      "authorship_tag": "ABX9TyO97YgAqcvygAlyaRFYBXNG"
    },
    "kernelspec": {
      "name": "python3",
      "display_name": "Python 3"
    },
    "language_info": {
      "name": "python"
    }
  },
  "cells": [
    {
      "cell_type": "markdown",
      "source": [
        "<table align=\"left\"><tr><td>\n",
        "<a href=\"https://colab.research.google.com/github/rickiepark/python4daml/blob/main/2장.ipynb\" target=\"_parent\"><img src=\"https://colab.research.google.com/assets/colab-badge.svg\" alt=\"코랩에서 실행하기\"/></a>\n",
        "</td></tr></table>"
      ],
      "metadata": {
        "id": "_muEA3Y8uWEZ"
      }
    },
    {
      "cell_type": "markdown",
      "source": [
        "# 2장 파이썬 소개"
      ],
      "metadata": {
        "id": "_Xw8DhHUuREj"
      }
    },
    {
      "cell_type": "markdown",
      "source": [
        "## 2.1 파이썬과 파이썬 IDE 설치하기"
      ],
      "metadata": {
        "id": "Oyn8AYCZvVCv"
      }
    },
    {
      "cell_type": "markdown",
      "source": [
        "## 2.2 파이썬의 기본 요소"
      ],
      "metadata": {
        "id": "yEvU-qkWuKKu"
      }
    },
    {
      "cell_type": "code",
      "source": [
        "print('Yankees rule!')\n",
        "print('But not in Boston!')\n",
        "print('Yankees rule,', 'but not in Boston!')"
      ],
      "metadata": {
        "colab": {
          "base_uri": "https://localhost:8080/"
        },
        "id": "ukNL1NrQvdox",
        "outputId": "04dff84e-4bd4-40ae-8a3f-6b016763f2c6"
      },
      "execution_count": 1,
      "outputs": [
        {
          "output_type": "stream",
          "name": "stdout",
          "text": [
            "Yankees rule!\n",
            "But not in Boston!\n",
            "Yankees rule, but not in Boston!\n"
          ]
        }
      ]
    },
    {
      "cell_type": "markdown",
      "source": [
        "### 2.2.1 객체, 표현, 수치 타입"
      ],
      "metadata": {
        "id": "W5UOfjLLvgO-"
      }
    },
    {
      "cell_type": "code",
      "source": [
        "3"
      ],
      "metadata": {
        "colab": {
          "base_uri": "https://localhost:8080/"
        },
        "id": "vcDSAeiYvwBE",
        "outputId": "d26591d6-a7f8-4092-af5f-1d465264ad43"
      },
      "execution_count": 2,
      "outputs": [
        {
          "output_type": "execute_result",
          "data": {
            "text/plain": [
              "3"
            ]
          },
          "metadata": {},
          "execution_count": 2
        }
      ]
    },
    {
      "cell_type": "code",
      "source": [
        "3+2"
      ],
      "metadata": {
        "colab": {
          "base_uri": "https://localhost:8080/"
        },
        "id": "WLGVj9vPvw2J",
        "outputId": "8854e10a-0897-4795-beab-95a3f2146417"
      },
      "execution_count": 3,
      "outputs": [
        {
          "output_type": "execute_result",
          "data": {
            "text/plain": [
              "5"
            ]
          },
          "metadata": {},
          "execution_count": 3
        }
      ]
    },
    {
      "cell_type": "code",
      "source": [
        "3.0+2.0"
      ],
      "metadata": {
        "colab": {
          "base_uri": "https://localhost:8080/"
        },
        "id": "NNI-VjujvyDU",
        "outputId": "276399be-5955-454f-be6a-d4d60a6a4cce"
      },
      "execution_count": 4,
      "outputs": [
        {
          "output_type": "execute_result",
          "data": {
            "text/plain": [
              "5.0"
            ]
          },
          "metadata": {},
          "execution_count": 4
        }
      ]
    },
    {
      "cell_type": "code",
      "source": [
        "3!=2"
      ],
      "metadata": {
        "colab": {
          "base_uri": "https://localhost:8080/"
        },
        "id": "43Uxj17Cv0iD",
        "outputId": "67b23cb1-949b-4b4e-a180-3510de8a3e8d"
      },
      "execution_count": 5,
      "outputs": [
        {
          "output_type": "execute_result",
          "data": {
            "text/plain": [
              "True"
            ]
          },
          "metadata": {},
          "execution_count": 5
        }
      ]
    },
    {
      "cell_type": "code",
      "source": [
        "type(3)"
      ],
      "metadata": {
        "colab": {
          "base_uri": "https://localhost:8080/"
        },
        "id": "yH_2gPcmv1jy",
        "outputId": "da10c323-6d5f-40cd-f812-8d879d026d54"
      },
      "execution_count": 6,
      "outputs": [
        {
          "output_type": "execute_result",
          "data": {
            "text/plain": [
              "int"
            ]
          },
          "metadata": {},
          "execution_count": 6
        }
      ]
    },
    {
      "cell_type": "code",
      "source": [
        "type(3.0)"
      ],
      "metadata": {
        "colab": {
          "base_uri": "https://localhost:8080/"
        },
        "id": "V48B5uo1v3Ko",
        "outputId": "2727d862-2822-419b-b3d0-f795abc3d0f2"
      },
      "execution_count": 7,
      "outputs": [
        {
          "output_type": "execute_result",
          "data": {
            "text/plain": [
              "float"
            ]
          },
          "metadata": {},
          "execution_count": 7
        }
      ]
    },
    {
      "cell_type": "markdown",
      "source": [
        "### 2.2.2 변수와 할당"
      ],
      "metadata": {
        "id": "vdw5VMGdv4jC"
      }
    },
    {
      "cell_type": "code",
      "source": [
        "pi = 3\n",
        "radius = 11\n",
        "area = pi * (radius**2)\n",
        "radius = 14"
      ],
      "metadata": {
        "id": "9TsuVI5AwAKe"
      },
      "execution_count": 8,
      "outputs": []
    },
    {
      "cell_type": "code",
      "source": [
        "a = 3.14159\n",
        "b = 11.2\n",
        "c = a*(b**2)"
      ],
      "metadata": {
        "id": "M3BHZUUJN2WK"
      },
      "execution_count": 9,
      "outputs": []
    },
    {
      "cell_type": "code",
      "source": [
        "pi = 3.14159\n",
        "diameter = 11.2\n",
        "area = pi*(diameter**2)"
      ],
      "metadata": {
        "id": "OqD45sOiN37a"
      },
      "execution_count": 10,
      "outputs": []
    },
    {
      "cell_type": "code",
      "source": [
        "import keyword\n",
        "print(keyword.kwlist)"
      ],
      "metadata": {
        "colab": {
          "base_uri": "https://localhost:8080/"
        },
        "id": "jfW8mnJTwCC5",
        "outputId": "7fe5c94c-149e-4c51-ba4a-74c0a0f3b82a"
      },
      "execution_count": 11,
      "outputs": [
        {
          "output_type": "stream",
          "name": "stdout",
          "text": [
            "['False', 'None', 'True', 'and', 'as', 'assert', 'async', 'await', 'break', 'class', 'continue', 'def', 'del', 'elif', 'else', 'except', 'finally', 'for', 'from', 'global', 'if', 'import', 'in', 'is', 'lambda', 'nonlocal', 'not', 'or', 'pass', 'raise', 'return', 'try', 'while', 'with', 'yield']\n"
          ]
        }
      ]
    },
    {
      "cell_type": "code",
      "source": [
        "side = 1 #단위 정사각형에서 한 변 길이\n",
        "radius = 1 #단위 원의 반지름\n",
        "#단위 정사각형의 면서에서 단위 원의 면적을 뺍니다\n",
        "area_circle = pi*radius**2\n",
        "area_square = side*side\n",
        "difference = area_square - area_circle"
      ],
      "metadata": {
        "id": "SLwr2Wp4wNzw"
      },
      "execution_count": 12,
      "outputs": []
    },
    {
      "cell_type": "code",
      "source": [
        "x, y = 2, 3"
      ],
      "metadata": {
        "id": "VQh1RLpwwWCC"
      },
      "execution_count": 13,
      "outputs": []
    },
    {
      "cell_type": "code",
      "source": [
        "x, y = 2, 3\n",
        "x, y = y, x\n",
        "print('x =', x)\n",
        "print('y =', y)"
      ],
      "metadata": {
        "colab": {
          "base_uri": "https://localhost:8080/"
        },
        "id": "TdzW6tWcwauq",
        "outputId": "13912e8d-73d9-496f-ee06-d04e628af60b"
      },
      "execution_count": 14,
      "outputs": [
        {
          "output_type": "stream",
          "name": "stdout",
          "text": [
            "x = 3\n",
            "y = 2\n"
          ]
        }
      ]
    },
    {
      "cell_type": "markdown",
      "source": [
        "## 2.3 프로그램 분기"
      ],
      "metadata": {
        "id": "ghYOm9VhwcJr"
      }
    },
    {
      "cell_type": "code",
      "source": [
        "if x%2 == 0:\n",
        "    print('짝수')\n",
        "else:\n",
        "    print('홀수')\n",
        "print('조건문 종료')"
      ],
      "metadata": {
        "colab": {
          "base_uri": "https://localhost:8080/"
        },
        "id": "1R0JVIkPwllf",
        "outputId": "4908045c-4072-4941-f057-cade6cbb2bc5"
      },
      "execution_count": 15,
      "outputs": [
        {
          "output_type": "stream",
          "name": "stdout",
          "text": [
            "홀수\n",
            "조건문 종료\n"
          ]
        }
      ]
    },
    {
      "cell_type": "code",
      "source": [
        "x = 1111111111111111111111111111111 + 222222222222333222222222 +\\\n",
        "3333333333333333333333333333333"
      ],
      "metadata": {
        "id": "8-jcPhftwmIS"
      },
      "execution_count": 16,
      "outputs": []
    },
    {
      "cell_type": "code",
      "source": [
        "x = 1111111111111111111111111111111 + 222222222222333222222222 +\n",
        "3333333333333333333333333333333"
      ],
      "metadata": {
        "colab": {
          "base_uri": "https://localhost:8080/",
          "height": 137
        },
        "id": "k-g6Emyd1VS7",
        "outputId": "fa725ed0-1e2b-45a6-db0c-64b94fd8a95b"
      },
      "execution_count": 17,
      "outputs": [
        {
          "output_type": "error",
          "ename": "SyntaxError",
          "evalue": "ignored",
          "traceback": [
            "\u001b[0;36m  File \u001b[0;32m\"<ipython-input-17-1238a62ea081>\"\u001b[0;36m, line \u001b[0;32m1\u001b[0m\n\u001b[0;31m    x = 1111111111111111111111111111111 + 222222222222333222222222 +\u001b[0m\n\u001b[0m                                                                    ^\u001b[0m\n\u001b[0;31mSyntaxError\u001b[0m\u001b[0;31m:\u001b[0m invalid syntax\n"
          ]
        }
      ]
    },
    {
      "cell_type": "code",
      "source": [
        "x = (1111111111111111111111111111111 + 222222222222333222222222 +\n",
        "3333333333333333333333333333333)"
      ],
      "metadata": {
        "id": "7IDGTnGI1Yny"
      },
      "execution_count": 18,
      "outputs": []
    },
    {
      "cell_type": "code",
      "source": [
        "if x%2 == 0:\n",
        "    if x%3 == 0:\n",
        "        print('2와 3으로 나누어 떨어집니다')\n",
        "    else:\n",
        "        print('2로 나누어 떨어지지만 3으로 나누어 떨어지지 않습니다')\n",
        "elif x%3 == 0:\n",
        "    print('3으로 나누어 떨어지지만 2로 나누어 떨어지지 않습니다')"
      ],
      "metadata": {
        "colab": {
          "base_uri": "https://localhost:8080/"
        },
        "id": "n5tV3Gl3YaYl",
        "outputId": "99094776-be46-4dee-9cb1-43d42f87f57f"
      },
      "execution_count": 19,
      "outputs": [
        {
          "output_type": "stream",
          "name": "stdout",
          "text": [
            "2로 나누어 떨어지지만 3으로 나누어 떨어지지 않습니다\n"
          ]
        }
      ]
    },
    {
      "cell_type": "code",
      "source": [
        "x = 1\n",
        "y = 2\n",
        "z = 3\n",
        "\n",
        "if x < y and x < z:\n",
        "    print('x가 가장 작습니다')\n",
        "elif y < z:\n",
        "    print('y가 가장 작습니다')\n",
        "else:\n",
        "    print('z가 가장 작습니다')"
      ],
      "metadata": {
        "colab": {
          "base_uri": "https://localhost:8080/"
        },
        "id": "h-3boiQ8Yc5D",
        "outputId": "aeec571b-4a20-4c65-88c2-aafe827030f9"
      },
      "execution_count": 20,
      "outputs": [
        {
          "output_type": "stream",
          "name": "stdout",
          "text": [
            "x가 가장 작습니다\n"
          ]
        }
      ]
    },
    {
      "cell_type": "markdown",
      "source": [
        "**손가락 운동**"
      ],
      "metadata": {
        "id": "8k1i81jsaKSw"
      }
    },
    {
      "cell_type": "code",
      "source": [
        "if x%2 != 0 and y%2 != 0 and z%2 != 0:\n",
        "    print(max(x, y, z))\n",
        "if x%2 != 0 and y%2 != 0 and z%2 == 0:\n",
        "    print(max(x, y))\n",
        "if x%2 != 0 and y%2 == 0 and z%2 != 0:\n",
        "    print(max(x, z))\n",
        "if x%2 == 0 and y%2 != 0 and z%2 != 0:\n",
        "    print(max(y, z))\n",
        "if x%2 != 0 and y%2 == 0 and z%2 == 0:\n",
        "    print(x)\n",
        "if x%2 == 0 and y%2 != 0 and z%2 == 0:\n",
        "    print(y)\n",
        "if x%2 == 0 and y%2 == 0 and z%2 != 0:\n",
        "    print(z)\n",
        "if x%2 == 0 and y%2 == 0 and z%2 == 0:\n",
        "    print(min(x, y, z))"
      ],
      "metadata": {
        "colab": {
          "base_uri": "https://localhost:8080/"
        },
        "id": "YJkXW0I81LGs",
        "outputId": "103bdb98-9030-40aa-f39c-27acf1210621"
      },
      "execution_count": 21,
      "outputs": [
        {
          "output_type": "stream",
          "name": "stdout",
          "text": [
            "3\n"
          ]
        }
      ]
    },
    {
      "cell_type": "code",
      "source": [
        "answer = min(x, y, z)\n",
        "if x%2 != 0:\n",
        "    answer = x\n",
        "if y%2 != 0 and y > answer:\n",
        "    answer = y\n",
        "if z%2 != 0 and z > answer:\n",
        "    answer = z\n",
        "print(answer)"
      ],
      "metadata": {
        "colab": {
          "base_uri": "https://localhost:8080/"
        },
        "id": "ItnCSegO346g",
        "outputId": "be1e974c-f54a-41a2-a954-e686df019220"
      },
      "execution_count": 22,
      "outputs": [
        {
          "output_type": "stream",
          "name": "stdout",
          "text": [
            "3\n"
          ]
        }
      ]
    },
    {
      "cell_type": "code",
      "source": [
        "x = y if y > z else z"
      ],
      "metadata": {
        "id": "Aha1fhCK3_Mt"
      },
      "execution_count": 23,
      "outputs": []
    },
    {
      "cell_type": "code",
      "source": [
        "print((x if x > z else z) if x > y else (y if y > z else z))"
      ],
      "metadata": {
        "colab": {
          "base_uri": "https://localhost:8080/"
        },
        "id": "4u_cSNWCXeU8",
        "outputId": "0fcb8178-b439-43c9-c57b-8c2320aea6eb"
      },
      "execution_count": 24,
      "outputs": [
        {
          "output_type": "stream",
          "name": "stdout",
          "text": [
            "3\n"
          ]
        }
      ]
    },
    {
      "cell_type": "markdown",
      "source": [
        "## 2.4 문자열과 입력"
      ],
      "metadata": {
        "id": "dEGplEPiXgGV"
      }
    },
    {
      "cell_type": "code",
      "source": [
        "'a'\n",
        "3*4\n",
        "3*'a'\n",
        "3+4\n",
        "'a'+'a'"
      ],
      "metadata": {
        "colab": {
          "base_uri": "https://localhost:8080/",
          "height": 36
        },
        "id": "d0iN-lWfk1Tn",
        "outputId": "9852d0ab-42c8-4a94-bebe-c15ab417b90f"
      },
      "execution_count": 25,
      "outputs": [
        {
          "output_type": "execute_result",
          "data": {
            "text/plain": [
              "'aa'"
            ],
            "application/vnd.google.colaboratory.intrinsic+json": {
              "type": "string"
            }
          },
          "metadata": {},
          "execution_count": 25
        }
      ]
    },
    {
      "cell_type": "code",
      "source": [
        "new_id"
      ],
      "metadata": {
        "colab": {
          "base_uri": "https://localhost:8080/",
          "height": 173
        },
        "id": "ZEFTIm-Sk13Z",
        "outputId": "67afd37a-2d9f-464e-eab9-b0060c0791ce"
      },
      "execution_count": 26,
      "outputs": [
        {
          "output_type": "error",
          "ename": "NameError",
          "evalue": "ignored",
          "traceback": [
            "\u001b[0;31m---------------------------------------------------------------------------\u001b[0m",
            "\u001b[0;31mNameError\u001b[0m                                 Traceback (most recent call last)",
            "\u001b[0;32m<ipython-input-26-fcb9bb302ff9>\u001b[0m in \u001b[0;36m<module>\u001b[0;34m\u001b[0m\n\u001b[0;32m----> 1\u001b[0;31m \u001b[0mnew_id\u001b[0m\u001b[0;34m\u001b[0m\u001b[0;34m\u001b[0m\u001b[0m\n\u001b[0m",
            "\u001b[0;31mNameError\u001b[0m: name 'new_id' is not defined"
          ]
        }
      ]
    },
    {
      "cell_type": "code",
      "source": [
        "'a'*'a'"
      ],
      "metadata": {
        "colab": {
          "base_uri": "https://localhost:8080/",
          "height": 173
        },
        "id": "NMt3MfqqNLAc",
        "outputId": "b2c56d04-765c-464b-e02b-e5b2085f5170"
      },
      "execution_count": 27,
      "outputs": [
        {
          "output_type": "error",
          "ename": "TypeError",
          "evalue": "ignored",
          "traceback": [
            "\u001b[0;31m---------------------------------------------------------------------------\u001b[0m",
            "\u001b[0;31mTypeError\u001b[0m                                 Traceback (most recent call last)",
            "\u001b[0;32m<ipython-input-27-16c4cba560f9>\u001b[0m in \u001b[0;36m<module>\u001b[0;34m\u001b[0m\n\u001b[0;32m----> 1\u001b[0;31m \u001b[0;34m'a'\u001b[0m\u001b[0;34m*\u001b[0m\u001b[0;34m'a'\u001b[0m\u001b[0;34m\u001b[0m\u001b[0;34m\u001b[0m\u001b[0m\n\u001b[0m",
            "\u001b[0;31mTypeError\u001b[0m: can't multiply sequence by non-int of type 'str'"
          ]
        }
      ]
    },
    {
      "cell_type": "code",
      "source": [
        "'4' < 3"
      ],
      "metadata": {
        "colab": {
          "base_uri": "https://localhost:8080/",
          "height": 173
        },
        "id": "gHz-zutkNMYU",
        "outputId": "309ee391-b71d-4eb0-9db8-055f1bd44e44"
      },
      "execution_count": 28,
      "outputs": [
        {
          "output_type": "error",
          "ename": "TypeError",
          "evalue": "ignored",
          "traceback": [
            "\u001b[0;31m---------------------------------------------------------------------------\u001b[0m",
            "\u001b[0;31mTypeError\u001b[0m                                 Traceback (most recent call last)",
            "\u001b[0;32m<ipython-input-28-e31106604891>\u001b[0m in \u001b[0;36m<module>\u001b[0;34m\u001b[0m\n\u001b[0;32m----> 1\u001b[0;31m \u001b[0;34m'4'\u001b[0m \u001b[0;34m<\u001b[0m \u001b[0;36m3\u001b[0m\u001b[0;34m\u001b[0m\u001b[0;34m\u001b[0m\u001b[0m\n\u001b[0m",
            "\u001b[0;31mTypeError\u001b[0m: '<' not supported between instances of 'str' and 'int'"
          ]
        }
      ]
    },
    {
      "cell_type": "code",
      "source": [
        "len('abc')"
      ],
      "metadata": {
        "colab": {
          "base_uri": "https://localhost:8080/"
        },
        "id": "y3kxoyd0Jcl_",
        "outputId": "c022c293-84e3-4668-924e-b3994e1beac5"
      },
      "execution_count": 29,
      "outputs": [
        {
          "output_type": "execute_result",
          "data": {
            "text/plain": [
              "3"
            ]
          },
          "metadata": {},
          "execution_count": 29
        }
      ]
    },
    {
      "cell_type": "code",
      "source": [
        "'abc'[0]"
      ],
      "metadata": {
        "colab": {
          "base_uri": "https://localhost:8080/",
          "height": 36
        },
        "id": "t9w5zsdLJfns",
        "outputId": "62fdfc84-f399-4c14-de5b-59d374d4008a"
      },
      "execution_count": 30,
      "outputs": [
        {
          "output_type": "execute_result",
          "data": {
            "text/plain": [
              "'a'"
            ],
            "application/vnd.google.colaboratory.intrinsic+json": {
              "type": "string"
            }
          },
          "metadata": {},
          "execution_count": 30
        }
      ]
    },
    {
      "cell_type": "code",
      "source": [
        "'abc'[3]"
      ],
      "metadata": {
        "colab": {
          "base_uri": "https://localhost:8080/",
          "height": 173
        },
        "id": "Wh502yBHJhOt",
        "outputId": "586ebdac-6552-4d55-e77d-407d1f4aef1f"
      },
      "execution_count": 31,
      "outputs": [
        {
          "output_type": "error",
          "ename": "IndexError",
          "evalue": "ignored",
          "traceback": [
            "\u001b[0;31m---------------------------------------------------------------------------\u001b[0m",
            "\u001b[0;31mIndexError\u001b[0m                                Traceback (most recent call last)",
            "\u001b[0;32m<ipython-input-31-6509258b4f38>\u001b[0m in \u001b[0;36m<module>\u001b[0;34m\u001b[0m\n\u001b[0;32m----> 1\u001b[0;31m \u001b[0;34m'abc'\u001b[0m\u001b[0;34m[\u001b[0m\u001b[0;36m3\u001b[0m\u001b[0;34m]\u001b[0m\u001b[0;34m\u001b[0m\u001b[0;34m\u001b[0m\u001b[0m\n\u001b[0m",
            "\u001b[0;31mIndexError\u001b[0m: string index out of range"
          ]
        }
      ]
    },
    {
      "cell_type": "code",
      "source": [
        "'abc'[-1]"
      ],
      "metadata": {
        "colab": {
          "base_uri": "https://localhost:8080/",
          "height": 36
        },
        "id": "5FE-6bkDJjPX",
        "outputId": "17851156-eebc-4c0d-f4d0-fd0558fa332c"
      },
      "execution_count": 32,
      "outputs": [
        {
          "output_type": "execute_result",
          "data": {
            "text/plain": [
              "'c'"
            ],
            "application/vnd.google.colaboratory.intrinsic+json": {
              "type": "string"
            }
          },
          "metadata": {},
          "execution_count": 32
        }
      ]
    },
    {
      "cell_type": "code",
      "source": [
        "'abc'[1:3]"
      ],
      "metadata": {
        "colab": {
          "base_uri": "https://localhost:8080/",
          "height": 36
        },
        "id": "rB5ryeaYJlZL",
        "outputId": "1b8d75b3-9515-4e9f-fc69-427dda8d3151"
      },
      "execution_count": 33,
      "outputs": [
        {
          "output_type": "execute_result",
          "data": {
            "text/plain": [
              "'bc'"
            ],
            "application/vnd.google.colaboratory.intrinsic+json": {
              "type": "string"
            }
          },
          "metadata": {},
          "execution_count": 33
        }
      ]
    },
    {
      "cell_type": "code",
      "source": [
        "'abc'[0:len('abc')]"
      ],
      "metadata": {
        "colab": {
          "base_uri": "https://localhost:8080/",
          "height": 36
        },
        "id": "-IjTdKLmLFPj",
        "outputId": "d1a0c068-ddf4-4c38-e625-1a75d7ecda17"
      },
      "execution_count": 34,
      "outputs": [
        {
          "output_type": "execute_result",
          "data": {
            "text/plain": [
              "'abc'"
            ],
            "application/vnd.google.colaboratory.intrinsic+json": {
              "type": "string"
            }
          },
          "metadata": {},
          "execution_count": 34
        }
      ]
    },
    {
      "cell_type": "code",
      "source": [
        "'abc'[:]"
      ],
      "metadata": {
        "colab": {
          "base_uri": "https://localhost:8080/",
          "height": 36
        },
        "id": "LXY5ryOfLHWj",
        "outputId": "a351daab-cffd-45dc-dec5-0349e6b0542e"
      },
      "execution_count": 35,
      "outputs": [
        {
          "output_type": "execute_result",
          "data": {
            "text/plain": [
              "'abc'"
            ],
            "application/vnd.google.colaboratory.intrinsic+json": {
              "type": "string"
            }
          },
          "metadata": {},
          "execution_count": 35
        }
      ]
    },
    {
      "cell_type": "code",
      "source": [
        "'123456789'[0:8:2]"
      ],
      "metadata": {
        "colab": {
          "base_uri": "https://localhost:8080/",
          "height": 36
        },
        "id": "k4NPVn3ZL9of",
        "outputId": "a471c705-a0e1-4a9c-88a2-89e46f5d374a"
      },
      "execution_count": 36,
      "outputs": [
        {
          "output_type": "execute_result",
          "data": {
            "text/plain": [
              "'1357'"
            ],
            "application/vnd.google.colaboratory.intrinsic+json": {
              "type": "string"
            }
          },
          "metadata": {},
          "execution_count": 36
        }
      ]
    },
    {
      "cell_type": "code",
      "source": [
        "num = 30000000\n",
        "fraction = 1/2\n",
        "print(num*fraction, '은', num, '의', fraction*100, '%', '입니다')\n",
        "print(str(num*fraction) + '은', str(num) + '의', str(fraction*100) + '%', '입니다')"
      ],
      "metadata": {
        "colab": {
          "base_uri": "https://localhost:8080/"
        },
        "id": "1tmktHrSL-kx",
        "outputId": "9b6882f2-060b-4be3-ff97-5325268efbad"
      },
      "execution_count": 39,
      "outputs": [
        {
          "output_type": "stream",
          "name": "stdout",
          "text": [
            "15000000.0 은 30000000 의 50.0 % 입니다\n",
            "15000000.0은 30000000의 50.0% 입니다\n"
          ]
        }
      ]
    },
    {
      "cell_type": "code",
      "source": [
        "print(str(int(num*fraction)) + '은', str(num) + '의', str(fraction*100) + '%', '입니다')"
      ],
      "metadata": {
        "colab": {
          "base_uri": "https://localhost:8080/"
        },
        "id": "Wt-uifOuM6LX",
        "outputId": "ae22b544-9366-463a-f0b6-08e708c35e2b"
      },
      "execution_count": 40,
      "outputs": [
        {
          "output_type": "stream",
          "name": "stdout",
          "text": [
            "15000000은 30000000의 50.0% 입니다\n"
          ]
        }
      ]
    },
    {
      "cell_type": "code",
      "source": [
        "print(f'{int(num*fraction)}은 {num}의 {fraction*100}% 입니다')"
      ],
      "metadata": {
        "colab": {
          "base_uri": "https://localhost:8080/"
        },
        "id": "F2b07gIQQt7a",
        "outputId": "6d129626-2fe3-4234-90de-3488d2c3d379"
      },
      "execution_count": 41,
      "outputs": [
        {
          "output_type": "stream",
          "name": "stdout",
          "text": [
            "15000000은 30000000의 50.0% 입니다\n"
          ]
        }
      ]
    },
    {
      "cell_type": "code",
      "source": [
        "print(f'{{{3*5}}}')"
      ],
      "metadata": {
        "colab": {
          "base_uri": "https://localhost:8080/"
        },
        "id": "Zv9b0ulXFZb9",
        "outputId": "77acd4d1-4ed3-4125-ba53-e41689ea9df2"
      },
      "execution_count": 50,
      "outputs": [
        {
          "output_type": "stream",
          "name": "stdout",
          "text": [
            "{15}\n"
          ]
        }
      ]
    },
    {
      "cell_type": "code",
      "source": [
        "f'{3.14159:.2f}'"
      ],
      "metadata": {
        "colab": {
          "base_uri": "https://localhost:8080/",
          "height": 36
        },
        "id": "6Pa_cYjFFkRy",
        "outputId": "1a2d56db-c294-4151-c0ee-7b380f92e3cf"
      },
      "execution_count": 52,
      "outputs": [
        {
          "output_type": "execute_result",
          "data": {
            "text/plain": [
              "'3.14'"
            ],
            "application/vnd.google.colaboratory.intrinsic+json": {
              "type": "string"
            }
          },
          "metadata": {},
          "execution_count": 52
        }
      ]
    },
    {
      "cell_type": "code",
      "source": [
        "print(f'{num*fraction:,.0f}은 {num:,}의 {fraction*100}% 입니다')"
      ],
      "metadata": {
        "colab": {
          "base_uri": "https://localhost:8080/"
        },
        "id": "78FD2z7kNvhS",
        "outputId": "37bdc900-3f7b-427f-8e28-93fdcb2e6dbb"
      },
      "execution_count": 51,
      "outputs": [
        {
          "output_type": "stream",
          "name": "stdout",
          "text": [
            "15,000,000은 30,000,000의 50.0% 입니다\n"
          ]
        }
      ]
    },
    {
      "cell_type": "markdown",
      "source": [
        "### 2.4.1 입력"
      ],
      "metadata": {
        "id": "tL9UpVg8XucL"
      }
    },
    {
      "cell_type": "code",
      "source": [
        "name = input('이름을 입력하세요: ')"
      ],
      "metadata": {
        "colab": {
          "base_uri": "https://localhost:8080/"
        },
        "id": "lV9LUmtQNv0c",
        "outputId": "d36b9b0e-bf4f-4dcf-a194-215b0f44a45a"
      },
      "execution_count": 54,
      "outputs": [
        {
          "name": "stdout",
          "output_type": "stream",
          "text": [
            "이름을 입력하세요: 조지 워싱톤\n"
          ]
        }
      ]
    },
    {
      "cell_type": "code",
      "source": [
        "print('정말 이름이', name, '인가요?')"
      ],
      "metadata": {
        "colab": {
          "base_uri": "https://localhost:8080/"
        },
        "id": "aRZV23AEPViu",
        "outputId": "ab2352f1-49a6-4d5f-da01-3f1554c781dc"
      },
      "execution_count": 55,
      "outputs": [
        {
          "output_type": "stream",
          "name": "stdout",
          "text": [
            "정말 이름이 조지 워싱톤 인가요?\n"
          ]
        }
      ]
    },
    {
      "cell_type": "code",
      "source": [
        "print('정말 이름이 ' + name + '인가요?')"
      ],
      "metadata": {
        "colab": {
          "base_uri": "https://localhost:8080/"
        },
        "id": "x2Cg6XwfBbPE",
        "outputId": "86222e91-80a1-4d1f-f688-f69c455860b8"
      },
      "execution_count": 56,
      "outputs": [
        {
          "output_type": "stream",
          "name": "stdout",
          "text": [
            "정말 이름이 조지 워싱톤인가요?\n"
          ]
        }
      ]
    },
    {
      "cell_type": "code",
      "source": [
        "print(f'정말 이름이 {name}인가요?')"
      ],
      "metadata": {
        "colab": {
          "base_uri": "https://localhost:8080/"
        },
        "id": "EM1gdShyCpRW",
        "outputId": "6281f8b3-b629-4045-a4f6-d7cb9bb921bd"
      },
      "execution_count": 57,
      "outputs": [
        {
          "output_type": "stream",
          "name": "stdout",
          "text": [
            "정말 이름이 조지 워싱톤인가요?\n"
          ]
        }
      ]
    },
    {
      "cell_type": "code",
      "source": [
        "n = input('정수를 입력하세요: ')\n",
        "print(type(n))"
      ],
      "metadata": {
        "colab": {
          "base_uri": "https://localhost:8080/"
        },
        "id": "-WOhPa1NCtHF",
        "outputId": "960f8cb9-4c69-4cde-9bb2-7acb48000459"
      },
      "execution_count": 59,
      "outputs": [
        {
          "output_type": "stream",
          "name": "stdout",
          "text": [
            "정수를 입력하세요: 3\n",
            "<class 'str'>\n"
          ]
        }
      ]
    },
    {
      "cell_type": "code",
      "source": [
        "n*4"
      ],
      "metadata": {
        "colab": {
          "base_uri": "https://localhost:8080/",
          "height": 36
        },
        "id": "8TB1a6-MDK0Q",
        "outputId": "fa2fe4a8-5ca7-4095-dd83-35ba694427fb"
      },
      "execution_count": 60,
      "outputs": [
        {
          "output_type": "execute_result",
          "data": {
            "text/plain": [
              "'3333'"
            ],
            "application/vnd.google.colaboratory.intrinsic+json": {
              "type": "string"
            }
          },
          "metadata": {},
          "execution_count": 60
        }
      ]
    },
    {
      "cell_type": "markdown",
      "source": [
        "**손가락 운동**"
      ],
      "metadata": {
        "id": "v-BDdJX9FCpf"
      }
    },
    {
      "cell_type": "code",
      "source": [
        "birthday = input('생년월일을 입력하세요(mm/dd/yyyy): ')\n",
        "print(f'당신은 {birthday[-4:]}년에 태어났습니다')"
      ],
      "metadata": {
        "colab": {
          "base_uri": "https://localhost:8080/"
        },
        "id": "HPnQ1AcOEMof",
        "outputId": "380a1cc9-f7d8-452b-f8e9-26093d20c48f"
      },
      "execution_count": 61,
      "outputs": [
        {
          "output_type": "stream",
          "name": "stdout",
          "text": [
            "생년월일을 입력하세요(mm/dd/yyyy): 08/08/1971\n",
            "당신은 1971년에 태어났습니다\n"
          ]
        }
      ]
    },
    {
      "cell_type": "markdown",
      "source": [
        "### 2.4.2 문자 인코딩에 대한 여담"
      ],
      "metadata": {
        "id": "hJEe2E39Xh4h"
      }
    },
    {
      "cell_type": "code",
      "source": [
        "print('Mluvíš anglicky?')\n",
        "print('क्या आप अंग्रेज़ी बोलते हैं?')"
      ],
      "metadata": {
        "colab": {
          "base_uri": "https://localhost:8080/"
        },
        "id": "ehRCyU04E74Y",
        "outputId": "f0f21c7f-bcdd-4f71-ad68-85a9c1ef2747"
      },
      "execution_count": 63,
      "outputs": [
        {
          "output_type": "stream",
          "name": "stdout",
          "text": [
            "Mluvíš anglicky?\n",
            "क्या आप अंग्रेज़ी बोलते हैं?\n"
          ]
        }
      ]
    },
    {
      "cell_type": "markdown",
      "source": [
        "2.5 while 루프"
      ],
      "metadata": {
        "id": "QMR1t5axXzSu"
      }
    },
    {
      "cell_type": "code",
      "source": [
        "num_x = int(input('문자 X를 몇 번이나 출력할까요? '))\n",
        "to_print = ''\n",
        "if num_x == 1:\n",
        "    to_print = 'X'\n",
        "elif num_x == 2:\n",
        "    to_print = 'XX'\n",
        "elif num_x == 3:\n",
        "    to_print = 'XXX'\n",
        "#...\n",
        "print(to_print)"
      ],
      "metadata": {
        "colab": {
          "base_uri": "https://localhost:8080/"
        },
        "id": "BgS0Dnhfa9gx",
        "outputId": "217d380b-c89e-4f23-f714-0fb5879422d0"
      },
      "execution_count": 64,
      "outputs": [
        {
          "output_type": "stream",
          "name": "stdout",
          "text": [
            "문자 X를 몇 번이나 출력할까요? 3\n",
            "XXX\n"
          ]
        }
      ]
    },
    {
      "cell_type": "code",
      "source": [
        "x = 3\n",
        "ans = 0\n",
        "num_iterations = 0\n",
        "while (x != num_iterations):\n",
        "    ans = ans + x\n",
        "    num_iterations = num_iterations + 1\n",
        "print(f'{x}*{x} = {ans}')"
      ],
      "metadata": {
        "colab": {
          "base_uri": "https://localhost:8080/"
        },
        "id": "JN8oVHS7a_TT",
        "outputId": "3e48479e-84a4-4b34-8cab-73cb6a2dc548"
      },
      "execution_count": 76,
      "outputs": [
        {
          "output_type": "stream",
          "name": "stdout",
          "text": [
            "3*3 = 9\n"
          ]
        }
      ]
    },
    {
      "cell_type": "code",
      "source": [
        "x = -3\n",
        "ans = 0\n",
        "num_iterations = 0\n",
        "while (abs(x) != num_iterations):\n",
        "    ans = ans + abs(x)\n",
        "    num_iterations = num_iterations + 1\n",
        "print(f'{x}*{x} = {ans}')"
      ],
      "metadata": {
        "colab": {
          "base_uri": "https://localhost:8080/"
        },
        "id": "-v418kBscPR8",
        "outputId": "43bf6657-45ca-477f-d704-8a17de357055"
      },
      "execution_count": 79,
      "outputs": [
        {
          "output_type": "stream",
          "name": "stdout",
          "text": [
            "-3*-3 = 9\n"
          ]
        }
      ]
    },
    {
      "cell_type": "markdown",
      "source": [
        "**손가락 운동**"
      ],
      "metadata": {
        "id": "c9xhOakomyQz"
      }
    },
    {
      "cell_type": "code",
      "source": [
        "num_x = int(input('문자 X를 몇 번이나 출력할까요? '))\n",
        "to_print = ''\n",
        "i = 0\n",
        "while (i < num_x):\n",
        "    to_print = to_print + 'X'\n",
        "    i = i + 1\n",
        "print(to_print)"
      ],
      "metadata": {
        "colab": {
          "base_uri": "https://localhost:8080/"
        },
        "id": "QwWBc1Etlfim",
        "outputId": "e3a58a0f-7746-4ac2-8901-e203011db8d4"
      },
      "execution_count": 84,
      "outputs": [
        {
          "output_type": "stream",
          "name": "stdout",
          "text": [
            "문자 X를 몇 번이나 출력할까요? 3\n",
            "XXX\n"
          ]
        }
      ]
    },
    {
      "cell_type": "code",
      "source": [
        "#11과 12로 나눌 수 있는 양의 정수 찾기\n",
        "x = 1\n",
        "while True:\n",
        "    if x%11 == 0 and x%12 == 0:\n",
        "        break\n",
        "    x = x + 1\n",
        "print(x, '는 11과 12로 나눌 수 있습니다')"
      ],
      "metadata": {
        "colab": {
          "base_uri": "https://localhost:8080/"
        },
        "id": "nduQ2rIHnY1i",
        "outputId": "f4b570d1-acbc-439f-ac6e-3c8e8e7e4057"
      },
      "execution_count": 85,
      "outputs": [
        {
          "output_type": "stream",
          "name": "stdout",
          "text": [
            "132 는 11과 12로 나눌 수 있습니다\n"
          ]
        }
      ]
    },
    {
      "cell_type": "markdown",
      "source": [
        "**손가락 운동**"
      ],
      "metadata": {
        "id": "tqjyMRwb3eeJ"
      }
    },
    {
      "cell_type": "code",
      "source": [],
      "metadata": {
        "id": "alpnlPUQnxi6"
      },
      "execution_count": null,
      "outputs": []
    }
  ]
}