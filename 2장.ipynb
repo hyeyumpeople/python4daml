{
  "nbformat": 4,
  "nbformat_minor": 0,
  "metadata": {
    "colab": {
      "provenance": [],
      "authorship_tag": "ABX9TyOH3eJAK9PUFN8d6mIqL0ja"
    },
    "kernelspec": {
      "name": "python3",
      "display_name": "Python 3"
    },
    "language_info": {
      "name": "python"
    }
  },
  "cells": [
    {
      "cell_type": "markdown",
      "source": [
        "<table align=\"left\"><tr><td>\n",
        "<a href=\"https://colab.research.google.com/github/rickiepark/python4daml/blob/main/2장.ipynb\" target=\"_parent\"><img src=\"https://colab.research.google.com/assets/colab-badge.svg\" alt=\"코랩에서 실행하기\"/></a>\n",
        "</td></tr></table>"
      ],
      "metadata": {
        "id": "_muEA3Y8uWEZ"
      }
    },
    {
      "cell_type": "markdown",
      "source": [
        "# 2장 파이썬 소개"
      ],
      "metadata": {
        "id": "_Xw8DhHUuREj"
      }
    },
    {
      "cell_type": "markdown",
      "source": [
        "## 2.1 파이썬과 파이썬 IDE 설치하기"
      ],
      "metadata": {
        "id": "Oyn8AYCZvVCv"
      }
    },
    {
      "cell_type": "markdown",
      "source": [
        "## 2.2 파이썬의 기본 요소"
      ],
      "metadata": {
        "id": "yEvU-qkWuKKu"
      }
    },
    {
      "cell_type": "code",
      "source": [
        "print('Yankees rule!')\n",
        "print('But not in Boston!')\n",
        "print('Yankees rule,', 'but not in Boston!')"
      ],
      "metadata": {
        "colab": {
          "base_uri": "https://localhost:8080/"
        },
        "id": "ukNL1NrQvdox",
        "outputId": "04dff84e-4bd4-40ae-8a3f-6b016763f2c6"
      },
      "execution_count": 1,
      "outputs": [
        {
          "output_type": "stream",
          "name": "stdout",
          "text": [
            "Yankees rule!\n",
            "But not in Boston!\n",
            "Yankees rule, but not in Boston!\n"
          ]
        }
      ]
    },
    {
      "cell_type": "markdown",
      "source": [
        "### 2.2.1 객체, 표현, 수치 타입"
      ],
      "metadata": {
        "id": "W5UOfjLLvgO-"
      }
    },
    {
      "cell_type": "code",
      "source": [
        "3"
      ],
      "metadata": {
        "colab": {
          "base_uri": "https://localhost:8080/"
        },
        "id": "vcDSAeiYvwBE",
        "outputId": "d26591d6-a7f8-4092-af5f-1d465264ad43"
      },
      "execution_count": 2,
      "outputs": [
        {
          "output_type": "execute_result",
          "data": {
            "text/plain": [
              "3"
            ]
          },
          "metadata": {},
          "execution_count": 2
        }
      ]
    },
    {
      "cell_type": "code",
      "source": [
        "3+2"
      ],
      "metadata": {
        "colab": {
          "base_uri": "https://localhost:8080/"
        },
        "id": "WLGVj9vPvw2J",
        "outputId": "8854e10a-0897-4795-beab-95a3f2146417"
      },
      "execution_count": 3,
      "outputs": [
        {
          "output_type": "execute_result",
          "data": {
            "text/plain": [
              "5"
            ]
          },
          "metadata": {},
          "execution_count": 3
        }
      ]
    },
    {
      "cell_type": "code",
      "source": [
        "3.0+2.0"
      ],
      "metadata": {
        "colab": {
          "base_uri": "https://localhost:8080/"
        },
        "id": "NNI-VjujvyDU",
        "outputId": "276399be-5955-454f-be6a-d4d60a6a4cce"
      },
      "execution_count": 4,
      "outputs": [
        {
          "output_type": "execute_result",
          "data": {
            "text/plain": [
              "5.0"
            ]
          },
          "metadata": {},
          "execution_count": 4
        }
      ]
    },
    {
      "cell_type": "code",
      "source": [
        "3!=2"
      ],
      "metadata": {
        "colab": {
          "base_uri": "https://localhost:8080/"
        },
        "id": "43Uxj17Cv0iD",
        "outputId": "67b23cb1-949b-4b4e-a180-3510de8a3e8d"
      },
      "execution_count": 5,
      "outputs": [
        {
          "output_type": "execute_result",
          "data": {
            "text/plain": [
              "True"
            ]
          },
          "metadata": {},
          "execution_count": 5
        }
      ]
    },
    {
      "cell_type": "code",
      "source": [
        "type(3)"
      ],
      "metadata": {
        "colab": {
          "base_uri": "https://localhost:8080/"
        },
        "id": "yH_2gPcmv1jy",
        "outputId": "da10c323-6d5f-40cd-f812-8d879d026d54"
      },
      "execution_count": 6,
      "outputs": [
        {
          "output_type": "execute_result",
          "data": {
            "text/plain": [
              "int"
            ]
          },
          "metadata": {},
          "execution_count": 6
        }
      ]
    },
    {
      "cell_type": "code",
      "source": [
        "type(3.0)"
      ],
      "metadata": {
        "colab": {
          "base_uri": "https://localhost:8080/"
        },
        "id": "V48B5uo1v3Ko",
        "outputId": "2727d862-2822-419b-b3d0-f795abc3d0f2"
      },
      "execution_count": 7,
      "outputs": [
        {
          "output_type": "execute_result",
          "data": {
            "text/plain": [
              "float"
            ]
          },
          "metadata": {},
          "execution_count": 7
        }
      ]
    },
    {
      "cell_type": "markdown",
      "source": [
        "### 2.2.2 변수와 할당"
      ],
      "metadata": {
        "id": "vdw5VMGdv4jC"
      }
    },
    {
      "cell_type": "code",
      "source": [
        "pi = 3\n",
        "radius = 11\n",
        "area = pi * (radius**2)\n",
        "radius = 14"
      ],
      "metadata": {
        "id": "9TsuVI5AwAKe"
      },
      "execution_count": 8,
      "outputs": []
    },
    {
      "cell_type": "code",
      "source": [
        "a = 3.14159\n",
        "b = 11.2\n",
        "c = a*(b**2)"
      ],
      "metadata": {
        "id": "M3BHZUUJN2WK"
      },
      "execution_count": 9,
      "outputs": []
    },
    {
      "cell_type": "code",
      "source": [
        "pi = 3.14159\n",
        "diameter = 11.2\n",
        "area = pi*(diameter**2)"
      ],
      "metadata": {
        "id": "OqD45sOiN37a"
      },
      "execution_count": 10,
      "outputs": []
    },
    {
      "cell_type": "code",
      "source": [
        "import keyword\n",
        "print(keyword.kwlist)"
      ],
      "metadata": {
        "colab": {
          "base_uri": "https://localhost:8080/"
        },
        "id": "jfW8mnJTwCC5",
        "outputId": "7fe5c94c-149e-4c51-ba4a-74c0a0f3b82a"
      },
      "execution_count": 11,
      "outputs": [
        {
          "output_type": "stream",
          "name": "stdout",
          "text": [
            "['False', 'None', 'True', 'and', 'as', 'assert', 'async', 'await', 'break', 'class', 'continue', 'def', 'del', 'elif', 'else', 'except', 'finally', 'for', 'from', 'global', 'if', 'import', 'in', 'is', 'lambda', 'nonlocal', 'not', 'or', 'pass', 'raise', 'return', 'try', 'while', 'with', 'yield']\n"
          ]
        }
      ]
    },
    {
      "cell_type": "code",
      "source": [
        "side = 1 #단위 정사각형에서 한 변 길이\n",
        "radius = 1 #단위 원의 반지름\n",
        "#단위 정사각형의 면서에서 단위 원의 면적을 뺍니다\n",
        "area_circle = pi*radius**2\n",
        "area_square = side*side\n",
        "difference = area_square - area_circle"
      ],
      "metadata": {
        "id": "SLwr2Wp4wNzw"
      },
      "execution_count": 12,
      "outputs": []
    },
    {
      "cell_type": "code",
      "source": [
        "x, y = 2, 3"
      ],
      "metadata": {
        "id": "VQh1RLpwwWCC"
      },
      "execution_count": 13,
      "outputs": []
    },
    {
      "cell_type": "code",
      "source": [
        "x, y = 2, 3\n",
        "x, y = y, x\n",
        "print('x =', x)\n",
        "print('y =', y)"
      ],
      "metadata": {
        "colab": {
          "base_uri": "https://localhost:8080/"
        },
        "id": "TdzW6tWcwauq",
        "outputId": "13912e8d-73d9-496f-ee06-d04e628af60b"
      },
      "execution_count": 14,
      "outputs": [
        {
          "output_type": "stream",
          "name": "stdout",
          "text": [
            "x = 3\n",
            "y = 2\n"
          ]
        }
      ]
    },
    {
      "cell_type": "markdown",
      "source": [
        "## 2.3 프로그램 분기"
      ],
      "metadata": {
        "id": "ghYOm9VhwcJr"
      }
    },
    {
      "cell_type": "code",
      "source": [
        "if x%2 == 0:\n",
        "    print('짝수')\n",
        "else:\n",
        "    print('홀수')\n",
        "print('조건문 종료')"
      ],
      "metadata": {
        "colab": {
          "base_uri": "https://localhost:8080/"
        },
        "id": "1R0JVIkPwllf",
        "outputId": "4908045c-4072-4941-f057-cade6cbb2bc5"
      },
      "execution_count": 15,
      "outputs": [
        {
          "output_type": "stream",
          "name": "stdout",
          "text": [
            "홀수\n",
            "조건문 종료\n"
          ]
        }
      ]
    },
    {
      "cell_type": "code",
      "source": [
        "x = 1111111111111111111111111111111 + 222222222222333222222222 +\\\n",
        "3333333333333333333333333333333"
      ],
      "metadata": {
        "id": "8-jcPhftwmIS"
      },
      "execution_count": 16,
      "outputs": []
    },
    {
      "cell_type": "code",
      "source": [
        "x = 1111111111111111111111111111111 + 222222222222333222222222 +\n",
        "3333333333333333333333333333333"
      ],
      "metadata": {
        "colab": {
          "base_uri": "https://localhost:8080/",
          "height": 137
        },
        "id": "k-g6Emyd1VS7",
        "outputId": "fa725ed0-1e2b-45a6-db0c-64b94fd8a95b"
      },
      "execution_count": 17,
      "outputs": [
        {
          "output_type": "error",
          "ename": "SyntaxError",
          "evalue": "ignored",
          "traceback": [
            "\u001b[0;36m  File \u001b[0;32m\"<ipython-input-17-1238a62ea081>\"\u001b[0;36m, line \u001b[0;32m1\u001b[0m\n\u001b[0;31m    x = 1111111111111111111111111111111 + 222222222222333222222222 +\u001b[0m\n\u001b[0m                                                                    ^\u001b[0m\n\u001b[0;31mSyntaxError\u001b[0m\u001b[0;31m:\u001b[0m invalid syntax\n"
          ]
        }
      ]
    },
    {
      "cell_type": "code",
      "source": [
        "x = (1111111111111111111111111111111 + 222222222222333222222222 +\n",
        "3333333333333333333333333333333)"
      ],
      "metadata": {
        "id": "7IDGTnGI1Yny"
      },
      "execution_count": 18,
      "outputs": []
    },
    {
      "cell_type": "code",
      "source": [
        "if x%2 == 0:\n",
        "    if x%3 == 0:\n",
        "        print('2와 3으로 나누어 떨어집니다')\n",
        "    else:\n",
        "        print('2로 나누어 떨어지지만 3으로 나누어 떨어지지 않습니다')\n",
        "elif x%3 == 0:\n",
        "    print('3으로 나누어 떨어지지만 2로 나누어 떨어지지 않습니다')"
      ],
      "metadata": {
        "colab": {
          "base_uri": "https://localhost:8080/"
        },
        "id": "n5tV3Gl3YaYl",
        "outputId": "99094776-be46-4dee-9cb1-43d42f87f57f"
      },
      "execution_count": 19,
      "outputs": [
        {
          "output_type": "stream",
          "name": "stdout",
          "text": [
            "2로 나누어 떨어지지만 3으로 나누어 떨어지지 않습니다\n"
          ]
        }
      ]
    },
    {
      "cell_type": "code",
      "source": [
        "x = 1\n",
        "y = 2\n",
        "z = 3\n",
        "\n",
        "if x < y and x < z:\n",
        "    print('x가 가장 작습니다')\n",
        "elif y < z:\n",
        "    print('y가 가장 작습니다')\n",
        "else:\n",
        "    print('z가 가장 작습니다')"
      ],
      "metadata": {
        "colab": {
          "base_uri": "https://localhost:8080/"
        },
        "id": "h-3boiQ8Yc5D",
        "outputId": "aeec571b-4a20-4c65-88c2-aafe827030f9"
      },
      "execution_count": 20,
      "outputs": [
        {
          "output_type": "stream",
          "name": "stdout",
          "text": [
            "x가 가장 작습니다\n"
          ]
        }
      ]
    },
    {
      "cell_type": "markdown",
      "source": [
        "#### 손가락 운동"
      ],
      "metadata": {
        "id": "8k1i81jsaKSw"
      }
    },
    {
      "cell_type": "code",
      "source": [
        "if x%2 != 0 and y%2 != 0 and z%2 != 0:\n",
        "    print(max(x, y, z))\n",
        "if x%2 != 0 and y%2 != 0 and z%2 == 0:\n",
        "    print(max(x, y))\n",
        "if x%2 != 0 and y%2 == 0 and z%2 != 0:\n",
        "    print(max(x, z))\n",
        "if x%2 == 0 and y%2 != 0 and z%2 != 0:\n",
        "    print(max(y, z))\n",
        "if x%2 != 0 and y%2 == 0 and z%2 == 0:\n",
        "    print(x)\n",
        "if x%2 == 0 and y%2 != 0 and z%2 == 0:\n",
        "    print(y)\n",
        "if x%2 == 0 and y%2 == 0 and z%2 != 0:\n",
        "    print(z)\n",
        "if x%2 == 0 and y%2 == 0 and z%2 == 0:\n",
        "    print(min(x, y, z))"
      ],
      "metadata": {
        "colab": {
          "base_uri": "https://localhost:8080/"
        },
        "id": "YJkXW0I81LGs",
        "outputId": "103bdb98-9030-40aa-f39c-27acf1210621"
      },
      "execution_count": 21,
      "outputs": [
        {
          "output_type": "stream",
          "name": "stdout",
          "text": [
            "3\n"
          ]
        }
      ]
    },
    {
      "cell_type": "code",
      "source": [
        "answer = min(x, y, z)\n",
        "if x%2 != 0:\n",
        "    answer = x\n",
        "if y%2 != 0 and y > answer:\n",
        "    answer = y\n",
        "if z%2 != 0 and z > answer:\n",
        "    answer = z\n",
        "print(answer)"
      ],
      "metadata": {
        "colab": {
          "base_uri": "https://localhost:8080/"
        },
        "id": "ItnCSegO346g",
        "outputId": "be1e974c-f54a-41a2-a954-e686df019220"
      },
      "execution_count": 22,
      "outputs": [
        {
          "output_type": "stream",
          "name": "stdout",
          "text": [
            "3\n"
          ]
        }
      ]
    },
    {
      "cell_type": "code",
      "source": [
        "x = y if y > z else z"
      ],
      "metadata": {
        "id": "Aha1fhCK3_Mt"
      },
      "execution_count": 23,
      "outputs": []
    },
    {
      "cell_type": "code",
      "source": [
        "print((x if x > z else z) if x > y else (y if y > z else z))"
      ],
      "metadata": {
        "colab": {
          "base_uri": "https://localhost:8080/"
        },
        "id": "4u_cSNWCXeU8",
        "outputId": "0fcb8178-b439-43c9-c57b-8c2320aea6eb"
      },
      "execution_count": 24,
      "outputs": [
        {
          "output_type": "stream",
          "name": "stdout",
          "text": [
            "3\n"
          ]
        }
      ]
    },
    {
      "cell_type": "markdown",
      "source": [
        "## 2.4 문자열과 입력"
      ],
      "metadata": {
        "id": "dEGplEPiXgGV"
      }
    },
    {
      "cell_type": "code",
      "source": [
        "'a'\n",
        "3*4\n",
        "3*'a'\n",
        "3+4\n",
        "'a'+'a'"
      ],
      "metadata": {
        "id": "d0iN-lWfk1Tn",
        "outputId": "9852d0ab-42c8-4a94-bebe-c15ab417b90f",
        "colab": {
          "base_uri": "https://localhost:8080/",
          "height": 36
        }
      },
      "execution_count": 25,
      "outputs": [
        {
          "output_type": "execute_result",
          "data": {
            "text/plain": [
              "'aa'"
            ],
            "application/vnd.google.colaboratory.intrinsic+json": {
              "type": "string"
            }
          },
          "metadata": {},
          "execution_count": 25
        }
      ]
    },
    {
      "cell_type": "code",
      "source": [
        "new_id"
      ],
      "metadata": {
        "id": "ZEFTIm-Sk13Z",
        "outputId": "67afd37a-2d9f-464e-eab9-b0060c0791ce",
        "colab": {
          "base_uri": "https://localhost:8080/",
          "height": 173
        }
      },
      "execution_count": 26,
      "outputs": [
        {
          "output_type": "error",
          "ename": "NameError",
          "evalue": "ignored",
          "traceback": [
            "\u001b[0;31m---------------------------------------------------------------------------\u001b[0m",
            "\u001b[0;31mNameError\u001b[0m                                 Traceback (most recent call last)",
            "\u001b[0;32m<ipython-input-26-fcb9bb302ff9>\u001b[0m in \u001b[0;36m<module>\u001b[0;34m\u001b[0m\n\u001b[0;32m----> 1\u001b[0;31m \u001b[0mnew_id\u001b[0m\u001b[0;34m\u001b[0m\u001b[0;34m\u001b[0m\u001b[0m\n\u001b[0m",
            "\u001b[0;31mNameError\u001b[0m: name 'new_id' is not defined"
          ]
        }
      ]
    },
    {
      "cell_type": "code",
      "source": [
        "'a'*'a'"
      ],
      "metadata": {
        "id": "NMt3MfqqNLAc",
        "outputId": "b2c56d04-765c-464b-e02b-e5b2085f5170",
        "colab": {
          "base_uri": "https://localhost:8080/",
          "height": 173
        }
      },
      "execution_count": 27,
      "outputs": [
        {
          "output_type": "error",
          "ename": "TypeError",
          "evalue": "ignored",
          "traceback": [
            "\u001b[0;31m---------------------------------------------------------------------------\u001b[0m",
            "\u001b[0;31mTypeError\u001b[0m                                 Traceback (most recent call last)",
            "\u001b[0;32m<ipython-input-27-16c4cba560f9>\u001b[0m in \u001b[0;36m<module>\u001b[0;34m\u001b[0m\n\u001b[0;32m----> 1\u001b[0;31m \u001b[0;34m'a'\u001b[0m\u001b[0;34m*\u001b[0m\u001b[0;34m'a'\u001b[0m\u001b[0;34m\u001b[0m\u001b[0;34m\u001b[0m\u001b[0m\n\u001b[0m",
            "\u001b[0;31mTypeError\u001b[0m: can't multiply sequence by non-int of type 'str'"
          ]
        }
      ]
    },
    {
      "cell_type": "code",
      "source": [
        "'4' < 3"
      ],
      "metadata": {
        "id": "gHz-zutkNMYU",
        "outputId": "309ee391-b71d-4eb0-9db8-055f1bd44e44",
        "colab": {
          "base_uri": "https://localhost:8080/",
          "height": 173
        }
      },
      "execution_count": 28,
      "outputs": [
        {
          "output_type": "error",
          "ename": "TypeError",
          "evalue": "ignored",
          "traceback": [
            "\u001b[0;31m---------------------------------------------------------------------------\u001b[0m",
            "\u001b[0;31mTypeError\u001b[0m                                 Traceback (most recent call last)",
            "\u001b[0;32m<ipython-input-28-e31106604891>\u001b[0m in \u001b[0;36m<module>\u001b[0;34m\u001b[0m\n\u001b[0;32m----> 1\u001b[0;31m \u001b[0;34m'4'\u001b[0m \u001b[0;34m<\u001b[0m \u001b[0;36m3\u001b[0m\u001b[0;34m\u001b[0m\u001b[0;34m\u001b[0m\u001b[0m\n\u001b[0m",
            "\u001b[0;31mTypeError\u001b[0m: '<' not supported between instances of 'str' and 'int'"
          ]
        }
      ]
    },
    {
      "cell_type": "code",
      "source": [
        "len('abc')"
      ],
      "metadata": {
        "id": "y3kxoyd0Jcl_",
        "outputId": "c022c293-84e3-4668-924e-b3994e1beac5",
        "colab": {
          "base_uri": "https://localhost:8080/"
        }
      },
      "execution_count": 29,
      "outputs": [
        {
          "output_type": "execute_result",
          "data": {
            "text/plain": [
              "3"
            ]
          },
          "metadata": {},
          "execution_count": 29
        }
      ]
    },
    {
      "cell_type": "code",
      "source": [
        "'abc'[0]"
      ],
      "metadata": {
        "id": "t9w5zsdLJfns",
        "outputId": "62fdfc84-f399-4c14-de5b-59d374d4008a",
        "colab": {
          "base_uri": "https://localhost:8080/",
          "height": 36
        }
      },
      "execution_count": 30,
      "outputs": [
        {
          "output_type": "execute_result",
          "data": {
            "text/plain": [
              "'a'"
            ],
            "application/vnd.google.colaboratory.intrinsic+json": {
              "type": "string"
            }
          },
          "metadata": {},
          "execution_count": 30
        }
      ]
    },
    {
      "cell_type": "code",
      "source": [
        "'abc'[3]"
      ],
      "metadata": {
        "id": "Wh502yBHJhOt",
        "outputId": "586ebdac-6552-4d55-e77d-407d1f4aef1f",
        "colab": {
          "base_uri": "https://localhost:8080/",
          "height": 173
        }
      },
      "execution_count": 31,
      "outputs": [
        {
          "output_type": "error",
          "ename": "IndexError",
          "evalue": "ignored",
          "traceback": [
            "\u001b[0;31m---------------------------------------------------------------------------\u001b[0m",
            "\u001b[0;31mIndexError\u001b[0m                                Traceback (most recent call last)",
            "\u001b[0;32m<ipython-input-31-6509258b4f38>\u001b[0m in \u001b[0;36m<module>\u001b[0;34m\u001b[0m\n\u001b[0;32m----> 1\u001b[0;31m \u001b[0;34m'abc'\u001b[0m\u001b[0;34m[\u001b[0m\u001b[0;36m3\u001b[0m\u001b[0;34m]\u001b[0m\u001b[0;34m\u001b[0m\u001b[0;34m\u001b[0m\u001b[0m\n\u001b[0m",
            "\u001b[0;31mIndexError\u001b[0m: string index out of range"
          ]
        }
      ]
    },
    {
      "cell_type": "code",
      "source": [
        "'abc'[-1]"
      ],
      "metadata": {
        "id": "5FE-6bkDJjPX",
        "outputId": "17851156-eebc-4c0d-f4d0-fd0558fa332c",
        "colab": {
          "base_uri": "https://localhost:8080/",
          "height": 36
        }
      },
      "execution_count": 32,
      "outputs": [
        {
          "output_type": "execute_result",
          "data": {
            "text/plain": [
              "'c'"
            ],
            "application/vnd.google.colaboratory.intrinsic+json": {
              "type": "string"
            }
          },
          "metadata": {},
          "execution_count": 32
        }
      ]
    },
    {
      "cell_type": "code",
      "source": [
        "'abc'[1:3]"
      ],
      "metadata": {
        "id": "rB5ryeaYJlZL",
        "outputId": "1b8d75b3-9515-4e9f-fc69-427dda8d3151",
        "colab": {
          "base_uri": "https://localhost:8080/",
          "height": 36
        }
      },
      "execution_count": 33,
      "outputs": [
        {
          "output_type": "execute_result",
          "data": {
            "text/plain": [
              "'bc'"
            ],
            "application/vnd.google.colaboratory.intrinsic+json": {
              "type": "string"
            }
          },
          "metadata": {},
          "execution_count": 33
        }
      ]
    },
    {
      "cell_type": "code",
      "source": [
        "'abc'[0:len('abc')]"
      ],
      "metadata": {
        "id": "-IjTdKLmLFPj",
        "outputId": "d1a0c068-ddf4-4c38-e625-1a75d7ecda17",
        "colab": {
          "base_uri": "https://localhost:8080/",
          "height": 36
        }
      },
      "execution_count": 34,
      "outputs": [
        {
          "output_type": "execute_result",
          "data": {
            "text/plain": [
              "'abc'"
            ],
            "application/vnd.google.colaboratory.intrinsic+json": {
              "type": "string"
            }
          },
          "metadata": {},
          "execution_count": 34
        }
      ]
    },
    {
      "cell_type": "code",
      "source": [
        "'abc'[:]"
      ],
      "metadata": {
        "id": "LXY5ryOfLHWj",
        "outputId": "a351daab-cffd-45dc-dec5-0349e6b0542e",
        "colab": {
          "base_uri": "https://localhost:8080/",
          "height": 36
        }
      },
      "execution_count": 35,
      "outputs": [
        {
          "output_type": "execute_result",
          "data": {
            "text/plain": [
              "'abc'"
            ],
            "application/vnd.google.colaboratory.intrinsic+json": {
              "type": "string"
            }
          },
          "metadata": {},
          "execution_count": 35
        }
      ]
    },
    {
      "cell_type": "code",
      "source": [
        "'123456789'[0:8:2]"
      ],
      "metadata": {
        "id": "k4NPVn3ZL9of",
        "outputId": "a471c705-a0e1-4a9c-88a2-89e46f5d374a",
        "colab": {
          "base_uri": "https://localhost:8080/",
          "height": 36
        }
      },
      "execution_count": 36,
      "outputs": [
        {
          "output_type": "execute_result",
          "data": {
            "text/plain": [
              "'1357'"
            ],
            "application/vnd.google.colaboratory.intrinsic+json": {
              "type": "string"
            }
          },
          "metadata": {},
          "execution_count": 36
        }
      ]
    },
    {
      "cell_type": "code",
      "source": [
        "num = 30000000\n",
        "fraction = 1/2\n",
        "print(num*fraction, '은', num, '의', fraction*100, '%', '입니다')\n",
        "print(str(num*fraction) + '은', str(num) + '의', str(fraction*100) + '%', '입니다')"
      ],
      "metadata": {
        "id": "1tmktHrSL-kx",
        "outputId": "9b6882f2-060b-4be3-ff97-5325268efbad",
        "colab": {
          "base_uri": "https://localhost:8080/"
        }
      },
      "execution_count": 39,
      "outputs": [
        {
          "output_type": "stream",
          "name": "stdout",
          "text": [
            "15000000.0 은 30000000 의 50.0 % 입니다\n",
            "15000000.0은 30000000의 50.0% 입니다\n"
          ]
        }
      ]
    },
    {
      "cell_type": "code",
      "source": [
        "print(str(int(num*fraction)) + '은', str(num) + '의', str(fraction*100) + '%', '입니다')"
      ],
      "metadata": {
        "id": "Wt-uifOuM6LX",
        "outputId": "ae22b544-9366-463a-f0b6-08e708c35e2b",
        "colab": {
          "base_uri": "https://localhost:8080/"
        }
      },
      "execution_count": 40,
      "outputs": [
        {
          "output_type": "stream",
          "name": "stdout",
          "text": [
            "15000000은 30000000의 50.0% 입니다\n"
          ]
        }
      ]
    },
    {
      "cell_type": "code",
      "source": [
        "print(f'{int(num*fraction)}은 {num}의 {fraction*100}% 입니다')"
      ],
      "metadata": {
        "id": "F2b07gIQQt7a",
        "outputId": "6d129626-2fe3-4234-90de-3488d2c3d379",
        "colab": {
          "base_uri": "https://localhost:8080/"
        }
      },
      "execution_count": 41,
      "outputs": [
        {
          "output_type": "stream",
          "name": "stdout",
          "text": [
            "15000000은 30000000의 50.0% 입니다\n"
          ]
        }
      ]
    },
    {
      "cell_type": "code",
      "source": [
        "print(f'{{{3*5}}}')"
      ],
      "metadata": {
        "id": "Zv9b0ulXFZb9",
        "outputId": "77acd4d1-4ed3-4125-ba53-e41689ea9df2",
        "colab": {
          "base_uri": "https://localhost:8080/"
        }
      },
      "execution_count": 50,
      "outputs": [
        {
          "output_type": "stream",
          "name": "stdout",
          "text": [
            "{15}\n"
          ]
        }
      ]
    },
    {
      "cell_type": "code",
      "source": [
        "f'{3.14159:.2f}'"
      ],
      "metadata": {
        "id": "6Pa_cYjFFkRy",
        "outputId": "1a2d56db-c294-4151-c0ee-7b380f92e3cf",
        "colab": {
          "base_uri": "https://localhost:8080/",
          "height": 36
        }
      },
      "execution_count": 52,
      "outputs": [
        {
          "output_type": "execute_result",
          "data": {
            "text/plain": [
              "'3.14'"
            ],
            "application/vnd.google.colaboratory.intrinsic+json": {
              "type": "string"
            }
          },
          "metadata": {},
          "execution_count": 52
        }
      ]
    },
    {
      "cell_type": "code",
      "source": [
        "print(f'{num*fraction:,.0f}은 {num:,}의 {fraction*100}% 입니다')"
      ],
      "metadata": {
        "id": "78FD2z7kNvhS",
        "outputId": "37bdc900-3f7b-427f-8e28-93fdcb2e6dbb",
        "colab": {
          "base_uri": "https://localhost:8080/"
        }
      },
      "execution_count": 51,
      "outputs": [
        {
          "output_type": "stream",
          "name": "stdout",
          "text": [
            "15,000,000은 30,000,000의 50.0% 입니다\n"
          ]
        }
      ]
    },
    {
      "cell_type": "code",
      "source": [
        "name = input('이름을 입력하세요: ')"
      ],
      "metadata": {
        "id": "lV9LUmtQNv0c",
        "outputId": "d36b9b0e-bf4f-4dcf-a194-215b0f44a45a",
        "colab": {
          "base_uri": "https://localhost:8080/"
        }
      },
      "execution_count": 54,
      "outputs": [
        {
          "name": "stdout",
          "output_type": "stream",
          "text": [
            "이름을 입력하세요: 조지 워싱톤\n"
          ]
        }
      ]
    },
    {
      "cell_type": "code",
      "source": [
        "print('정말 이름이', name, '인가요?')"
      ],
      "metadata": {
        "id": "aRZV23AEPViu",
        "outputId": "ab2352f1-49a6-4d5f-da01-3f1554c781dc",
        "colab": {
          "base_uri": "https://localhost:8080/"
        }
      },
      "execution_count": 55,
      "outputs": [
        {
          "output_type": "stream",
          "name": "stdout",
          "text": [
            "정말 이름이 조지 워싱톤 인가요?\n"
          ]
        }
      ]
    },
    {
      "cell_type": "code",
      "source": [
        "print('정말 이름이 ' + name + '인가요?')"
      ],
      "metadata": {
        "id": "x2Cg6XwfBbPE",
        "outputId": "86222e91-80a1-4d1f-f688-f69c455860b8",
        "colab": {
          "base_uri": "https://localhost:8080/"
        }
      },
      "execution_count": 56,
      "outputs": [
        {
          "output_type": "stream",
          "name": "stdout",
          "text": [
            "정말 이름이 조지 워싱톤인가요?\n"
          ]
        }
      ]
    },
    {
      "cell_type": "code",
      "source": [
        "print(f'정말 이름이 {name}인가요?')"
      ],
      "metadata": {
        "id": "EM1gdShyCpRW",
        "outputId": "6281f8b3-b629-4045-a4f6-d7cb9bb921bd",
        "colab": {
          "base_uri": "https://localhost:8080/"
        }
      },
      "execution_count": 57,
      "outputs": [
        {
          "output_type": "stream",
          "name": "stdout",
          "text": [
            "정말 이름이 조지 워싱톤인가요?\n"
          ]
        }
      ]
    },
    {
      "cell_type": "code",
      "source": [
        "n = input('정수를 입력하세요: ')\n",
        "print(type(n))"
      ],
      "metadata": {
        "id": "-WOhPa1NCtHF",
        "outputId": "960f8cb9-4c69-4cde-9bb2-7acb48000459",
        "colab": {
          "base_uri": "https://localhost:8080/"
        }
      },
      "execution_count": 59,
      "outputs": [
        {
          "output_type": "stream",
          "name": "stdout",
          "text": [
            "정수를 입력하세요: 3\n",
            "<class 'str'>\n"
          ]
        }
      ]
    },
    {
      "cell_type": "code",
      "source": [
        "n*4"
      ],
      "metadata": {
        "id": "8TB1a6-MDK0Q",
        "outputId": "fa2fe4a8-5ca7-4095-dd83-35ba694427fb",
        "colab": {
          "base_uri": "https://localhost:8080/",
          "height": 36
        }
      },
      "execution_count": 60,
      "outputs": [
        {
          "output_type": "execute_result",
          "data": {
            "text/plain": [
              "'3333'"
            ],
            "application/vnd.google.colaboratory.intrinsic+json": {
              "type": "string"
            }
          },
          "metadata": {},
          "execution_count": 60
        }
      ]
    },
    {
      "cell_type": "markdown",
      "source": [
        "#### 손가락 운동"
      ],
      "metadata": {
        "id": "v-BDdJX9FCpf"
      }
    },
    {
      "cell_type": "code",
      "source": [
        "birthday = input('생년월일을 입력하세요(mm/dd/yyyy): ')\n",
        "print(f'당신은 {birthday[-4:]}년에 태어났습니다')"
      ],
      "metadata": {
        "id": "HPnQ1AcOEMof",
        "outputId": "380a1cc9-f7d8-452b-f8e9-26093d20c48f",
        "colab": {
          "base_uri": "https://localhost:8080/"
        }
      },
      "execution_count": 61,
      "outputs": [
        {
          "output_type": "stream",
          "name": "stdout",
          "text": [
            "생년월일을 입력하세요(mm/dd/yyyy): 08/08/1971\n",
            "당신은 1971년에 태어났습니다\n"
          ]
        }
      ]
    },
    {
      "cell_type": "code",
      "source": [],
      "metadata": {
        "id": "ehRCyU04E74Y"
      },
      "execution_count": 61,
      "outputs": []
    }
  ]
}