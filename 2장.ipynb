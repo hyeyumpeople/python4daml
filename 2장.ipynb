{
  "nbformat": 4,
  "nbformat_minor": 0,
  "metadata": {
    "colab": {
      "provenance": [],
      "authorship_tag": "ABX9TyOfSf66S0Ra3fcmZRePneZh"
    },
    "kernelspec": {
      "name": "python3",
      "display_name": "Python 3"
    },
    "language_info": {
      "name": "python"
    }
  },
  "cells": [
    {
      "cell_type": "markdown",
      "source": [
        "<table align=\"left\"><tr><td>\n",
        "<a href=\"https://colab.research.google.com/github/rickiepark/python4daml/blob/main/2장.ipynb\" target=\"_parent\"><img src=\"https://colab.research.google.com/assets/colab-badge.svg\" alt=\"코랩에서 실행하기\"/></a>\n",
        "</td></tr></table>"
      ],
      "metadata": {
        "id": "_muEA3Y8uWEZ"
      }
    },
    {
      "cell_type": "markdown",
      "source": [
        "# 2장 파이썬 소개"
      ],
      "metadata": {
        "id": "_Xw8DhHUuREj"
      }
    },
    {
      "cell_type": "markdown",
      "source": [
        "## 2.1 파이썬과 파이썬 IDE 설치하기"
      ],
      "metadata": {
        "id": "Oyn8AYCZvVCv"
      }
    },
    {
      "cell_type": "markdown",
      "source": [
        "## 2.2 파이썬의 기본 요소"
      ],
      "metadata": {
        "id": "yEvU-qkWuKKu"
      }
    },
    {
      "cell_type": "code",
      "source": [
        "print('Yankees rule!')\n",
        "print('But not in Boston!')\n",
        "print('Yankees rule,', 'but not in Boston!')"
      ],
      "metadata": {
        "colab": {
          "base_uri": "https://localhost:8080/"
        },
        "id": "ukNL1NrQvdox",
        "outputId": "6246a35c-61f0-43b2-9b9e-41bf68d7ed85"
      },
      "execution_count": 3,
      "outputs": [
        {
          "output_type": "stream",
          "name": "stdout",
          "text": [
            "Yankees rule!\n",
            "But not in Boston!\n",
            "Yankees rule, but not in Boston!\n"
          ]
        }
      ]
    },
    {
      "cell_type": "markdown",
      "source": [
        "### 2.2.1 객체, 표현, 수치 타입"
      ],
      "metadata": {
        "id": "W5UOfjLLvgO-"
      }
    },
    {
      "cell_type": "code",
      "source": [
        "3"
      ],
      "metadata": {
        "colab": {
          "base_uri": "https://localhost:8080/"
        },
        "id": "vcDSAeiYvwBE",
        "outputId": "b7ef00d1-c0e6-4189-8440-a34779142865"
      },
      "execution_count": 4,
      "outputs": [
        {
          "output_type": "execute_result",
          "data": {
            "text/plain": [
              "3"
            ]
          },
          "metadata": {},
          "execution_count": 4
        }
      ]
    },
    {
      "cell_type": "code",
      "source": [
        "3+2"
      ],
      "metadata": {
        "colab": {
          "base_uri": "https://localhost:8080/"
        },
        "id": "WLGVj9vPvw2J",
        "outputId": "be752cb4-f27a-4cda-8314-9e1405f2ba52"
      },
      "execution_count": 6,
      "outputs": [
        {
          "output_type": "execute_result",
          "data": {
            "text/plain": [
              "5"
            ]
          },
          "metadata": {},
          "execution_count": 6
        }
      ]
    },
    {
      "cell_type": "code",
      "source": [
        "3.0+2.0"
      ],
      "metadata": {
        "colab": {
          "base_uri": "https://localhost:8080/"
        },
        "id": "NNI-VjujvyDU",
        "outputId": "04ba34f6-aaa5-478c-f8ed-bc1f4cea2747"
      },
      "execution_count": 7,
      "outputs": [
        {
          "output_type": "execute_result",
          "data": {
            "text/plain": [
              "5.0"
            ]
          },
          "metadata": {},
          "execution_count": 7
        }
      ]
    },
    {
      "cell_type": "code",
      "source": [
        "3!=2"
      ],
      "metadata": {
        "colab": {
          "base_uri": "https://localhost:8080/"
        },
        "id": "43Uxj17Cv0iD",
        "outputId": "278a97f0-5e29-4f8f-fd6b-863e2e8b39c0"
      },
      "execution_count": 8,
      "outputs": [
        {
          "output_type": "execute_result",
          "data": {
            "text/plain": [
              "True"
            ]
          },
          "metadata": {},
          "execution_count": 8
        }
      ]
    },
    {
      "cell_type": "code",
      "source": [
        "type(3)"
      ],
      "metadata": {
        "colab": {
          "base_uri": "https://localhost:8080/"
        },
        "id": "yH_2gPcmv1jy",
        "outputId": "a4c58e79-60a8-44cf-d6e0-4b0489871a64"
      },
      "execution_count": 9,
      "outputs": [
        {
          "output_type": "execute_result",
          "data": {
            "text/plain": [
              "int"
            ]
          },
          "metadata": {},
          "execution_count": 9
        }
      ]
    },
    {
      "cell_type": "code",
      "source": [
        "type(3.0)"
      ],
      "metadata": {
        "colab": {
          "base_uri": "https://localhost:8080/"
        },
        "id": "V48B5uo1v3Ko",
        "outputId": "fb1c2b92-506f-4711-f61a-6b6b7862acf6"
      },
      "execution_count": 10,
      "outputs": [
        {
          "output_type": "execute_result",
          "data": {
            "text/plain": [
              "float"
            ]
          },
          "metadata": {},
          "execution_count": 10
        }
      ]
    },
    {
      "cell_type": "markdown",
      "source": [
        "### 2.2.2 변수와 할당"
      ],
      "metadata": {
        "id": "vdw5VMGdv4jC"
      }
    },
    {
      "cell_type": "code",
      "source": [
        "pi = 3\n",
        "radius = 11\n",
        "area = pi * (radius**2)\n",
        "radius = 14"
      ],
      "metadata": {
        "id": "9TsuVI5AwAKe"
      },
      "execution_count": 11,
      "outputs": []
    },
    {
      "cell_type": "code",
      "source": [
        "import keyword\n",
        "print(keyword.kwlist)"
      ],
      "metadata": {
        "colab": {
          "base_uri": "https://localhost:8080/"
        },
        "id": "jfW8mnJTwCC5",
        "outputId": "fe68ca53-1bab-4d8c-ab5d-4ce99421ef1f"
      },
      "execution_count": 12,
      "outputs": [
        {
          "output_type": "stream",
          "name": "stdout",
          "text": [
            "['False', 'None', 'True', 'and', 'as', 'assert', 'async', 'await', 'break', 'class', 'continue', 'def', 'del', 'elif', 'else', 'except', 'finally', 'for', 'from', 'global', 'if', 'import', 'in', 'is', 'lambda', 'nonlocal', 'not', 'or', 'pass', 'raise', 'return', 'try', 'while', 'with', 'yield']\n"
          ]
        }
      ]
    },
    {
      "cell_type": "code",
      "source": [
        "side = 1 #단위 정사각형에서 한 변 길이\n",
        "radius = 1 #단위 원의 반지름\n",
        "#단위 정사각형의 면서에서 단위 원의 면적을 뺍니다\n",
        "area_circle = pi*radius**2\n",
        "area_square = side*side\n",
        "difference = area_square - area_circle"
      ],
      "metadata": {
        "id": "SLwr2Wp4wNzw"
      },
      "execution_count": 14,
      "outputs": []
    },
    {
      "cell_type": "code",
      "source": [
        "x, y = 2, 3"
      ],
      "metadata": {
        "id": "VQh1RLpwwWCC"
      },
      "execution_count": 15,
      "outputs": []
    },
    {
      "cell_type": "code",
      "source": [
        "x, y = 2, 3\n",
        "x, y = y, x\n",
        "print('x =', x)\n",
        "print('y =', y)"
      ],
      "metadata": {
        "colab": {
          "base_uri": "https://localhost:8080/"
        },
        "id": "TdzW6tWcwauq",
        "outputId": "1898fbe9-7742-4168-c9ce-9dd805e2093d"
      },
      "execution_count": 16,
      "outputs": [
        {
          "output_type": "stream",
          "name": "stdout",
          "text": [
            "x = 3\n",
            "y = 2\n"
          ]
        }
      ]
    },
    {
      "cell_type": "markdown",
      "source": [
        "## 2.3 프로그램 분기"
      ],
      "metadata": {
        "id": "ghYOm9VhwcJr"
      }
    },
    {
      "cell_type": "code",
      "source": [
        "if x%2 == 0:\n",
        "    print('Even')\n",
        "else:\n",
        "    print('Odd')\n",
        "print('조건문 종료')"
      ],
      "metadata": {
        "colab": {
          "base_uri": "https://localhost:8080/"
        },
        "id": "1R0JVIkPwllf",
        "outputId": "517cbeba-7e5a-4a64-aaa1-fda4da4a3b5b"
      },
      "execution_count": 17,
      "outputs": [
        {
          "output_type": "stream",
          "name": "stdout",
          "text": [
            "Odd\n",
            "조건문 종료\n"
          ]
        }
      ]
    },
    {
      "cell_type": "code",
      "source": [
        "x = 1111111111111111111111111111111 + 222222222222333222222222 +\\\n",
        "3333333333333333333333333333333"
      ],
      "metadata": {
        "id": "8-jcPhftwmIS"
      },
      "execution_count": 18,
      "outputs": []
    },
    {
      "cell_type": "code",
      "source": [
        "x = 1111111111111111111111111111111 + 222222222222333222222222 +\n",
        "3333333333333333333333333333333"
      ],
      "metadata": {
        "id": "k-g6Emyd1VS7",
        "outputId": "8c6832d8-31e9-4193-b881-8bfa88c2c1ab",
        "colab": {
          "base_uri": "https://localhost:8080/",
          "height": 137
        }
      },
      "execution_count": 19,
      "outputs": [
        {
          "output_type": "error",
          "ename": "SyntaxError",
          "evalue": "ignored",
          "traceback": [
            "\u001b[0;36m  File \u001b[0;32m\"<ipython-input-19-1238a62ea081>\"\u001b[0;36m, line \u001b[0;32m1\u001b[0m\n\u001b[0;31m    x = 1111111111111111111111111111111 + 222222222222333222222222 +\u001b[0m\n\u001b[0m                                                                    ^\u001b[0m\n\u001b[0;31mSyntaxError\u001b[0m\u001b[0;31m:\u001b[0m invalid syntax\n"
          ]
        }
      ]
    },
    {
      "cell_type": "code",
      "source": [
        "x = (1111111111111111111111111111111 + 222222222222333222222222 +\n",
        "3333333333333333333333333333333)"
      ],
      "metadata": {
        "id": "7IDGTnGI1Yny"
      },
      "execution_count": 20,
      "outputs": []
    },
    {
      "cell_type": "code",
      "source": [
        "if x%2 == 0:\n",
        "    if x%3 == 0:\n",
        "        print('2와 3으로 나누어 떨어집니다')\n",
        "    else:\n",
        "        print('2로 나누어 떨어지지만 3으로 나누어 떨어지지 않습니다')\n",
        "elif x%3 == 0:\n",
        "    print('3으로 나누어 떨어지지만 2로 나누어 떨어지지 않습니다')"
      ],
      "metadata": {
        "id": "n5tV3Gl3YaYl",
        "outputId": "96342818-72bf-40c9-a40e-1e7d7a27dfb6",
        "colab": {
          "base_uri": "https://localhost:8080/"
        }
      },
      "execution_count": 21,
      "outputs": [
        {
          "output_type": "stream",
          "name": "stdout",
          "text": [
            "2로 나누어 떨어지지만 3으로 나누어 떨어지지 않습니다\n"
          ]
        }
      ]
    },
    {
      "cell_type": "code",
      "source": [
        "x = 1\n",
        "y = 2\n",
        "z = 3\n",
        "\n",
        "if x < y and x < z:\n",
        "    print('x가 가장 작습니다')\n",
        "elif y < z:\n",
        "    print('y가 가장 작습니다')\n",
        "else:\n",
        "    print('z가 가장 작습니다')"
      ],
      "metadata": {
        "id": "h-3boiQ8Yc5D",
        "outputId": "4f5eaf16-926a-479c-8b6e-d99034ed1d56",
        "colab": {
          "base_uri": "https://localhost:8080/"
        }
      },
      "execution_count": 27,
      "outputs": [
        {
          "output_type": "stream",
          "name": "stdout",
          "text": [
            "x가 가장 작습니다\n"
          ]
        }
      ]
    },
    {
      "cell_type": "markdown",
      "source": [
        "#### 손가락 운동"
      ],
      "metadata": {
        "id": "8k1i81jsaKSw"
      }
    },
    {
      "cell_type": "code",
      "source": [
        "x = 0\n",
        "y = 11\n",
        "z = 9\n",
        "\n",
        "if x%2 != 0:\n",
        "    if y%2 != 0:\n",
        "        if z%2 != 0:    # x,y,z가 홀수이면\n",
        "            if x > y and x > z:\n",
        "                print(x)\n",
        "            elif y > z:\n",
        "                print(y)\n",
        "            else:\n",
        "                print(z)\n",
        "        else:           # x와 y만 홀수이면\n",
        "            if x > y:\n",
        "                print(x)\n",
        "            else:\n",
        "                print(y)\n",
        "    elif z%2 != 0:      # x와 z만 홀수이면\n",
        "        if x > z:\n",
        "            print(x)\n",
        "        else:\n",
        "            print(z)\n",
        "    else:               # x만 홀수이면\n",
        "        print(x)\n",
        "elif y%2 != 0:\n",
        "    if z%2 != 0:        # y와 z만 홀수이면\n",
        "        if y > z:\n",
        "            print(y)\n",
        "        else:\n",
        "            print(z)\n",
        "    else:               # y만 홀수이면\n",
        "        print(y)\n",
        "elif z%2 != 0:          # z만 홀수이면\n",
        "    print(z)\n",
        "else:                   # x,y,z가 짝수이면\n",
        "    if x < y and x < z:\n",
        "        print(x)\n",
        "    elif y < z:\n",
        "        print(y)\n",
        "    else:\n",
        "        print(z)"
      ],
      "metadata": {
        "id": "Arkh9vecYe2M",
        "outputId": "a9f7874a-3d65-4c3c-d87d-7d016e8f26a8",
        "colab": {
          "base_uri": "https://localhost:8080/"
        }
      },
      "execution_count": 40,
      "outputs": [
        {
          "output_type": "stream",
          "name": "stdout",
          "text": [
            "11\n"
          ]
        }
      ]
    },
    {
      "cell_type": "code",
      "source": [],
      "metadata": {
        "id": "oB6jc3aqbfZ1"
      },
      "execution_count": null,
      "outputs": []
    }
  ]
}