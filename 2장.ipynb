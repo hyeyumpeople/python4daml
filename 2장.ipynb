{
  "nbformat": 4,
  "nbformat_minor": 0,
  "metadata": {
    "colab": {
      "provenance": [],
      "authorship_tag": "ABX9TyNUErl8pHqbr2IEmeUDNcQv"
    },
    "kernelspec": {
      "name": "python3",
      "display_name": "Python 3"
    },
    "language_info": {
      "name": "python"
    }
  },
  "cells": [
    {
      "cell_type": "markdown",
      "source": [
        "<table align=\"left\"><tr><td>\n",
        "<a href=\"https://colab.research.google.com/github/rickiepark/python4dsml/blob/main/2장.ipynb\" target=\"_parent\"><img src=\"https://colab.research.google.com/assets/colab-badge.svg\" alt=\"코랩에서 실행하기\"/></a>\n",
        "</td></tr></table>"
      ],
      "metadata": {
        "id": "_muEA3Y8uWEZ"
      }
    },
    {
      "cell_type": "markdown",
      "source": [
        "# 2장 파이썬 소개"
      ],
      "metadata": {
        "id": "_Xw8DhHUuREj"
      }
    },
    {
      "cell_type": "code",
      "execution_count": null,
      "metadata": {
        "id": "yEvU-qkWuKKu"
      },
      "outputs": [],
      "source": []
    }
  ]
}