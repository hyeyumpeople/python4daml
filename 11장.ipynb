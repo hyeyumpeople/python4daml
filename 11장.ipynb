{
  "nbformat": 4,
  "nbformat_minor": 0,
  "metadata": {
    "colab": {
      "provenance": [],
      "authorship_tag": "ABX9TyOFXTE0bEcSok4BIKH+qnxP"
    },
    "kernelspec": {
      "name": "python3",
      "display_name": "Python 3"
    },
    "language_info": {
      "name": "python"
    }
  },
  "cells": [
    {
      "cell_type": "markdown",
      "source": [
        "<table align=\"left\"><tr><td>\n",
        "<a href=\"https://colab.research.google.com/github/rickiepark/python4daml/blob/main/11장.ipynb\" target=\"_parent\"><img src=\"https://colab.research.google.com/assets/colab-badge.svg\" alt=\"코랩에서 실행하기\"/></a>\n",
        "</td></tr></table>"
      ],
      "metadata": {
        "id": "J3Crui-rLSdk"
      }
    },
    {
      "cell_type": "markdown",
      "source": [
        "# 11장 알고리즘 복잡도에 대한 간략한 소개"
      ],
      "metadata": {
        "id": "fpuyO3MnLQb3"
      }
    },
    {
      "cell_type": "markdown",
      "source": [
        "## 11.1 계산 복잡도에 관한 고찰"
      ],
      "metadata": {
        "id": "5dL5A4V_Lk6D"
      }
    },
    {
      "cell_type": "code",
      "source": [
        "def f(i): \n",
        "    \"\"\"i는 int이고 i >= 0라고 가정합니다\"\"\" \n",
        "    answer = 1 \n",
        "    while i >= 1: \n",
        "        answer *= i \n",
        "        i -= 1 \n",
        "    return answer "
      ],
      "metadata": {
        "id": "csZVOs7jLYyW"
      },
      "execution_count": 1,
      "outputs": []
    },
    {
      "cell_type": "code",
      "source": [
        "def linear_search(L, x): \n",
        "    for e in L: \n",
        "        if e == x: \n",
        "            return True \n",
        "    return False "
      ],
      "metadata": {
        "id": "VvgXQO0LUkS7"
      },
      "execution_count": 2,
      "outputs": []
    },
    {
      "cell_type": "code",
      "source": [
        "def fact(n): \n",
        "    \"\"\"n은 양의 정수라고 가정합니다.\n",
        "       n!을 반환합니다\"\"\" \n",
        "    answer = 1 \n",
        "    while n > 1:\n",
        "        answer *= n\n",
        "        n -= 1 \n",
        "    return answer"
      ],
      "metadata": {
        "id": "T_JmI8tPcrBg"
      },
      "execution_count": 3,
      "outputs": []
    },
    {
      "cell_type": "markdown",
      "source": [
        "그림 11-1 완전 열거를 사용해 제곱근의 근삿값 찾기"
      ],
      "metadata": {
        "id": "fGExJ8RPyly1"
      }
    },
    {
      "cell_type": "code",
      "source": [
        "def square_root_exhaustive(x, epsilon): \n",
        "    \"\"\"x와 epsilon은 양의 실수이고 epsilon < 1이라고 가정합니다. \n",
        "       x에서 epsilon 이내에 y*y가 있을 때 y를 반환합니다\"\"\" \n",
        "    step = epsilon**2 \n",
        "    ans = 0.0 \n",
        "    while abs(ans**2 - x) >= epsilon and ans*ans <= x: \n",
        "        ans += step \n",
        "    if ans*ans > x: \n",
        "        raise ValueError \n",
        "    return ans "
      ],
      "metadata": {
        "id": "yPwSONdjXByT"
      },
      "execution_count": 4,
      "outputs": []
    },
    {
      "cell_type": "markdown",
      "source": [
        "그림 11-2 이분 검색을 사용해 제곱근의 근삿값 찾기"
      ],
      "metadata": {
        "id": "JD32XYa7ykNE"
      }
    },
    {
      "cell_type": "code",
      "source": [
        "def square_root_bi(x, epsilon): \n",
        "    \"\"\"x와 epsilon은 양의 실수이고 epsilon < 1이라고 가정합니다. \n",
        "       x에서 epsilon 이내에 y*y가 있을 때 y를 반환합니다\"\"\"  \n",
        "    low = 0.0 \n",
        "    high = max(1.0, x) \n",
        "    ans = (high + low)/2.0 \n",
        "    while abs(ans**2 - x) >= epsilon: \n",
        "        if ans**2 < x: \n",
        "            low = ans \n",
        "        else: \n",
        "            high = ans \n",
        "        ans = (high + low)/2.0 \n",
        "    return ans "
      ],
      "metadata": {
        "id": "L2t3nJSzvkkE"
      },
      "execution_count": 5,
      "outputs": []
    },
    {
      "cell_type": "markdown",
      "source": [
        "## 11.2 점근 표기법"
      ],
      "metadata": {
        "id": "kqHSYnRfv3Z7"
      }
    },
    {
      "cell_type": "markdown",
      "source": [
        "그림 11-3 점근 복잡도"
      ],
      "metadata": {
        "id": "ZaKk39L3xWYE"
      }
    },
    {
      "cell_type": "code",
      "source": [
        "def f(x): \n",
        "    \"\"\"x는 0보다 큰 정수라고 가정합니다\"\"\" \n",
        "    ans = 0 \n",
        "    #상수 시간이 걸리는 루프\n",
        "    for i in range(1000): \n",
        "        ans += 1 \n",
        "    print('지금까지 덧셈 횟수:', ans) \n",
        "    #x 시간이 걸리는 루프\n",
        "    for i in range(x): \n",
        "        ans += 1 \n",
        "    print('지금까지 덧셈 횟수:', ans) \n",
        "    #x**2 시간이 걸리는 중첩 루프\n",
        "    for i in range(x): \n",
        "        for j in range(x): \n",
        "            ans += 1 \n",
        "            ans += 1 \n",
        "\n",
        "    print('지금까지 덧셈 횟수:', ans) \n",
        "    return ans "
      ],
      "metadata": {
        "id": "XSeCNqiOzVu9"
      },
      "execution_count": 6,
      "outputs": []
    },
    {
      "cell_type": "code",
      "source": [
        "f(10)"
      ],
      "metadata": {
        "colab": {
          "base_uri": "https://localhost:8080/"
        },
        "id": "NLJOsHCnzWQA",
        "outputId": "e0dfc10c-b116-4882-9689-7977c3a0a047"
      },
      "execution_count": 7,
      "outputs": [
        {
          "output_type": "stream",
          "name": "stdout",
          "text": [
            "지금까지 덧셈 횟수: 1000\n",
            "지금까지 덧셈 횟수: 1010\n",
            "지금까지 덧셈 횟수: 1210\n"
          ]
        },
        {
          "output_type": "execute_result",
          "data": {
            "text/plain": [
              "1210"
            ]
          },
          "metadata": {},
          "execution_count": 7
        }
      ]
    },
    {
      "cell_type": "code",
      "source": [
        "f(1000)"
      ],
      "metadata": {
        "colab": {
          "base_uri": "https://localhost:8080/"
        },
        "id": "VAq8a5a20zgp",
        "outputId": "d714c91c-55bc-4f81-a43c-fca9c34ed57f"
      },
      "execution_count": 8,
      "outputs": [
        {
          "output_type": "stream",
          "name": "stdout",
          "text": [
            "지금까지 덧셈 횟수: 1000\n",
            "지금까지 덧셈 횟수: 2000\n",
            "지금까지 덧셈 횟수: 2002000\n"
          ]
        },
        {
          "output_type": "execute_result",
          "data": {
            "text/plain": [
              "2002000"
            ]
          },
          "metadata": {},
          "execution_count": 8
        }
      ]
    },
    {
      "cell_type": "markdown",
      "source": [
        "**손가락 운동**"
      ],
      "metadata": {
        "id": "nRoYI95cC-b9"
      }
    },
    {
      "cell_type": "code",
      "source": [
        "def g(L, e): \n",
        "    \"\"\"L은 정수 리스트이고 e는 정수입니다\"\"\" \n",
        "    for i in range(100): \n",
        "        for e1 in L: \n",
        "            if e1 == e: \n",
        "                return True \n",
        "    return False \n",
        "\n",
        "def h(L, e): \n",
        "    \"\"\"L은 정수 리스트이고 e는 정수입니다\"\"\" \n",
        "    for i in range(e): \n",
        "        for e1 in L: \n",
        "            if e1 == e: \n",
        "                return True \n",
        "    return False"
      ],
      "metadata": {
        "id": "jfA2qyW-KbEo"
      },
      "execution_count": 9,
      "outputs": []
    },
    {
      "cell_type": "markdown",
      "source": [
        "g(L,e)의 복잡도는 O(100n), h(L,e)의 복잡도는 O(e*n). n은 L의 길이입니다."
      ],
      "metadata": {
        "id": "AfgqS86rKcsW"
      }
    },
    {
      "cell_type": "markdown",
      "source": [
        "## 11.3 중요한 몇 가지 복잡도 종류"
      ],
      "metadata": {
        "id": "TqLNAalpaepE"
      }
    },
    {
      "cell_type": "markdown",
      "source": [
        "### 11.3.1 상수 복잡도"
      ],
      "metadata": {
        "id": "Vh1i_9F_ahbO"
      }
    },
    {
      "cell_type": "markdown",
      "source": [
        "### 11.3.2 로그 복잡도"
      ],
      "metadata": {
        "id": "vJeYa3d2aLGD"
      }
    },
    {
      "cell_type": "code",
      "source": [
        "def int_to_str(i): \n",
        "    \"\"\"i는 0보다 큰 정수라고 가정합니다.\n",
        "       i의 문자열 표현을 반환합니다\"\"\" \n",
        "    digits = '0123456789' \n",
        "    if i == 0: \n",
        "        return '0' \n",
        "    result = '' \n",
        "    while i > 0: \n",
        "        result = digits[i%10] + result \n",
        "        i = i//10 \n",
        "    return result "
      ],
      "metadata": {
        "id": "Yb29qhDgLsU1"
      },
      "execution_count": 10,
      "outputs": []
    },
    {
      "cell_type": "code",
      "source": [
        "def add_digits(n): \n",
        "    \"\"\"n이 0보다 큰 정수라고 가정합니다. \n",
        "       n에 있는 숫자의 합을 반환합니다\"\"\" \n",
        "    string_rep = int_to_str(n) \n",
        "    val = 0 \n",
        "    for c in string_rep: \n",
        "        val += int(c) \n",
        "    return val "
      ],
      "metadata": {
        "id": "ov1mGgnSauor"
      },
      "execution_count": 11,
      "outputs": []
    },
    {
      "cell_type": "markdown",
      "source": [
        "### 11.3.3 선형 복잡도"
      ],
      "metadata": {
        "id": "BgubmzjBdH2U"
      }
    },
    {
      "cell_type": "code",
      "source": [
        "def add_digits(s): \n",
        "    \"\"\"s는 숫자 문자열이라고 가정합니다.\n",
        "       s에 있는 숫자의 합을 반환합니다\"\"\" \n",
        "    val = 0 \n",
        "    for c in string_rep: \n",
        "        val += int(c) \n",
        "    return val "
      ],
      "metadata": {
        "id": "pm0AMgM0yg_g"
      },
      "execution_count": 12,
      "outputs": []
    },
    {
      "cell_type": "code",
      "source": [
        "def factorial(x): \n",
        "    \"\"\"x는 양의 정수라고 가정합니다. \n",
        "       x!를 반환합니다\"\"\" \n",
        "    if x == 1: \n",
        "        return 1 \n",
        "    else: \n",
        "        return x*factorial(x-1) "
      ],
      "metadata": {
        "id": "Spjucy5Yyhfw"
      },
      "execution_count": 13,
      "outputs": []
    },
    {
      "cell_type": "markdown",
      "source": [
        "### 11.3.4 로그 선형 복잡도"
      ],
      "metadata": {
        "id": "GYCnQKM9kIDI"
      }
    },
    {
      "cell_type": "markdown",
      "source": [
        "### 11.3.5 다항 복잡도"
      ],
      "metadata": {
        "id": "fCuEw0hdahbN"
      }
    },
    {
      "cell_type": "markdown",
      "source": [
        "그림 11-4 부분집합 테스트 함수"
      ],
      "metadata": {
        "id": "vZW2ibwSgkAC"
      }
    },
    {
      "cell_type": "code",
      "source": [
        "def is_subset(L1, L2): \n",
        "    \"\"\"L1과 L2는 리스트로 가정합니다. \n",
        "       L1의 모든 원소가 L2에도 있으면 True, 그렇지 않으면 False를 반환합니다\"\"\" \n",
        "    for e1 in L1: \n",
        "        matched = False \n",
        "        for e2 in L2: \n",
        "            if e1 == e2: \n",
        "                matched = True \n",
        "                break \n",
        "        if not matched: \n",
        "            return False \n",
        "    return True "
      ],
      "metadata": {
        "id": "Tble6dxWaj50"
      },
      "execution_count": 14,
      "outputs": []
    },
    {
      "cell_type": "markdown",
      "source": [
        "그림 11-5 두 리스트의 교집합 구하기"
      ],
      "metadata": {
        "id": "ZmiivEafgiz8"
      }
    },
    {
      "cell_type": "code",
      "source": [
        "def intersect(L1, L2): \n",
        "    \"\"\"가정: L1와 L2는 리스트입니다.\n",
        "       L1과 L2의 교집합을 반환합니다\"\"\" \n",
        "    #공통 원소를 담은 리스트를 만듭니다\n",
        "    tmp = [] \n",
        "    for e1 in L1: \n",
        "        for e2 in L2: \n",
        "            if e1 == e2: \n",
        "                tmp.append(e1) \n",
        "                break \n",
        "    #중복이 없는 리스트 만들기\n",
        "    result = [] \n",
        "    for e in tmp: \n",
        "        if e not in result: \n",
        "            result.append(e) \n",
        "    return result"
      ],
      "metadata": {
        "id": "l6Dl_3rfd_Ny"
      },
      "execution_count": 15,
      "outputs": []
    },
    {
      "cell_type": "markdown",
      "source": [
        "### 11.3.6 지수 복잡도"
      ],
      "metadata": {
        "id": "RVwBOcc0gpGS"
      }
    },
    {
      "cell_type": "code",
      "source": [
        "def get_binary_rep(n, num_digits): \n",
        "    \"\"\"n과 num_digits은 음수가 아닌 정수로 가정합니다. \n",
        "       n의 이진 표현을 num_digits 길이의 문자열로 반환합니다\"\"\" \n",
        "    result = '' \n",
        "    while n > 0: \n",
        "        result = str(n%2) + result \n",
        "        n = n//2 \n",
        "    if len(result) > num_digits: \n",
        "        raise ValueError('num_digits가 부족합니다') \n",
        "    for i in range(num_digits - len(result)): \n",
        "        result = '0' + result \n",
        "    return result \n",
        "\n",
        "def gen_powerset(L): \n",
        "    \"\"\"L은 리스트로 가정합니다. \n",
        "       L에 있는 원소로 가능한 모든 조합을 담은 리스트의 리스트를 반환합니다.\n",
        "       예를 들어 L이 [1, 2]이면 [], [1], [2], [1, 2]를 원소로 가진 리스트를 반환합니다\"\"\" \n",
        "    powerset = [] \n",
        "    for i in range(0, 2**len(L)): \n",
        "        bin_str = get_binary_rep(i, len(L)) \n",
        "        subset = [] \n",
        "        for j in range(len(L)): \n",
        "            if bin_str[j] == '1': \n",
        "                subset.append(L[j]) \n",
        "        powerset.append(subset) \n",
        "    return powerset "
      ],
      "metadata": {
        "id": "indoxJ32gqVO"
      },
      "execution_count": 16,
      "outputs": []
    },
    {
      "cell_type": "markdown",
      "source": [
        "### 11.3.7 복잡도 비교"
      ],
      "metadata": {
        "id": "BQ7OrSrdgXja"
      }
    },
    {
      "cell_type": "markdown",
      "source": [
        "그림 11-7 상수, 로그, 선형 복잡도"
      ],
      "metadata": {
        "id": "8sKSBp1JggMs"
      }
    },
    {
      "cell_type": "code",
      "source": [
        "import matplotlib.pyplot as plt\n",
        "import math\n",
        "\n",
        "x_vals = range(1, 100000, 1)\n",
        "y_const, y_log = [], []\n",
        "for x in x_vals:\n",
        "    y_const.append(15)\n",
        "    y_log.append(math.log2(x))\n",
        "plt.plot(x_vals, y_const, 'r--', label = 'constant')\n",
        "plt.plot(x_vals, y_log, 'k-', label = 'log')\n",
        "plt.xlabel('Input Size')\n",
        "plt.ylabel('Time')\n",
        "plt.title('Constant (15) vs. Log (base 2)')\n",
        "plt.legend()\n",
        "\n",
        "plt.figure()\n",
        "x_vals = range(1, 100000, 1)\n",
        "y_log, y_linear = [], []\n",
        "for x in x_vals:\n",
        "    y_linear.append(x)\n",
        "    y_log.append(math.log2(x))\n",
        "plt.plot(x_vals, y_linear, 'r--', label = 'linear')\n",
        "plt.plot(x_vals, y_log, 'k-', label = 'log')\n",
        "plt.xlabel('Input Size')\n",
        "plt.ylabel('Time')\n",
        "plt.title('Log (base 2) vs. Linear')\n",
        "plt.legend()\n",
        "plt.show()"
      ],
      "metadata": {
        "colab": {
          "base_uri": "https://localhost:8080/",
          "height": 573
        },
        "id": "zAKYIN6hkOtp",
        "outputId": "93784997-901c-41c0-97dd-0c8b7d4d79bd"
      },
      "execution_count": 17,
      "outputs": [
        {
          "output_type": "display_data",
          "data": {
            "text/plain": [
              "<Figure size 432x288 with 1 Axes>"
            ],
            "image/png": "[encoded data removed]"
          },
          "metadata": {
            "needs_background": "light"
          }
        },
        {
          "output_type": "display_data",
          "data": {
            "text/plain": [
              "<Figure size 432x288 with 1 Axes>"
            ],
            "image/png": "[encoded data removed]"
          },
          "metadata": {
            "needs_background": "light"
          }
        }
      ]
    },
    {
      "cell_type": "markdown",
      "source": [
        "그림 11-8 선형, 로그-선형, 다항 복잡도"
      ],
      "metadata": {
        "id": "a1aWbuFNhiDB"
      }
    },
    {
      "cell_type": "code",
      "source": [
        "plt.figure()\n",
        "x_vals = range(1, 1000, 1)\n",
        "y_log_linear, y_linear = [], []\n",
        "for x in x_vals:\n",
        "    y_linear.append(x)\n",
        "    y_log_linear.append(x*math.log2(x))\n",
        "plt.plot(x_vals, y_linear, 'r--', label = 'linear')\n",
        "plt.plot(x_vals, y_log_linear, 'k-', label = 'log-linear')\n",
        "plt.xlabel('Input Size')\n",
        "plt.ylabel('Time')\n",
        "plt.title('Linear vs. Log-linear')\n",
        "plt.legend()\n",
        "\n",
        "plt.figure()\n",
        "x_vals = range(1, 1000, 1)\n",
        "y_log_linear, y_quadratic = [], []\n",
        "for x in x_vals:\n",
        "    y_quadratic.append(x**2)\n",
        "    y_log_linear.append(x*math.log2(x))\n",
        "plt.plot(x_vals, y_quadratic, 'r--', label = 'quadratioc')\n",
        "plt.plot(x_vals, y_log_linear, 'k-', label = 'log-linear')\n",
        "plt.xlabel('Input Size')\n",
        "plt.ylabel('Time')\n",
        "plt.title('Log-linear vs. Quadratic')\n",
        "plt.legend()\n",
        "plt.show()"
      ],
      "metadata": {
        "colab": {
          "base_uri": "https://localhost:8080/",
          "height": 573
        },
        "id": "SDkkUgB0gqJE",
        "outputId": "7ea63b8d-97a4-4df9-c791-d92b0980977d"
      },
      "execution_count": 18,
      "outputs": [
        {
          "output_type": "display_data",
          "data": {
            "text/plain": [
              "<Figure size 432x288 with 1 Axes>"
            ],
            "image/png": "[encoded data removed]"
          },
          "metadata": {
            "needs_background": "light"
          }
        },
        {
          "output_type": "display_data",
          "data": {
            "text/plain": [
              "<Figure size 432x288 with 1 Axes>"
            ],
            "image/png": "[encoded data removed]"
          },
          "metadata": {
            "needs_background": "light"
          }
        }
      ]
    },
    {
      "cell_type": "markdown",
      "source": [
        "그림 11-9 2차 다항식과 지수 복잡도"
      ],
      "metadata": {
        "id": "hQYbny67hc7U"
      }
    },
    {
      "cell_type": "code",
      "source": [
        "plt.figure()\n",
        "x_vals = range(1, 100, 1)\n",
        "y_quad, y_exp = [], []\n",
        "for x in x_vals:\n",
        "    y_quad.append(x**2)\n",
        "    y_exp.append(2**x)\n",
        "plt.plot(x_vals, y_quad, 'r--', label = 'quadratic')\n",
        "plt.plot(x_vals, y_exp, 'k-', label = 'exponential')\n",
        "plt.xlabel('Input Size')\n",
        "plt.ylabel('Time')\n",
        "plt.title('Quadratic vs. Exponential')\n",
        "plt.legend()\n",
        "\n",
        "plt.figure()\n",
        "x_vals = range(1, 100, 1)\n",
        "y_quad, y_exp = [], []\n",
        "for x in x_vals:\n",
        "    y_quad.append(x**2)\n",
        "    y_exp.append(2**x)\n",
        "plt.plot(x_vals, y_quad, 'r--', label = 'quadratic')\n",
        "plt.plot(x_vals, y_exp, 'k-', label = 'exponential')\n",
        "plt.xlabel('Input Size')\n",
        "plt.ylabel('Time')\n",
        "plt.title('Quadratic vs. Exponential')\n",
        "plt.legend()\n",
        "plt.semilogy()\n",
        "plt.show()"
      ],
      "metadata": {
        "colab": {
          "base_uri": "https://localhost:8080/",
          "height": 573
        },
        "id": "1HvS8KORgypS",
        "outputId": "ccbadcf8-37a8-4187-d065-392acfcbce23"
      },
      "execution_count": 19,
      "outputs": [
        {
          "output_type": "display_data",
          "data": {
            "text/plain": [
              "<Figure size 432x288 with 1 Axes>"
            ],
            "image/png": "[encoded data removed]"
          },
          "metadata": {
            "needs_background": "light"
          }
        },
        {
          "output_type": "display_data",
          "data": {
            "text/plain": [
              "<Figure size 432x288 with 1 Axes>"
            ],
            "image/png": "[encoded data removed]"
          },
          "metadata": {
            "needs_background": "light"
          }
        }
      ]
    }
  ]
}