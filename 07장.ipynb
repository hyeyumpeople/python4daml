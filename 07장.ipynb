{
  "nbformat": 4,
  "nbformat_minor": 0,
  "metadata": {
    "colab": {
      "provenance": [],
      "collapsed_sections": [],
      "authorship_tag": "ABX9TyMYlu+uHJ8FHuZ1kk9pNZv1"
    },
    "kernelspec": {
      "name": "python3",
      "display_name": "Python 3"
    },
    "language_info": {
      "name": "python"
    }
  },
  "cells": [
    {
      "cell_type": "markdown",
      "source": [
        "<table align=\"left\"><tr><td>\n",
        "<a href=\"https://colab.research.google.com/github/rickiepark/python4daml/blob/main/7장.ipynb\" target=\"_parent\"><img src=\"https://colab.research.google.com/assets/colab-badge.svg\" alt=\"코랩에서 실행하기\"/></a>\n",
        "</td></tr></table>"
      ],
      "metadata": {
        "id": "fD-Q_EYixRZe"
      }
    },
    {
      "cell_type": "markdown",
      "source": [
        "# 7장 모듈과 파일"
      ],
      "metadata": {
        "id": "42c5y2qExVZX"
      }
    },
    {
      "cell_type": "markdown",
      "source": [
        "그림 7-1 원과 구(sphere)에 관련된 코드"
      ],
      "metadata": {
        "id": "DPbImybVrGrh"
      }
    },
    {
      "cell_type": "code",
      "execution_count": 1,
      "metadata": {
        "id": "9QgPoHd9xN52"
      },
      "outputs": [],
      "source": [
        "pi = 3.14159\n",
        "\n",
        "def area(radius):\n",
        "    return pi*(radius**2)\n",
        "\n",
        "def circumference(radius):\n",
        "    return 2*pi*radius\n",
        "\n",
        "def sphere_surface(radius):\n",
        "    return 4.0*area(radius)\n",
        "\n",
        "def sphere_volume(radius):\n",
        "    return (4.0/3.0)*pi*(radius**3)"
      ]
    },
    {
      "cell_type": "code",
      "source": [
        "# 코랩에서 실행하는 경우 깃허브에 있는 circle.py 파일을 다운로드합니다.\n",
        "!wget https://raw.githubusercontent.com/rickiepark/python4daml/main/circle.py"
      ],
      "metadata": {
        "colab": {
          "base_uri": "https://localhost:8080/"
        },
        "id": "5Zx8vNYSvCwq",
        "outputId": "6d524f92-4fa6-491d-e270-9e49dc44e21e"
      },
      "execution_count": 2,
      "outputs": [
        {
          "output_type": "stream",
          "name": "stdout",
          "text": [
            "--2022-10-21 05:48:14--  https://raw.githubusercontent.com/rickiepark/python4daml/main/circle.py\n",
            "Resolving raw.githubusercontent.com (raw.githubusercontent.com)... 185.199.108.133, 185.199.109.133, 185.199.110.133, ...\n",
            "Connecting to raw.githubusercontent.com (raw.githubusercontent.com)|185.199.108.133|:443... connected.\n",
            "HTTP request sent, awaiting response... 200 OK\n",
            "Length: 230 [text/plain]\n",
            "Saving to: ‘circle.py.1’\n",
            "\n",
            "\rcircle.py.1           0%[                    ]       0  --.-KB/s               \rcircle.py.1         100%[===================>]     230  --.-KB/s    in 0s      \n",
            "\n",
            "2022-10-21 05:48:14 (16.4 MB/s) - ‘circle.py.1’ saved [230/230]\n",
            "\n"
          ]
        }
      ]
    },
    {
      "cell_type": "code",
      "source": [
        "import circle\n",
        "pi = 3\n",
        "print(pi)\n",
        "print(circle.pi)\n",
        "print(circle.area(3))\n",
        "print(circle.circumference(3))\n",
        "print(circle.sphere_surface(3))"
      ],
      "metadata": {
        "colab": {
          "base_uri": "https://localhost:8080/"
        },
        "id": "3YymmHNjrFmn",
        "outputId": "63abac22-3501-43c1-b39b-2759fd0f5806"
      },
      "execution_count": 3,
      "outputs": [
        {
          "output_type": "stream",
          "name": "stdout",
          "text": [
            "3\n",
            "3.14159\n",
            "28.27431\n",
            "18.849539999999998\n",
            "113.09724\n"
          ]
        }
      ]
    },
    {
      "cell_type": "code",
      "source": [
        "# circle 모듈을 다시 로드하기 위해\n",
        "del circle"
      ],
      "metadata": {
        "id": "3WEgG_RFtZsT"
      },
      "execution_count": 4,
      "outputs": []
    },
    {
      "cell_type": "code",
      "source": [
        "from circle import *\n",
        "print(pi)\n",
        "print(circle.pi)"
      ],
      "metadata": {
        "colab": {
          "base_uri": "https://localhost:8080/",
          "height": 238
        },
        "id": "nYabW5V1u78a",
        "outputId": "dbdfe469-e95d-45a9-95a0-36b8d0f159d9"
      },
      "execution_count": 5,
      "outputs": [
        {
          "output_type": "stream",
          "name": "stdout",
          "text": [
            "3.14159\n"
          ]
        },
        {
          "output_type": "error",
          "ename": "NameError",
          "evalue": "ignored",
          "traceback": [
            "\u001b[0;31m---------------------------------------------------------------------------\u001b[0m",
            "\u001b[0;31mNameError\u001b[0m                                 Traceback (most recent call last)",
            "\u001b[0;32m<ipython-input-5-da4d3d17df8d>\u001b[0m in \u001b[0;36m<module>\u001b[0;34m\u001b[0m\n\u001b[1;32m      1\u001b[0m \u001b[0;32mfrom\u001b[0m \u001b[0mcircle\u001b[0m \u001b[0;32mimport\u001b[0m \u001b[0;34m*\u001b[0m\u001b[0;34m\u001b[0m\u001b[0;34m\u001b[0m\u001b[0m\n\u001b[1;32m      2\u001b[0m \u001b[0mprint\u001b[0m\u001b[0;34m(\u001b[0m\u001b[0mpi\u001b[0m\u001b[0;34m)\u001b[0m\u001b[0;34m\u001b[0m\u001b[0;34m\u001b[0m\u001b[0m\n\u001b[0;32m----> 3\u001b[0;31m \u001b[0mprint\u001b[0m\u001b[0;34m(\u001b[0m\u001b[0mcircle\u001b[0m\u001b[0;34m.\u001b[0m\u001b[0mpi\u001b[0m\u001b[0;34m)\u001b[0m\u001b[0;34m\u001b[0m\u001b[0;34m\u001b[0m\u001b[0m\n\u001b[0m",
            "\u001b[0;31mNameError\u001b[0m: name 'circle' is not defined"
          ]
        }
      ]
    },
    {
      "cell_type": "markdown",
      "source": [
        "## 7.2 사전에 정의된 패키지 사용하기"
      ],
      "metadata": {
        "id": "m5FxbAEQ4h9f"
      }
    },
    {
      "cell_type": "code",
      "source": [
        "import calendar as cal\n",
        "cal_english = cal.TextCalendar()\n",
        "print(cal_english.formatmonth(1949, 3))"
      ],
      "metadata": {
        "id": "Tc824MjUs6I5",
        "colab": {
          "base_uri": "https://localhost:8080/"
        },
        "outputId": "711e417c-3cdb-47c9-ac16-14295c5b4b35"
      },
      "execution_count": 6,
      "outputs": [
        {
          "output_type": "stream",
          "name": "stdout",
          "text": [
            "     March 1949\n",
            "Mo Tu We Th Fr Sa Su\n",
            "    1  2  3  4  5  6\n",
            " 7  8  9 10 11 12 13\n",
            "14 15 16 17 18 19 20\n",
            "21 22 23 24 25 26 27\n",
            "28 29 30 31\n",
            "\n"
          ]
        }
      ]
    },
    {
      "cell_type": "markdown",
      "source": [
        "코랩의 경우 다른 언어로 달력을 출력하려면 로케일을 추가한 후 런타임을 다시 실행해야 합니다."
      ],
      "metadata": {
        "id": "ssZGJvhce9La"
      }
    },
    {
      "cell_type": "code",
      "source": [
        "!/usr/share/locales/install-language-pack fr_FR\n",
        "!/usr/share/locales/install-language-pack pl_PL\n",
        "!/usr/share/locales/install-language-pack da_DK\n",
        "!dpkg-reconfigure locales\n",
        "\n",
        "# 런타임을 다시 시작합니다.\n",
        "import os\n",
        "os.kill(os.getpid(), 9)"
      ],
      "metadata": {
        "colab": {
          "base_uri": "https://localhost:8080/"
        },
        "id": "l0rv7H7ldP06",
        "outputId": "1c310cfc-76de-4204-8764-857fe1f8ff90"
      },
      "execution_count": null,
      "outputs": [
        {
          "output_type": "stream",
          "name": "stdout",
          "text": [
            "Generating locales (this might take a while)...\n",
            "Generation complete.\n",
            "\u001b[1mdpkg-trigger:\u001b[0m \u001b[1;31merror:\u001b[0m must be called from a maintainer script (or with a --by-package option)\n",
            "\n",
            "Type dpkg-trigger --help for help about this utility.\n",
            "Generating locales (this might take a while)...\n",
            "Generation complete.\n",
            "\u001b[1mdpkg-trigger:\u001b[0m \u001b[1;31merror:\u001b[0m must be called from a maintainer script (or with a --by-package option)\n",
            "\n",
            "Type dpkg-trigger --help for help about this utility.\n",
            "Generating locales (this might take a while)...\n",
            "Generation complete.\n",
            "\u001b[1mdpkg-trigger:\u001b[0m \u001b[1;31merror:\u001b[0m must be called from a maintainer script (or with a --by-package option)\n",
            "\n",
            "Type dpkg-trigger --help for help about this utility.\n",
            "Generating locales (this might take a while)...\n",
            "  da_DK.ISO-8859-1... done\n",
            "  en_US.UTF-8... done\n",
            "  fr_FR.ISO-8859-1... done\n",
            "  pl_PL.ISO-8859-2..."
          ]
        }
      ]
    },
    {
      "cell_type": "code",
      "source": [
        "import calendar as cal\n",
        "\n",
        "print(cal.LocaleTextCalendar(locale='fr_FR').formatmonth(2049, 3))\n",
        "print(cal.LocaleTextCalendar(locale='pl_PL').formatmonth(2049, 3))\n",
        "print(cal.LocaleTextCalendar(locale='da_DK').formatmonth(2049, 3))"
      ],
      "metadata": {
        "colab": {
          "base_uri": "https://localhost:8080/"
        },
        "id": "qWlEOqoGbnwy",
        "outputId": "6dfa5988-dfb9-4d4b-b45b-ef5eaa0c13d2"
      },
      "execution_count": 1,
      "outputs": [
        {
          "output_type": "stream",
          "name": "stdout",
          "text": [
            "     mars 2049\n",
            "lu ma me je ve sa di\n",
            " 1  2  3  4  5  6  7\n",
            " 8  9 10 11 12 13 14\n",
            "15 16 17 18 19 20 21\n",
            "22 23 24 25 26 27 28\n",
            "29 30 31\n",
            "\n",
            "     marca 2049\n",
            "po wt śr cz pi so ni\n",
            " 1  2  3  4  5  6  7\n",
            " 8  9 10 11 12 13 14\n",
            "15 16 17 18 19 20 21\n",
            "22 23 24 25 26 27 28\n",
            "29 30 31\n",
            "\n",
            "     marts 2049\n",
            "ma ti on to fr lø sø\n",
            " 1  2  3  4  5  6  7\n",
            " 8  9 10 11 12 13 14\n",
            "15 16 17 18 19 20 21\n",
            "22 23 24 25 26 27 28\n",
            "29 30 31\n",
            "\n"
          ]
        }
      ]
    },
    {
      "cell_type": "code",
      "source": [
        "print(cal.day_name[cal.weekday(2033, 12, 25)])"
      ],
      "metadata": {
        "colab": {
          "base_uri": "https://localhost:8080/"
        },
        "id": "Ov5AB9U7bxXe",
        "outputId": "3a6b2d55-fc3f-4abc-ea08-660182969970"
      },
      "execution_count": 2,
      "outputs": [
        {
          "output_type": "stream",
          "name": "stdout",
          "text": [
            "Sunday\n"
          ]
        }
      ]
    },
    {
      "cell_type": "code",
      "source": [
        "def find_thanksgiving(year):\n",
        "    month = cal.monthcalendar(year, 11)\n",
        "    if month[0][cal.THURSDAY] != 0:\n",
        "        thanksgiving = month[3][cal.THURSDAY]\n",
        "    else:\n",
        "        thanksgiving = month[4][cal.THURSDAY]\n",
        "    return thanksgiving\n",
        "\n",
        "print('2011년 미국 추수감사절은 11월',\n",
        "      find_thanksgiving(2011), '일 입니다')"
      ],
      "metadata": {
        "colab": {
          "base_uri": "https://localhost:8080/"
        },
        "id": "dme_l7lwgdtK",
        "outputId": "6181c2c3-222c-438f-89d8-f9597e70c93a"
      },
      "execution_count": 3,
      "outputs": [
        {
          "output_type": "stream",
          "name": "stdout",
          "text": [
            "2011년 미국 추수감사절은 11월 24 일 입니다\n"
          ]
        }
      ]
    },
    {
      "cell_type": "markdown",
      "source": [
        "**손가락 운동**"
      ],
      "metadata": {
        "id": "wO_Pa9fywFaK"
      }
    },
    {
      "cell_type": "code",
      "source": [
        "def shopping_days(year):\n",
        "    \"\"\"year >= 1941 입니다.\n",
        "       미국 추수감사절과 크리스마스 사이의 일수를 반환합니다\"\"\"\n",
        "    thanksgiving_day = find_thanksgiving(year)\n",
        "    return 30-thanksgiving_day+25-1\n",
        "\n",
        "shopping_days(2022)"
      ],
      "metadata": {
        "colab": {
          "base_uri": "https://localhost:8080/"
        },
        "id": "7wixGPX-wf6U",
        "outputId": "b50224b8-e47c-4232-9597-766399ebdd6d"
      },
      "execution_count": 4,
      "outputs": [
        {
          "output_type": "execute_result",
          "data": {
            "text/plain": [
              "30"
            ]
          },
          "metadata": {},
          "execution_count": 4
        }
      ]
    },
    {
      "cell_type": "markdown",
      "source": [
        "**손가락 운동**"
      ],
      "metadata": {
        "id": "8xNEy5TBxvOq"
      }
    },
    {
      "cell_type": "code",
      "source": [
        "def canadian_shopping_days(year):\n",
        "   month = cal.monthcalendar(year, 10)\n",
        "   if month[0][cal.MONDAY] != 0:\n",
        "       thanksgiving_day = month[1][cal.MONDAY]\n",
        "   else:\n",
        "       thanksgiving_day = month[2][cal.MONDAY]\n",
        "   return 31-thanksgiving_day+30+25-1\n",
        "\n",
        "canadian_shopping_days(2022)"
      ],
      "metadata": {
        "colab": {
          "base_uri": "https://localhost:8080/"
        },
        "id": "JQnc77rT0O7Y",
        "outputId": "b8e105a6-f327-4a97-c9ee-8b20cb126d88"
      },
      "execution_count": 5,
      "outputs": [
        {
          "output_type": "execute_result",
          "data": {
            "text/plain": [
              "75"
            ]
          },
          "metadata": {},
          "execution_count": 5
        }
      ]
    },
    {
      "cell_type": "markdown",
      "source": [
        "## 7.3 파일"
      ],
      "metadata": {
        "id": "nRYUSpn55nUZ"
      }
    },
    {
      "cell_type": "code",
      "source": [
        "name_handle = open('kids', 'w')"
      ],
      "metadata": {
        "id": "1_Flp9Zt5sL-"
      },
      "execution_count": 6,
      "outputs": []
    },
    {
      "cell_type": "code",
      "source": [
        "name_handle = open('kids', 'w')\n",
        "for i in range(2):\n",
        "    name = input('이름을 입력하세요: ')\n",
        "    name_handle.write(name + '\\n')\n",
        "name_handle.close()"
      ],
      "metadata": {
        "colab": {
          "base_uri": "https://localhost:8080/"
        },
        "id": "DVjHD4Ge0jD-",
        "outputId": "f2c0f785-4b03-4ed3-87bd-92de0eeaa16e"
      },
      "execution_count": 7,
      "outputs": [
        {
          "name": "stdout",
          "output_type": "stream",
          "text": [
            "이름을 입력하세요: David\n",
            "이름을 입력하세요: Andrea\n"
          ]
        }
      ]
    },
    {
      "cell_type": "code",
      "source": [
        "with open('kids', 'r') as name_handle:\n",
        "    for line in name_handle:\n",
        "        print(line)"
      ],
      "metadata": {
        "colab": {
          "base_uri": "https://localhost:8080/"
        },
        "id": "EB1JudTR55IX",
        "outputId": "451c848f-4f23-48ca-dbec-a33a1014e97d"
      },
      "execution_count": 8,
      "outputs": [
        {
          "output_type": "stream",
          "name": "stdout",
          "text": [
            "David\n",
            "\n",
            "Andrea\n",
            "\n"
          ]
        }
      ]
    },
    {
      "cell_type": "code",
      "source": [
        "name_handle = open('kids', 'w')\n",
        "name_handle.write('Michael')\n",
        "name_handle.write('Mark')\n",
        "name_handle.close()\n",
        "name_handle = open('kids', 'r')\n",
        "for line in name_handle:\n",
        "    print(line)"
      ],
      "metadata": {
        "colab": {
          "base_uri": "https://localhost:8080/"
        },
        "id": "ZTbeZuhz60RO",
        "outputId": "5e205045-4867-479a-d3d1-42328f8b48bc"
      },
      "execution_count": 9,
      "outputs": [
        {
          "output_type": "stream",
          "name": "stdout",
          "text": [
            "MichaelMark\n"
          ]
        }
      ]
    },
    {
      "cell_type": "code",
      "source": [
        "name_handle = open('kids', 'a')\n",
        "name_handle = open('kids', 'a')\n",
        "name_handle.write('David')\n",
        "name_handle.write('Andrea')\n",
        "name_handle.close()\n",
        "name_handle = open('kids', 'r')\n",
        "for line in name_handle:\n",
        "    print(line)"
      ],
      "metadata": {
        "colab": {
          "base_uri": "https://localhost:8080/"
        },
        "id": "l21bTBPE7sBA",
        "outputId": "e81402e3-13b6-4297-f1e7-f60529beaaa6"
      },
      "execution_count": 10,
      "outputs": [
        {
          "output_type": "stream",
          "name": "stdout",
          "text": [
            "MichaelMarkDavidAndrea\n"
          ]
        }
      ]
    },
    {
      "cell_type": "markdown",
      "source": [
        "**손가락 운동**"
      ],
      "metadata": {
        "id": "pX69QPV-_fat"
      }
    },
    {
      "cell_type": "code",
      "source": [
        "def fib2(n): \n",
        "    \"\"\"n은 정수이고 n >= 0이라고 가정합니다.\n",
        "       n의 피보나치 수열을 반환합니다\"\"\"\n",
        "    fs = [1, 1]\n",
        "    if n < 2:\n",
        "        return fs[n]\n",
        "    for i in range(1, n):\n",
        "        fs.append(fs[i-1] + fs[i])\n",
        "    return fs\n",
        "\n",
        "with open('fib_file', 'w') as f:\n",
        "    for i in fib2(9):\n",
        "        f.write(f'{i}\\n')\n",
        "\n",
        "with open('fib_file', 'r') as f:\n",
        "    for line in f:\n",
        "        print(line[:-1])"
      ],
      "metadata": {
        "colab": {
          "base_uri": "https://localhost:8080/"
        },
        "id": "vUZGp5mR_gcj",
        "outputId": "0b5d3aec-c7f2-4164-b99a-e259e2ec19a3"
      },
      "execution_count": 11,
      "outputs": [
        {
          "output_type": "stream",
          "name": "stdout",
          "text": [
            "1\n",
            "1\n",
            "2\n",
            "3\n",
            "5\n",
            "8\n",
            "13\n",
            "21\n",
            "34\n",
            "55\n"
          ]
        }
      ]
    }
  ]
}