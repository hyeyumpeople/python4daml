{
  "nbformat": 4,
  "nbformat_minor": 0,
  "metadata": {
    "colab": {
      "provenance": [],
      "collapsed_sections": [],
      "authorship_tag": "ABX9TyORBEoq2on8h/+M538devJa"
    },
    "kernelspec": {
      "name": "python3",
      "display_name": "Python 3"
    },
    "language_info": {
      "name": "python"
    }
  },
  "cells": [
    {
      "cell_type": "markdown",
      "source": [
        "<table align=\"left\"><tr><td>\n",
        "<a href=\"https://colab.research.google.com/github/rickiepark/python4daml/blob/main/9장.ipynb\" target=\"_parent\"><img src=\"https://colab.research.google.com/assets/colab-badge.svg\" alt=\"코랩에서 실행하기\"/></a>\n",
        "</td></tr></table>"
      ],
      "metadata": {
        "id": "3b02jyTMFO0q"
      }
    },
    {
      "cell_type": "markdown",
      "source": [
        "# 9장 예외와 어서션"
      ],
      "metadata": {
        "id": "ojlcxZz3FOo0"
      }
    },
    {
      "cell_type": "markdown",
      "source": [
        "## 9.1 예외 처리하기"
      ],
      "metadata": {
        "id": "7XoXjX0Hv2Lf"
      }
    },
    {
      "cell_type": "markdown",
      "source": [
        "**손가락 운동**"
      ],
      "metadata": {
        "id": "83v_8TEqXC00"
      }
    },
    {
      "cell_type": "code",
      "execution_count": 16,
      "metadata": {
        "id": "trBgADCtFM1G",
        "colab": {
          "base_uri": "https://localhost:8080/"
        },
        "outputId": "9d480e9e-9c51-4651-9ec8-90b7e5fc014c"
      },
      "outputs": [
        {
          "output_type": "execute_result",
          "data": {
            "text/plain": [
              "5"
            ]
          },
          "metadata": {},
          "execution_count": 16
        }
      ],
      "source": [
        "def sum_digits(s): \n",
        "    \"\"\"s는 문자열이라고 가정합니다.\n",
        "       s에 있는 숫자의 합을 반환합니다.\n",
        "       예를 들어 s가 'a2b3c'라면 5를 반환합니다\"\"\" \n",
        "    sum = 0\n",
        "    for i in s:\n",
        "        try:\n",
        "            sum += int(i)\n",
        "        except ValueError:\n",
        "            continue\n",
        "    return sum\n",
        "\n",
        "sum_digits('a2b3c')    "
      ]
    },
    {
      "cell_type": "markdown",
      "source": [],
      "metadata": {
        "id": "jqI7FwqFCQ6R"
      }
    },
    {
      "cell_type": "code",
      "source": [
        "def get_ratios(vect1, vect2): \n",
        "    \"\"\"가정: vect1와 vect2은 동일 길이의 숫자 리스트입니다.\n",
        "       반환: vect1[i]/vect2[i]의 값을 담은 리스트\"\"\" \n",
        "    ratios = [] \n",
        "    for index in range(len(vect1)): \n",
        "        try: \n",
        "            ratios.append(vect1[index]/vect2[index]) \n",
        "        except ZeroDivisionError: \n",
        "            ratios.append(float('nan')) #nan = Not a Number \n",
        "        except: \n",
        "            raise ValueError('잘못된 인수로 get_ratios가 호출되었습니다') \n",
        "    return ratios "
      ],
      "metadata": {
        "id": "tQz0RhsWYF5t"
      },
      "execution_count": 17,
      "outputs": []
    },
    {
      "cell_type": "code",
      "source": [
        "try: \n",
        "    print(get_ratios([1, 2, 7, 6], [1, 2, 0, 3])) \n",
        "    print(get_ratios([], [])) \n",
        "    print(get_ratios([1, 2], [3])) \n",
        "except ValueError as msg:\n",
        "    print(msg) "
      ],
      "metadata": {
        "colab": {
          "base_uri": "https://localhost:8080/"
        },
        "id": "JaA8u1RECKct",
        "outputId": "6d485075-cb54-410c-83e3-658c9cf6a363"
      },
      "execution_count": 18,
      "outputs": [
        {
          "output_type": "stream",
          "name": "stdout",
          "text": [
            "[1.0, 1.0, nan, 2.0]\n",
            "[]\n",
            "잘못된 인수로 get_ratios가 호출되었습니다\n"
          ]
        }
      ]
    },
    {
      "cell_type": "markdown",
      "source": [
        "그림 9-2 try-except를 사용하지 않은 제어 흐름"
      ],
      "metadata": {
        "id": "eu7ZC6YuCN20"
      }
    },
    {
      "cell_type": "code",
      "source": [
        "def get_ratios(vect1, vect2): \n",
        "    \"\"\"가정: vect1와 vect2은 동일 길이의 숫자 리스트입니다.\n",
        "       반환: vect1[i]/vect2[i]의 값을 담은 리스트\"\"\" \n",
        "    ratios = [] \n",
        "    if len(vect1) != len(vect2): \n",
        "        raise ValueError('잘못된 인수로 get_ratios가 호출되었습니다') \n",
        "    for index in range(len(vect1)): \n",
        "        vect1_elem = vect1[index] \n",
        "        vect2_elem = vect2[index] \n",
        "        if (type(vect1_elem) not in (int, float)) \\\n",
        "            or (type(vect2_elem) not in (int, float)): \n",
        "            raise ValueError('잘못된 인수로 get_ratios가 호출되었습니다') \n",
        "        if vect2_elem == 0: \n",
        "            ratios.append(float('NaN')) #NaN = Not a Number \n",
        "        else: \n",
        "            ratios.append(vect1_elem/vect2_elem) \n",
        "    return ratios "
      ],
      "metadata": {
        "id": "CM39RKseJILV"
      },
      "execution_count": 19,
      "outputs": []
    },
    {
      "cell_type": "code",
      "source": [
        "val = int(input('정수를 입력하세요: ')) \n",
        "print('입력한 정수의 제곱:', val**2)"
      ],
      "metadata": {
        "colab": {
          "base_uri": "https://localhost:8080/"
        },
        "id": "_Ryx-jz-kzAX",
        "outputId": "7822b8d7-75c2-47d5-f36d-2c01f19d6af1"
      },
      "execution_count": 21,
      "outputs": [
        {
          "output_type": "stream",
          "name": "stdout",
          "text": [
            "정수를 입력하세요: 3\n",
            "입력한 정수의 제곱: 9\n"
          ]
        }
      ]
    },
    {
      "cell_type": "code",
      "source": [
        "while True: \n",
        "    val = input('정수를 입력하세요: ') \n",
        "    try: \n",
        "        val = int(val) \n",
        "        print('입력한 정수의 제곱:', val**2) \n",
        "        break #while 루프를 벗어나기 위해\n",
        "    except ValueError: \n",
        "        print(val, '(은)는 정수가 아닙니다') "
      ],
      "metadata": {
        "colab": {
          "base_uri": "https://localhost:8080/"
        },
        "id": "N4vz3kWBmzLW",
        "outputId": "20e5b7ae-ee03-4875-ec99-4e1259738f9f"
      },
      "execution_count": 22,
      "outputs": [
        {
          "output_type": "stream",
          "name": "stdout",
          "text": [
            "정수를 입력하세요: abc\n",
            "abc (은)는 정수가 아닙니다\n",
            "정수를 입력하세요: 3\n",
            "입력한 정수의 제곱: 9\n"
          ]
        }
      ]
    },
    {
      "cell_type": "code",
      "source": [
        "def read_int(): \n",
        "    while True: \n",
        "        val = input('정수를 입력하세요: ') \n",
        "        try: \n",
        "            return(int(val)) #반환하기 전에 str을 int로 바꿉니다.\n",
        "        except ValueError: \n",
        "            print(val, '(은)는 정수가 아닙니다') "
      ],
      "metadata": {
        "id": "twepJgxxzjKT"
      },
      "execution_count": 23,
      "outputs": []
    },
    {
      "cell_type": "code",
      "source": [
        "def read_val(val_type, request_msg, error_msg): \n",
        "    while True: \n",
        "        val = input(request_msg + ' ') \n",
        "        try: \n",
        "            return(val_type(val)) #str을 val_type으로 바꿉니다.\n",
        "        except ValueError: \n",
        "            print(val, error_msg) "
      ],
      "metadata": {
        "id": "r29OEgTP3kxr"
      },
      "execution_count": 24,
      "outputs": []
    },
    {
      "cell_type": "code",
      "source": [
        "val = read_val(int, '정수를 입력하세요:', '(은)는 정수가 아닙니다') "
      ],
      "metadata": {
        "colab": {
          "base_uri": "https://localhost:8080/"
        },
        "id": "9mwE-jQ25FIz",
        "outputId": "cd51ddd8-0b93-4fa1-92a7-f1c006853af0"
      },
      "execution_count": 25,
      "outputs": [
        {
          "name": "stdout",
          "output_type": "stream",
          "text": [
            "정수를 입력하세요: abc\n",
            "abc (은)는 정수가 아닙니다\n",
            "정수를 입력하세요: 3\n"
          ]
        }
      ]
    },
    {
      "cell_type": "markdown",
      "source": [
        "## 9.2 제어 흐름 메커니즘으로 예외 사용하기"
      ],
      "metadata": {
        "id": "9Ybc03Tj5Fmw"
      }
    },
    {
      "cell_type": "markdown",
      "source": [
        "**손가락 운동**"
      ],
      "metadata": {
        "id": "HCjjMagh9Fgl"
      }
    },
    {
      "cell_type": "code",
      "source": [
        "def find_an_even(L): \n",
        "    \"\"\"L은 정수 리스트로 가정합니다. \n",
        "       L에 있는 첫 번째 짝수를 반환합니다.\n",
        "       L에 짝수가 없으면 ValueError 예외를 발생시킵니다\"\"\"\n",
        "    for i in L:\n",
        "        if i%2 == 0:\n",
        "            return i\n",
        "    raise ValueError('L에 짝수가 없습니다')"
      ],
      "metadata": {
        "id": "Q9ZexoOZA16p"
      },
      "execution_count": 26,
      "outputs": []
    },
    {
      "cell_type": "code",
      "source": [
        "find_an_even([1,2,3])"
      ],
      "metadata": {
        "colab": {
          "base_uri": "https://localhost:8080/"
        },
        "id": "n-CRkhfdBxEp",
        "outputId": "35921f61-9536-4b0e-bd7c-e1d3600216bc"
      },
      "execution_count": 27,
      "outputs": [
        {
          "output_type": "execute_result",
          "data": {
            "text/plain": [
              "2"
            ]
          },
          "metadata": {},
          "execution_count": 27
        }
      ]
    },
    {
      "cell_type": "code",
      "source": [
        "find_an_even([1,3,5])"
      ],
      "metadata": {
        "colab": {
          "base_uri": "https://localhost:8080/",
          "height": 277
        },
        "id": "JhvhgKTBB15H",
        "outputId": "4a916864-9e53-4572-e77c-0c68c8d4b5ce"
      },
      "execution_count": 28,
      "outputs": [
        {
          "output_type": "error",
          "ename": "ValueError",
          "evalue": "ignored",
          "traceback": [
            "\u001b[0;31m---------------------------------------------------------------------------\u001b[0m",
            "\u001b[0;31mValueError\u001b[0m                                Traceback (most recent call last)",
            "\u001b[0;32m<ipython-input-28-18a6414af90e>\u001b[0m in \u001b[0;36m<module>\u001b[0;34m\u001b[0m\n\u001b[0;32m----> 1\u001b[0;31m \u001b[0mfind_an_even\u001b[0m\u001b[0;34m(\u001b[0m\u001b[0;34m[\u001b[0m\u001b[0;36m1\u001b[0m\u001b[0;34m,\u001b[0m\u001b[0;36m3\u001b[0m\u001b[0;34m,\u001b[0m\u001b[0;36m5\u001b[0m\u001b[0;34m]\u001b[0m\u001b[0;34m)\u001b[0m\u001b[0;34m\u001b[0m\u001b[0;34m\u001b[0m\u001b[0m\n\u001b[0m",
            "\u001b[0;32m<ipython-input-26-6291c6532b1b>\u001b[0m in \u001b[0;36mfind_an_even\u001b[0;34m(L)\u001b[0m\n\u001b[1;32m      6\u001b[0m         \u001b[0;32mif\u001b[0m \u001b[0mi\u001b[0m\u001b[0;34m%\u001b[0m\u001b[0;36m2\u001b[0m \u001b[0;34m==\u001b[0m \u001b[0;36m0\u001b[0m\u001b[0;34m:\u001b[0m\u001b[0;34m\u001b[0m\u001b[0;34m\u001b[0m\u001b[0m\n\u001b[1;32m      7\u001b[0m             \u001b[0;32mreturn\u001b[0m \u001b[0mi\u001b[0m\u001b[0;34m\u001b[0m\u001b[0;34m\u001b[0m\u001b[0m\n\u001b[0;32m----> 8\u001b[0;31m     \u001b[0;32mraise\u001b[0m \u001b[0mValueError\u001b[0m\u001b[0;34m(\u001b[0m\u001b[0;34m'L에 짝수가 없습니다'\u001b[0m\u001b[0;34m)\u001b[0m\u001b[0;34m\u001b[0m\u001b[0;34m\u001b[0m\u001b[0m\n\u001b[0m",
            "\u001b[0;31mValueError\u001b[0m: L에 짝수가 없습니다"
          ]
        }
      ]
    },
    {
      "cell_type": "code",
      "source": [
        "# 코랩의 경우 이 셀을 실행하여 깃허브에서 예제 텍스트 파일을 다운로드합니다.\n",
        "!wget https://raw.githubusercontent.com/rickiepark/python4daml/main/quiz1grades.txt"
      ],
      "metadata": {
        "colab": {
          "base_uri": "https://localhost:8080/"
        },
        "id": "OhjpfmbfMk5c",
        "outputId": "29d1d14e-770d-435c-edd6-4a69c405f4eb"
      },
      "execution_count": 30,
      "outputs": [
        {
          "output_type": "stream",
          "name": "stdout",
          "text": [
            "--2022-10-28 06:06:05--  https://raw.githubusercontent.com/rickiepark/python4daml/main/quiz1grades.txt\n",
            "Resolving raw.githubusercontent.com (raw.githubusercontent.com)... 185.199.110.133, 185.199.111.133, 185.199.109.133, ...\n",
            "Connecting to raw.githubusercontent.com (raw.githubusercontent.com)|185.199.110.133|:443... connected.\n",
            "HTTP request sent, awaiting response... 200 OK\n",
            "Length: 302 [text/plain]\n",
            "Saving to: ‘quiz1grades.txt’\n",
            "\n",
            "\rquiz1grades.txt       0%[                    ]       0  --.-KB/s               \rquiz1grades.txt     100%[===================>]     302  --.-KB/s    in 0s      \n",
            "\n",
            "2022-10-28 06:06:05 (15.0 MB/s) - ‘quiz1grades.txt’ saved [302/302]\n",
            "\n"
          ]
        }
      ]
    },
    {
      "cell_type": "code",
      "source": [
        "def get_grades(fname):\n",
        "    grades = []\n",
        "    try:\n",
        "        with open(fname, 'r') as grades_file:\n",
        "            for line in grades_file:\n",
        "                try:\n",
        "                    grades.append(float(line))\n",
        "                except:\n",
        "                    raise ValueError('읽어들인 라인을 float로 바꿀 수 없습니다')\n",
        "    except IOError:\n",
        "        raise ValueError('get_grades가 다음 파일을 열 수 없습니다: ' + fname)\n",
        "    return grades\n",
        "\n",
        "try:\n",
        "    grades = get_grades('quiz1grades.txt')\n",
        "    grades.sort()\n",
        "    median = grades[len(grades)//2]\n",
        "    print('점수의 중앙값:', median)\n",
        "except ValueError as error_msg:\n",
        "    print('에러:', error_msg)"
      ],
      "metadata": {
        "colab": {
          "base_uri": "https://localhost:8080/"
        },
        "id": "3WaiAahxB7hd",
        "outputId": "302073fe-82de-4490-e967-ce3656f790f4"
      },
      "execution_count": 31,
      "outputs": [
        {
          "output_type": "stream",
          "name": "stdout",
          "text": [
            "점수의 중앙값: 83.0\n"
          ]
        }
      ]
    }
  ]
}