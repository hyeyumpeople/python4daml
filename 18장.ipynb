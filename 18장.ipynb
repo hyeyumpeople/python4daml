{
  "nbformat": 4,
  "nbformat_minor": 0,
  "metadata": {
    "colab": {
      "provenance": [],
      "authorship_tag": "ABX9TyNWhSsZ1N10qve8sOsSoLIt"
    },
    "kernelspec": {
      "name": "python3",
      "display_name": "Python 3"
    },
    "language_info": {
      "name": "python"
    }
  },
  "cells": [
    {
      "cell_type": "markdown",
      "source": [
        "# 18장 몬테 카를로 시뮬레이션"
      ],
      "metadata": {
        "id": "LZ9iezv3C7zV"
      }
    },
    {
      "cell_type": "markdown",
      "source": [
        "<table align=\"left\"><tr><td>\n",
        "<a href=\"https://colab.research.google.com/github/rickiepark/python4daml/blob/main/18장.ipynb\" target=\"_parent\"><img src=\"https://colab.research.google.com/assets/colab-badge.svg\" alt=\"코랩에서 실행하기\"/></a>\n",
        "</td></tr></table>"
      ],
      "metadata": {
        "id": "KPGY-MC0CsoF"
      }
    },
    {
      "cell_type": "markdown",
      "source": [
        "## 18.1 파스칼의 문제"
      ],
      "metadata": {
        "id": "pmScby1UHfZZ"
      }
    },
    {
      "cell_type": "code",
      "source": [
        "import random \n",
        "import numpy as np "
      ],
      "metadata": {
        "id": "rJkLQZZPbpXp"
      },
      "execution_count": 3,
      "outputs": []
    },
    {
      "cell_type": "code",
      "source": [
        "def roll_die(): \n",
        "    return random.choice([1,2,3,4,5,6]) \n",
        "\n",
        "def check_pascal(num_trials): \n",
        "    \"\"\"num_trials은 int > 0라고 가정합니다.\n",
        "       이길 확률을 출력합니다\"\"\" \n",
        "    num_wins = 0 \n",
        "    for i in range(num_trials): \n",
        "        for j in range(24): \n",
        "            d1 = roll_die() \n",
        "            d2 = roll_die() \n",
        "            if d1 == 6 and d2 == 6: \n",
        "                num_wins += 1 \n",
        "                break \n",
        "    print('이길 확률 =', num_wins/num_trials) "
      ],
      "metadata": {
        "id": "VgLdm648WreF"
      },
      "execution_count": 4,
      "outputs": []
    },
    {
      "cell_type": "code",
      "source": [
        "check_pascal(1000000)"
      ],
      "metadata": {
        "colab": {
          "base_uri": "https://localhost:8080/"
        },
        "id": "TWnerjeebodu",
        "outputId": "fb0cf5ab-6800-48c6-aa5d-52832bf32d2a"
      },
      "execution_count": 5,
      "outputs": [
        {
          "output_type": "stream",
          "name": "stdout",
          "text": [
            "이길 확률 = 0.491067\n"
          ]
        }
      ]
    },
    {
      "cell_type": "markdown",
      "source": [
        "## 18.2 Pass 또는 Don’t pass?"
      ],
      "metadata": {
        "id": "orqaE-UdbuGO"
      }
    },
    {
      "cell_type": "markdown",
      "source": [
        "그림 18-2 `Craps_game` 클래스"
      ],
      "metadata": {
        "id": "oi9PPoUnQ6SJ"
      }
    },
    {
      "cell_type": "code",
      "source": [
        "class Craps_game(object): \n",
        "    def __init__(self): \n",
        "        self.pass_wins, self.pass_losses = 0, 0 \n",
        "        self.dp_wins, self.dp_losses, self.dp_pushes = 0, 0, 0 \n",
        "\n",
        "    def play_hand(self): \n",
        "        throw = roll_die() + roll_die() \n",
        "        if throw == 7 or throw == 11: \n",
        "            self.pass_wins += 1 \n",
        "            self.dp_losses += 1 \n",
        "        elif throw == 2 or throw == 3 or throw == 12: \n",
        "            self.pass_losses += 1 \n",
        "            if throw == 12: \n",
        "                self.dp_pushes += 1 \n",
        "            else: \n",
        "                self.dp_wins += 1 \n",
        "        else: \n",
        "            point = throw \n",
        "            while True: \n",
        "                throw = roll_die() + roll_die() \n",
        "                if throw == point: \n",
        "                    self.pass_wins += 1 \n",
        "                    self.dp_losses += 1 \n",
        "                    break \n",
        "                elif throw == 7: \n",
        "                    self.pass_losses += 1 \n",
        "                    self.dp_wins += 1 \n",
        "                    break \n",
        "\n",
        "    def pass_results(self): \n",
        "        return (self.pass_wins, self.pass_losses) \n",
        "\n",
        "    def dp_results(self): \n",
        "        return (self.dp_wins, self.dp_losses, self.dp_pushes) "
      ],
      "metadata": {
        "id": "0LIM0DijQ5c5"
      },
      "execution_count": 6,
      "outputs": []
    },
    {
      "cell_type": "markdown",
      "source": [
        "그림 18-3 크랩스 게임 시뮬레이션하기"
      ],
      "metadata": {
        "id": "FQIhZL-2WGB_"
      }
    },
    {
      "cell_type": "code",
      "source": [
        "def craps_sim(hands_per_game, num_games): \n",
        "    \"\"\"hands_per_game과 num_games는 ints > 0이라고 가정합니다.\n",
        "       hands_per_game번 핸드를 반복하는 num_games번 게임을 플레이하고 결과를 출력합니다\"\"\"\n",
        "    games = [] \n",
        "\n",
        "    #num_games번 게임을 플레이합니다\n",
        "    for t in range(num_games): \n",
        "        c = Craps_game() \n",
        "        for i in range(hands_per_game): \n",
        "            c.play_hand() \n",
        "        games.append(c) \n",
        "\n",
        "    #각 게임에 대한 통계를 생성합니다\n",
        "    p_ROI_per_game, dp_ROI_per_game = [], [] \n",
        "    for g in games: \n",
        "        wins, losses = g.pass_results() \n",
        "        p_ROI_per_game.append((wins -losses)/float(hands_per_game)) \n",
        "        wins, losses, pushes = g.dp_results() \n",
        "        dp_ROI_per_game.append((wins -losses)/float(hands_per_game)) \n",
        "\n",
        "    #요약 통계를 만들어 출력합니다\n",
        "    mean_ROI = str(round((100*sum(p_ROI_per_game)/num_games), 4)) + '%' \n",
        "    sigma = str(round(100*np.std(p_ROI_per_game), 4)) + '%' \n",
        "    print('패스:', '평균 ROI =', mean_ROI, '표준 편차 =', sigma) \n",
        "    mean_ROI = str(round((100*sum(dp_ROI_per_game)/num_games), 4)) +'%' \n",
        "    sigma = str(round(100*np.std(dp_ROI_per_game), 4)) + '%' \n",
        "    print('돈 패스:','평균 ROI =', mean_ROI, '표준 편차 =', sigma) "
      ],
      "metadata": {
        "id": "7HVwJ3bRWGsu"
      },
      "execution_count": 7,
      "outputs": []
    },
    {
      "cell_type": "code",
      "source": [
        "craps_sim(20, 10)"
      ],
      "metadata": {
        "colab": {
          "base_uri": "https://localhost:8080/"
        },
        "id": "RE-paU7-XDkx",
        "outputId": "722cde5b-7978-4d77-fa58-8b86a03a42df"
      },
      "execution_count": 8,
      "outputs": [
        {
          "output_type": "stream",
          "name": "stdout",
          "text": [
            "패스: 평균 ROI = -8.0% 표준 편차 = 21.8174%\n",
            "돈 패스: 평균 ROI = 4.5% 표준 편차 = 22.6329%\n"
          ]
        }
      ]
    },
    {
      "cell_type": "code",
      "source": [],
      "metadata": {
        "id": "v_NGzXwWc2O0"
      },
      "execution_count": 8,
      "outputs": []
    }
  ]
}